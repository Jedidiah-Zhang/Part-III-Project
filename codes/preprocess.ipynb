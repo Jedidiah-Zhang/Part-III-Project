{
 "cells": [
  {
   "cell_type": "code",
   "execution_count": 3,
   "metadata": {},
   "outputs": [],
   "source": [
    "import numpy as np\n",
    "import matplotlib.pyplot as plt\n",
    "from matplotlib.pyplot import MultipleLocator\n",
    "import csv\n",
    "from chinese_calendar import is_holiday\n",
    "import datetime"
   ]
  },
  {
   "cell_type": "code",
   "execution_count": 4,
   "metadata": {},
   "outputs": [],
   "source": [
    "links = {}\n",
    "with open(\"../datasets/gy_link_info.txt\") as csvfile:\n",
    "    csv_reader = csv.reader(csvfile, delimiter=\";\")\n",
    "    header = next(csv_reader)\n",
    "    for row in csv_reader:\n",
    "        ID = row[0]\n",
    "        length = int(row[1])\n",
    "        width = int(row[2])\n",
    "        links[ID] = [length, width]"
   ]
  },
  {
   "cell_type": "code",
   "execution_count": 5,
   "metadata": {},
   "outputs": [],
   "source": [
    "data = []\n",
    "with open(\"../datasets/gy_link_top.txt\") as csvfile:\n",
    "    csv_reader = csv.reader(csvfile, delimiter=\";\")\n",
    "    header = next(csv_reader)\n",
    "    for row in csv_reader:\n",
    "        ID = row[0]\n",
    "        in_links = [-1 if link == \"\" else int(link) for link in row[1].split(\"#\")]\n",
    "        out_links = [0 if link == \"\" else int(link) for link in row[2].split(\"#\")]\n",
    "        data.append([ID, in_links, out_links])\n",
    "MAP = dict(zip([ID[0] for ID in data], [X[1:] for X in data]))"
   ]
  },
  {
   "cell_type": "code",
   "execution_count": 71,
   "metadata": {},
   "outputs": [],
   "source": [
    "def load_data(filename):\n",
    "    data = []\n",
    "    with open(filename) as csvfile:\n",
    "        csv_reader = csv.reader(csvfile, delimiter=\";\")\n",
    "        next(csvfile)\n",
    "        for row in csv_reader:\n",
    "            ID = row[0]\n",
    "            date = [int(x) for x in row[1].split(\"-\")]\n",
    "            [start, end] = row[2].split(\",\")\n",
    "            time_interval = [int(i) for i in start[12:].split(\":\")]\n",
    "            travel_time = float(row[3])\n",
    "            data.append([ID, date[0], date[1], date[2], time_interval[0] * 60 + time_interval[1] + 1, travel_time])\n",
    "    return data"
   ]
  },
  {
   "cell_type": "code",
   "execution_count": 72,
   "metadata": {},
   "outputs": [],
   "source": [
    "row_data1 = load_data(\"../datasets/gy_link_travel_time_part1.txt\")"
   ]
  },
  {
   "cell_type": "code",
   "execution_count": 10,
   "metadata": {},
   "outputs": [],
   "source": [
    "def sort_samples_by_link(data):\n",
    "    sorted_data = {}\n",
    "    for record in data:\n",
    "        if record[0] in sorted_data.keys():\n",
    "            sorted_data[record[0]].append(record[1:])\n",
    "        else: sorted_data[record[0]] = [record[1:]]\n",
    "    return sorted_data"
   ]
  },
  {
   "cell_type": "code",
   "execution_count": 11,
   "metadata": {},
   "outputs": [],
   "source": [
    "SortedRowDataByLink1 = sort_samples_by_link(row_data1)\n",
    "SortedRowDataByLink2 = sort_samples_by_link(row_data2)\n",
    "SortedRowDataByLink3 = sort_samples_by_link(row_data3)"
   ]
  },
  {
   "cell_type": "code",
   "execution_count": 12,
   "metadata": {},
   "outputs": [
    {
     "data": {
      "text/plain": [
       "132"
      ]
     },
     "execution_count": 12,
     "metadata": {},
     "output_type": "execute_result"
    }
   ],
   "source": [
    "len(list(SortedRowDataByLink1.keys()))"
   ]
  },
  {
   "cell_type": "code",
   "execution_count": 13,
   "metadata": {},
   "outputs": [],
   "source": [
    "def sort_samples_by_time(data):\n",
    "    sorted_data = {}\n",
    "    for links in data:\n",
    "        sorted_data[links] = sorted(data[links], key=lambda x: (x[0]-2016)*500000 + x[1]*45000 + x[2]*1440 + x[3])\n",
    "    return sorted_data"
   ]
  },
  {
   "cell_type": "code",
   "execution_count": 14,
   "metadata": {},
   "outputs": [],
   "source": [
    "SortedRowDataByTime1 = sort_samples_by_time(SortedRowDataByLink1)\n",
    "SortedRowDataByTime2 = sort_samples_by_time(SortedRowDataByLink2)\n",
    "SortedRowDataByTime3 = sort_samples_by_time(SortedRowDataByLink3)"
   ]
  },
  {
   "cell_type": "code",
   "execution_count": 15,
   "metadata": {},
   "outputs": [],
   "source": [
    "def is_weekend(day):\n",
    "    if (day.weekday() == 4 or day.weekday() == 5):\n",
    "        return True\n",
    "    else: return False"
   ]
  },
  {
   "cell_type": "code",
   "execution_count": 16,
   "metadata": {},
   "outputs": [],
   "source": [
    "def feature_expand(data):\n",
    "    expanded_data = {}\n",
    "\n",
    "    for each in data:\n",
    "        expanded_data[each] = np.zeros((len(data[each]), 75))\n",
    "        for i in range(len(data[each])):\n",
    "            day = datetime.date(data[each][i][0], data[each][i][1], data[each][i][2])\n",
    "\n",
    "            # year\n",
    "            year = data[each][i][0] - 2016\n",
    "            expanded_data[each][i, 0] = year\n",
    "            \n",
    "            # month\n",
    "            expanded_data[each][i, data[each][i][1]-2] = 1\n",
    "\n",
    "            # weekday\n",
    "            expanded_data[each][i, 6 + day.weekday()] = 1\n",
    "\n",
    "            # day of month\n",
    "            expanded_data[each][i, 13 + data[each][i][2]-1] = 1\n",
    "\n",
    "            # hour of day\n",
    "            expanded_data[each][i, 44 + (data[each][i][3]//60)] = 1\n",
    "\n",
    "            # time_of_day\n",
    "            expanded_data[each][i, 68] = data[each][i][3]\n",
    "\n",
    "            # is_holiday\n",
    "            expanded_data[each][i, 69] = int(is_holiday(day))\n",
    "\n",
    "            # is_weekend\n",
    "            expanded_data[each][i, 70] = int(is_weekend(day))\n",
    "\n",
    "            # width\n",
    "            expanded_data[each][i, 71] = links[each][1]\n",
    "\n",
    "            # length\n",
    "            expanded_data[each][i, 72] = links[each][0]\n",
    "\n",
    "            # speed\n",
    "            expanded_data[each][i, 73] = links[each][0] / data[each][i][4]\n",
    "\n",
    "            # travel_time\n",
    "            expanded_data[each][i, 74] = data[each][i][4]\n",
    "\n",
    "    return expanded_data"
   ]
  },
  {
   "cell_type": "code",
   "execution_count": 20,
   "metadata": {},
   "outputs": [],
   "source": [
    "ExpandedData1 = feature_expand(SortedRowDataByTime1)\n",
    "ExpandedData2 = feature_expand(SortedRowDataByTime2)\n",
    "ExpandedData3 = feature_expand(SortedRowDataByTime3)"
   ]
  },
  {
   "cell_type": "code",
   "execution_count": 21,
   "metadata": {},
   "outputs": [
    {
     "name": "stdout",
     "output_type": "stream",
     "text": [
      "(63305, 75)\n",
      "(62490, 75)\n",
      "(56926, 75)\n",
      "(54646, 75)\n",
      "(56841, 75)\n",
      "(53224, 75)\n",
      "(65195, 75)\n",
      "(58451, 75)\n",
      "(63039, 75)\n",
      "(60698, 75)\n",
      "(58921, 75)\n",
      "(62121, 75)\n",
      "(57222, 75)\n",
      "(56309, 75)\n",
      "(64039, 75)\n",
      "(62544, 75)\n",
      "(66134, 75)\n",
      "(62383, 75)\n",
      "(59739, 75)\n",
      "(48605, 75)\n",
      "(57727, 75)\n",
      "(61501, 75)\n",
      "(57767, 75)\n",
      "(58594, 75)\n",
      "(61626, 75)\n",
      "(61500, 75)\n",
      "(56631, 75)\n",
      "(62293, 75)\n",
      "(57249, 75)\n",
      "(62826, 75)\n",
      "(62288, 75)\n",
      "(55589, 75)\n",
      "(64158, 75)\n",
      "(57284, 75)\n",
      "(54523, 75)\n",
      "(62312, 75)\n",
      "(61629, 75)\n",
      "(61587, 75)\n",
      "(53887, 75)\n",
      "(54336, 75)\n",
      "(63641, 75)\n",
      "(45168, 75)\n",
      "(63184, 75)\n",
      "(53398, 75)\n",
      "(64592, 75)\n",
      "(63646, 75)\n",
      "(57449, 75)\n",
      "(51559, 75)\n",
      "(59865, 75)\n",
      "(57331, 75)\n",
      "(61067, 75)\n",
      "(64403, 75)\n",
      "(63395, 75)\n",
      "(63795, 75)\n",
      "(64178, 75)\n",
      "(50787, 75)\n",
      "(56393, 75)\n",
      "(66501, 75)\n",
      "(55391, 75)\n",
      "(60977, 75)\n",
      "(52407, 75)\n",
      "(60403, 75)\n",
      "(41392, 75)\n",
      "(66152, 75)\n",
      "(62692, 75)\n",
      "(62229, 75)\n",
      "(48315, 75)\n",
      "(61927, 75)\n",
      "(63517, 75)\n",
      "(52902, 75)\n",
      "(62814, 75)\n",
      "(55243, 75)\n",
      "(48825, 75)\n",
      "(60498, 75)\n",
      "(64434, 75)\n",
      "(64286, 75)\n",
      "(62070, 75)\n",
      "(59415, 75)\n",
      "(57154, 75)\n",
      "(59501, 75)\n",
      "(63123, 75)\n",
      "(64629, 75)\n",
      "(58903, 75)\n",
      "(45757, 75)\n",
      "(60864, 75)\n",
      "(63787, 75)\n",
      "(60109, 75)\n",
      "(62218, 75)\n",
      "(65181, 75)\n",
      "(61848, 75)\n",
      "(60592, 75)\n",
      "(59303, 75)\n",
      "(61351, 75)\n",
      "(61890, 75)\n",
      "(36197, 75)\n",
      "(63029, 75)\n",
      "(65173, 75)\n",
      "(61121, 75)\n",
      "(37296, 75)\n",
      "(32227, 75)\n",
      "(62850, 75)\n",
      "(61254, 75)\n",
      "(63957, 75)\n",
      "(61105, 75)\n",
      "(56906, 75)\n",
      "(64675, 75)\n",
      "(56048, 75)\n",
      "(55843, 75)\n",
      "(62487, 75)\n",
      "(64886, 75)\n",
      "(64432, 75)\n",
      "(33059, 75)\n",
      "(45604, 75)\n",
      "(63210, 75)\n",
      "(64758, 75)\n",
      "(61615, 75)\n",
      "(63605, 75)\n",
      "(62179, 75)\n",
      "(62783, 75)\n",
      "(60050, 75)\n",
      "(63098, 75)\n",
      "(55261, 75)\n",
      "(64804, 75)\n",
      "(63481, 75)\n",
      "(47000, 75)\n",
      "(63068, 75)\n",
      "(55507, 75)\n",
      "(59800, 75)\n",
      "(63640, 75)\n",
      "(47911, 75)\n",
      "(4579, 75)\n",
      "(7296, 75)\n"
     ]
    }
   ],
   "source": [
    "for each in ExpandedData1.keys():\n",
    "    print(ExpandedData1[each].shape)"
   ]
  },
  {
   "cell_type": "code",
   "execution_count": 24,
   "metadata": {},
   "outputs": [],
   "source": [
    "def save_expanded_data(data, filename):\n",
    "    with open(\"../datasets/%s.csv\" % (filename), \"w\", newline=\"\") as f:\n",
    "        csv_writer = csv.writer(f)\n",
    "        for each in data:\n",
    "            for i in range(len(data[each])):\n",
    "                row = [each]\n",
    "                row.extend(data[each][i])\n",
    "                csv_writer.writerow(row)"
   ]
  },
  {
   "cell_type": "markdown",
   "metadata": {},
   "source": [
    "## 08/02/2024"
   ]
  },
  {
   "cell_type": "code",
   "execution_count": 1,
   "metadata": {},
   "outputs": [],
   "source": [
    "from functions import *"
   ]
  },
  {
   "cell_type": "markdown",
   "metadata": {},
   "source": [
    "## Input data structure:\n",
    "target shape: (num_of_records, num_of_links, num_of_features), in time sequence\n",
    "\n",
    "features: year, month, is_weekday, is_holiday, is_rush_hour, (is_missing,) link_width, average_speed\n"
   ]
  },
  {
   "cell_type": "code",
   "execution_count": 2,
   "metadata": {},
   "outputs": [],
   "source": [
    "links = getStaticLinkData()"
   ]
  },
  {
   "cell_type": "code",
   "execution_count": 3,
   "metadata": {},
   "outputs": [],
   "source": [
    "adj_matrix = getSpatialData()"
   ]
  },
  {
   "cell_type": "code",
   "execution_count": 4,
   "metadata": {},
   "outputs": [],
   "source": [
    "samples = getTemporalData()"
   ]
  },
  {
   "cell_type": "code",
   "execution_count": 5,
   "metadata": {},
   "outputs": [],
   "source": [
    "start_time = datetime(2016, 3, 1)\n",
    "end_time = datetime(2016, 6, 1)"
   ]
  },
  {
   "cell_type": "code",
   "execution_count": 6,
   "metadata": {},
   "outputs": [],
   "source": [
    "sortedData = sortLinks(samples, start_time, end_time, links[:, 1], True)"
   ]
  },
  {
   "cell_type": "code",
   "execution_count": 7,
   "metadata": {},
   "outputs": [],
   "source": [
    "def generateInOutSeq(\n",
    "        data : tf.Tensor, \n",
    "        spac_data : tf.Tensor, \n",
    "        stat_data : tf.Tensor,\n",
    "        in_length : int, \n",
    "        out_length : int, \n",
    "        batch_size : int):\n",
    "    '''\n",
    "    data shape: [in_length + b + out_length, 132, 18]\n",
    "    in (x) shape: [b, in_length, 132, 18]\n",
    "    out (y) shape: [b, out_length, 132, 1] -> [b, out_length, 132]\n",
    "    '''\n",
    "    b = data.shape[0] - in_length - out_length\n",
    "    while True:\n",
    "        for i in range(0, b, batch_size):\n",
    "            x_batch = np.zeros((batch_size, in_length, data.shape[1], data.shape[2]))\n",
    "            y_batch = np.zeros((batch_size, out_length, data.shape[1]))\n",
    "            for j in range(min(batch_size, b - i)):\n",
    "                current = i + j\n",
    "                x_batch[j] = data[current:current+in_length]\n",
    "                y_batch[j] = data[current+in_length:current+in_length+out_length, :, -1]\n",
    "            yield ((\n",
    "                x_batch, \n",
    "                tf.broadcast_to(spac_data, [batch_size, ] + spac_data.shape), \n",
    "                tf.broadcast_to(stat_data, [batch_size, ] + stat_data.shape)\n",
    "                ), y_batch\n",
    "            )"
   ]
  },
  {
   "cell_type": "code",
   "execution_count": 8,
   "metadata": {},
   "outputs": [],
   "source": [
    "spac_data = adj_matrix[0]\n",
    "stat_data = tf.reshape(links[:, 2], (links.shape[0], 1))"
   ]
  },
  {
   "cell_type": "code",
   "execution_count": 9,
   "metadata": {},
   "outputs": [],
   "source": [
    "temp_train = sortedData[:-VALIDATION_LEN-TEST_LEN]\n",
    "temp_valid = sortedData[-VALIDATION_LEN-TEST_LEN:-TEST_LEN]\n",
    "temp_test = sortedData[-TEST_LEN:]"
   ]
  },
  {
   "cell_type": "code",
   "execution_count": 10,
   "metadata": {},
   "outputs": [],
   "source": [
    "train_generator = generateInOutSeq(temp_train, spac_data, stat_data, INPUT_LENGTH, PRIDICT_LENGTH, BATCH_SIZE)\n",
    "validation_generator = generateInOutSeq(temp_valid, spac_data, stat_data, INPUT_LENGTH, PRIDICT_LENGTH, BATCH_SIZE)\n",
    "test_generator = generateInOutSeq(temp_test, spac_data, stat_data, INPUT_LENGTH, PRIDICT_LENGTH, BATCH_SIZE)"
   ]
  },
  {
   "cell_type": "code",
   "execution_count": 11,
   "metadata": {},
   "outputs": [],
   "source": [
    "class STLSTM(keras.Model):\n",
    "    def __init__(self, temporal_input_shape, spatial_input_shape, static_input_shape, output_shape):\n",
    "        super(STLSTM, self).__init__()\n",
    "\n",
    "        # [30, 132, 18]\n",
    "        self.temporal_inputs = layers.Input(\n",
    "            shape=temporal_input_shape,\n",
    "            name=\"temporal_inputs\"\n",
    "        )\n",
    "        # [132, 132]\n",
    "        self.spatial_inputs = layers.Input(\n",
    "            shape=spatial_input_shape,\n",
    "            name=\"spatial_inputs\"\n",
    "        )\n",
    "        # [132, 1]\n",
    "        self.static_inputs = layers.Input(\n",
    "            shape=static_input_shape,\n",
    "            name=\"static_inputs\"\n",
    "        )\n",
    "\n",
    "        self.conv2d_temp = layers.Conv2D(\n",
    "            filters=1, \n",
    "            kernel_size=(1, 1), \n",
    "            activation='relu',\n",
    "            name=\"Conv2D_Temporal\"\n",
    "        )\n",
    "        # self.pooling_tem = layers.MaxPool2D(pool_size=(3, 3), name=\"Pooling_Temporal\")\n",
    "\n",
    "        self.reshape_temp = layers.Reshape(\n",
    "            target_shape=(temporal_input_shape[0], temporal_input_shape[1]),\n",
    "            name=\"Reshape_Temporal\"\n",
    "        )\n",
    "\n",
    "        self.lstm = keras.Sequential([\n",
    "            layers.LSTM(units=100, dropout=0.5, return_sequences=True),\n",
    "            layers.LSTM(units=100, dropout=0.5, return_sequences=True),\n",
    "            layers.LSTM(units=100, dropout=0.5)\n",
    "            ], name=\"LSTM_Layers\"\n",
    "        )\n",
    "\n",
    "        self.dense_temp = keras.Sequential([\n",
    "            layers.Dense(units=1000, activation='relu'),\n",
    "            layers.Dense(units=output_shape[0]*output_shape[1], activation='relu')\n",
    "        ], name=\"Dense_Temporal\"\n",
    "        )\n",
    "\n",
    "        # self.dense_temp = layers.Dense(\n",
    "        #     units=output_shape[0] * output_shape[1], \n",
    "        #     activation='relu',\n",
    "        #     name=\"Dense_Temporal\"\n",
    "        # )\n",
    "\n",
    "        self.reshape_temp2 = layers.Reshape(\n",
    "            target_shape=(output_shape[0], output_shape[1], 1),\n",
    "            name=\"Reshape_Temporal_2\"\n",
    "        )\n",
    "\n",
    "        self.conv2d_spat = layers.Conv2D(\n",
    "            filters=1, \n",
    "            kernel_size=(1, 1), \n",
    "            activation='relu',\n",
    "            name=\"Conv2D_Spatial\"\n",
    "        )\n",
    "\n",
    "        self.flatten_spat = layers.Flatten()\n",
    "        self.repeat_spat = layers.RepeatVector(output_shape[0])\n",
    "        self.reshape_spat = layers.Reshape(\n",
    "            target_shape=(output_shape[0], spatial_input_shape[0], spatial_input_shape[1]), \n",
    "            name=\"Reshape_Spatial\")\n",
    "\n",
    "        self.flatten_stat = layers.Flatten()\n",
    "        self.repeat_stat = layers.RepeatVector(output_shape[0])\n",
    "        self.reshape_stat = layers.Reshape(\n",
    "            target_shape=(output_shape[0], static_input_shape[0], static_input_shape[1]), \n",
    "            name=\"Reshape_Static\")\n",
    "\n",
    "        self.concatenate = layers.Concatenate(axis=-1, name=\"Concatenate\")\n",
    "\n",
    "        self.flatten_out = layers.Flatten()\n",
    "\n",
    "        self.dense_out = layers.Dense(\n",
    "            units=output_shape[0] * output_shape[1], \n",
    "            activation='relu',\n",
    "            name=\"Dense_Output\"\n",
    "        )\n",
    "        \n",
    "        self.reshape_out = layers.Reshape(\n",
    "            target_shape=(output_shape[0], output_shape[1]),\n",
    "            name=\"Reshape_Output\"\n",
    "        )\n",
    "    \n",
    "    def call(self, inputs, training=None):\n",
    "        temp = inputs[0]    # [30, 132, 18]\n",
    "        spat = inputs[1]    # [132, 132]\n",
    "        stat = inputs[2]    # [132, 1]\n",
    "        \n",
    "        # [30, 132, 19] -> [30, 132]\n",
    "        temp = self.conv2d_temp(temp)\n",
    "        temp = self.reshape_temp(temp)\n",
    "\n",
    "        # [30, 132] -> [100]\n",
    "        temp = self.lstm(temp)\n",
    "\n",
    "        # [100] -> [15 * 132] -> [15, 132, 1]\n",
    "        temp = self.dense_temp(temp)\n",
    "        temp = self.reshape_temp2(temp)\n",
    "\n",
    "        # [132, 132] -> [15, 132, 132]\n",
    "        spat = self.flatten_spat(spat)\n",
    "        spat = self.repeat_spat(spat)\n",
    "        spat = self.reshape_spat(spat)\n",
    "        # spat = self.conv2d_spat(spat)\n",
    "\n",
    "        # spat_temp = tf.matmul(spat, temp)\n",
    "\n",
    "        # [132, 1] -> [15, 132, 1]\n",
    "        stat = self.flatten_stat(stat)\n",
    "        stat = self.repeat_stat(stat)\n",
    "        stat = self.reshape_stat(stat)\n",
    "\n",
    "        # [15, 132, 1] + [15, 132, 1] + [15, 132, 1]\n",
    "        al = self.concatenate([spat, temp, stat])\n",
    "\n",
    "        al = self.conv2d_spat(al)\n",
    "\n",
    "        # [15, 132, 3] -> [15 * 132 * 3] -> [15 * 132] -> [15, 132]\n",
    "        # al = self.flatten_out(al)\n",
    "        # al = self.dense_out(al)\n",
    "        # al = self.conv2d_spat(al)\n",
    "        al = self.reshape_out(al)\n",
    "\n",
    "        return al"
   ]
  },
  {
   "cell_type": "code",
   "execution_count": 12,
   "metadata": {},
   "outputs": [],
   "source": [
    "def createModel(temporal_shape, spatial_shape, static_shape, output_shape, loss=losses.MeanSquaredError()):\n",
    "    model = STLSTM(\n",
    "        temporal_input_shape=temporal_shape,\n",
    "        spatial_input_shape=spatial_shape,\n",
    "        static_input_shape=static_shape,\n",
    "        output_shape=output_shape\n",
    "    )\n",
    "\n",
    "    model.build(input_shape=[(None, )+temporal_shape, (None, )+spatial_shape, (None, )+static_shape])\n",
    "    model.compile(optimizer='adam', loss=loss)\n",
    "    return model"
   ]
  },
  {
   "cell_type": "code",
   "execution_count": 13,
   "metadata": {},
   "outputs": [
    {
     "name": "stdout",
     "output_type": "stream",
     "text": [
      "Model: \"stlstm\"\n",
      "_________________________________________________________________\n",
      " Layer (type)                Output Shape              Param #   \n",
      "=================================================================\n",
      " Conv2D_Temporal (Conv2D)    multiple                  19        \n",
      "                                                                 \n",
      " Reshape_Temporal (Reshape)  multiple                  0         \n",
      "                                                                 \n",
      " LSTM_Layers (Sequential)    (None, 100)               254000    \n",
      "                                                                 \n",
      " Dense_Temporal (Sequential  (None, 1980)              2082980   \n",
      " )                                                               \n",
      "                                                                 \n",
      " Reshape_Temporal_2 (Reshap  multiple                  0         \n",
      " e)                                                              \n",
      "                                                                 \n",
      " Conv2D_Spatial (Conv2D)     multiple                  135       \n",
      "                                                                 \n",
      " flatten (Flatten)           multiple                  0         \n",
      "                                                                 \n",
      " repeat_vector (RepeatVecto  multiple                  0         \n",
      " r)                                                              \n",
      "                                                                 \n",
      " Reshape_Spatial (Reshape)   multiple                  0         \n",
      "                                                                 \n",
      " flatten_1 (Flatten)         multiple                  0         \n",
      "                                                                 \n",
      " repeat_vector_1 (RepeatVec  multiple                  0         \n",
      " tor)                                                            \n",
      "                                                                 \n",
      " Reshape_Static (Reshape)    multiple                  0         \n",
      "                                                                 \n",
      " Concatenate (Concatenate)   multiple                  0         \n",
      "                                                                 \n",
      " flatten_2 (Flatten)         multiple                  0 (unused)\n",
      "                                                                 \n",
      " Dense_Output (Dense)        multiple                  0 (unused)\n",
      "                                                                 \n",
      " Reshape_Output (Reshape)    multiple                  0         \n",
      "                                                                 \n",
      "=================================================================\n",
      "Total params: 2337134 (8.92 MB)\n",
      "Trainable params: 2337134 (8.92 MB)\n",
      "Non-trainable params: 0 (0.00 Byte)\n",
      "_________________________________________________________________\n"
     ]
    }
   ],
   "source": [
    "model = createModel((30, 132, 18), (132, 132), (132, 1), (15, 132))\n",
    "model.summary()"
   ]
  },
  {
   "cell_type": "code",
   "execution_count": 14,
   "metadata": {},
   "outputs": [
    {
     "name": "stdout",
     "output_type": "stream",
     "text": [
      "Epoch 1/100\n"
     ]
    },
    {
     "name": "stderr",
     "output_type": "stream",
     "text": [
      "WARNING: All log messages before absl::InitializeLog() is called are written to STDERR\n",
      "I0000 00:00:1713745604.603200   61714 device_compiler.h:186] Compiled cluster using XLA!  This line is logged at most once for the lifetime of the process.\n"
     ]
    },
    {
     "name": "stdout",
     "output_type": "stream",
     "text": [
      "40/62 [==================>...........] - ETA: 6s - loss: 0.0041"
     ]
    },
    {
     "ename": "KeyboardInterrupt",
     "evalue": "",
     "output_type": "error",
     "traceback": [
      "\u001b[0;31m---------------------------------------------------------------------------\u001b[0m",
      "\u001b[0;31mKeyboardInterrupt\u001b[0m                         Traceback (most recent call last)",
      "Cell \u001b[0;32mIn[14], line 2\u001b[0m\n\u001b[1;32m      1\u001b[0m earlystop \u001b[38;5;241m=\u001b[39m callbacks\u001b[38;5;241m.\u001b[39mEarlyStopping(monitor\u001b[38;5;241m=\u001b[39m\u001b[38;5;124m'\u001b[39m\u001b[38;5;124mloss\u001b[39m\u001b[38;5;124m'\u001b[39m, min_delta\u001b[38;5;241m=\u001b[39m\u001b[38;5;241m0\u001b[39m, patience\u001b[38;5;241m=\u001b[39m\u001b[38;5;241m3\u001b[39m, verbose\u001b[38;5;241m=\u001b[39m\u001b[38;5;241m1\u001b[39m, restore_best_weights\u001b[38;5;241m=\u001b[39m\u001b[38;5;28;01mTrue\u001b[39;00m)\n\u001b[0;32m----> 2\u001b[0m history \u001b[38;5;241m=\u001b[39m \u001b[43mmodel\u001b[49m\u001b[38;5;241;43m.\u001b[39;49m\u001b[43mfit\u001b[49m\u001b[43m(\u001b[49m\n\u001b[1;32m      3\u001b[0m \u001b[43m    \u001b[49m\u001b[43mtrain_generator\u001b[49m\u001b[43m,\u001b[49m\u001b[43m \u001b[49m\n\u001b[1;32m      4\u001b[0m \u001b[43m    \u001b[49m\u001b[43msteps_per_epoch\u001b[49m\u001b[38;5;241;43m=\u001b[39;49m\u001b[43mtemp_train\u001b[49m\u001b[38;5;241;43m.\u001b[39;49m\u001b[43mshape\u001b[49m\u001b[43m[\u001b[49m\u001b[38;5;241;43m0\u001b[39;49m\u001b[43m]\u001b[49m\u001b[43m \u001b[49m\u001b[38;5;241;43m/\u001b[39;49m\u001b[38;5;241;43m/\u001b[39;49m\u001b[43m \u001b[49m\u001b[43mBATCH_SIZE\u001b[49m\u001b[43m,\u001b[49m\u001b[43m \u001b[49m\n\u001b[1;32m      5\u001b[0m \u001b[43m    \u001b[49m\u001b[43mepochs\u001b[49m\u001b[38;5;241;43m=\u001b[39;49m\u001b[38;5;241;43m100\u001b[39;49m\u001b[43m,\u001b[49m\u001b[43m \u001b[49m\n\u001b[1;32m      6\u001b[0m \u001b[43m    \u001b[49m\u001b[43mcallbacks\u001b[49m\u001b[38;5;241;43m=\u001b[39;49m\u001b[43mearlystop\u001b[49m\u001b[43m,\u001b[49m\u001b[43m \u001b[49m\n\u001b[1;32m      7\u001b[0m \u001b[43m    \u001b[49m\u001b[43mvalidation_data\u001b[49m\u001b[38;5;241;43m=\u001b[39;49m\u001b[38;5;28;43mnext\u001b[39;49m\u001b[43m(\u001b[49m\u001b[43mvalidation_generator\u001b[49m\u001b[43m)\u001b[49m\n\u001b[1;32m      8\u001b[0m \u001b[43m)\u001b[49m\n",
      "File \u001b[0;32m~/.local/lib/python3.10/site-packages/keras/src/utils/traceback_utils.py:65\u001b[0m, in \u001b[0;36mfilter_traceback.<locals>.error_handler\u001b[0;34m(*args, **kwargs)\u001b[0m\n\u001b[1;32m     63\u001b[0m filtered_tb \u001b[38;5;241m=\u001b[39m \u001b[38;5;28;01mNone\u001b[39;00m\n\u001b[1;32m     64\u001b[0m \u001b[38;5;28;01mtry\u001b[39;00m:\n\u001b[0;32m---> 65\u001b[0m     \u001b[38;5;28;01mreturn\u001b[39;00m \u001b[43mfn\u001b[49m\u001b[43m(\u001b[49m\u001b[38;5;241;43m*\u001b[39;49m\u001b[43margs\u001b[49m\u001b[43m,\u001b[49m\u001b[43m \u001b[49m\u001b[38;5;241;43m*\u001b[39;49m\u001b[38;5;241;43m*\u001b[39;49m\u001b[43mkwargs\u001b[49m\u001b[43m)\u001b[49m\n\u001b[1;32m     66\u001b[0m \u001b[38;5;28;01mexcept\u001b[39;00m \u001b[38;5;167;01mException\u001b[39;00m \u001b[38;5;28;01mas\u001b[39;00m e:\n\u001b[1;32m     67\u001b[0m     filtered_tb \u001b[38;5;241m=\u001b[39m _process_traceback_frames(e\u001b[38;5;241m.\u001b[39m__traceback__)\n",
      "File \u001b[0;32m~/.local/lib/python3.10/site-packages/keras/src/engine/training.py:1807\u001b[0m, in \u001b[0;36mModel.fit\u001b[0;34m(self, x, y, batch_size, epochs, verbose, callbacks, validation_split, validation_data, shuffle, class_weight, sample_weight, initial_epoch, steps_per_epoch, validation_steps, validation_batch_size, validation_freq, max_queue_size, workers, use_multiprocessing)\u001b[0m\n\u001b[1;32m   1799\u001b[0m \u001b[38;5;28;01mwith\u001b[39;00m tf\u001b[38;5;241m.\u001b[39mprofiler\u001b[38;5;241m.\u001b[39mexperimental\u001b[38;5;241m.\u001b[39mTrace(\n\u001b[1;32m   1800\u001b[0m     \u001b[38;5;124m\"\u001b[39m\u001b[38;5;124mtrain\u001b[39m\u001b[38;5;124m\"\u001b[39m,\n\u001b[1;32m   1801\u001b[0m     epoch_num\u001b[38;5;241m=\u001b[39mepoch,\n\u001b[0;32m   (...)\u001b[0m\n\u001b[1;32m   1804\u001b[0m     _r\u001b[38;5;241m=\u001b[39m\u001b[38;5;241m1\u001b[39m,\n\u001b[1;32m   1805\u001b[0m ):\n\u001b[1;32m   1806\u001b[0m     callbacks\u001b[38;5;241m.\u001b[39mon_train_batch_begin(step)\n\u001b[0;32m-> 1807\u001b[0m     tmp_logs \u001b[38;5;241m=\u001b[39m \u001b[38;5;28;43mself\u001b[39;49m\u001b[38;5;241;43m.\u001b[39;49m\u001b[43mtrain_function\u001b[49m\u001b[43m(\u001b[49m\u001b[43miterator\u001b[49m\u001b[43m)\u001b[49m\n\u001b[1;32m   1808\u001b[0m     \u001b[38;5;28;01mif\u001b[39;00m data_handler\u001b[38;5;241m.\u001b[39mshould_sync:\n\u001b[1;32m   1809\u001b[0m         context\u001b[38;5;241m.\u001b[39masync_wait()\n",
      "File \u001b[0;32m~/.local/lib/python3.10/site-packages/tensorflow/python/util/traceback_utils.py:150\u001b[0m, in \u001b[0;36mfilter_traceback.<locals>.error_handler\u001b[0;34m(*args, **kwargs)\u001b[0m\n\u001b[1;32m    148\u001b[0m filtered_tb \u001b[38;5;241m=\u001b[39m \u001b[38;5;28;01mNone\u001b[39;00m\n\u001b[1;32m    149\u001b[0m \u001b[38;5;28;01mtry\u001b[39;00m:\n\u001b[0;32m--> 150\u001b[0m   \u001b[38;5;28;01mreturn\u001b[39;00m \u001b[43mfn\u001b[49m\u001b[43m(\u001b[49m\u001b[38;5;241;43m*\u001b[39;49m\u001b[43margs\u001b[49m\u001b[43m,\u001b[49m\u001b[43m \u001b[49m\u001b[38;5;241;43m*\u001b[39;49m\u001b[38;5;241;43m*\u001b[39;49m\u001b[43mkwargs\u001b[49m\u001b[43m)\u001b[49m\n\u001b[1;32m    151\u001b[0m \u001b[38;5;28;01mexcept\u001b[39;00m \u001b[38;5;167;01mException\u001b[39;00m \u001b[38;5;28;01mas\u001b[39;00m e:\n\u001b[1;32m    152\u001b[0m   filtered_tb \u001b[38;5;241m=\u001b[39m _process_traceback_frames(e\u001b[38;5;241m.\u001b[39m__traceback__)\n",
      "File \u001b[0;32m~/.local/lib/python3.10/site-packages/tensorflow/python/eager/polymorphic_function/polymorphic_function.py:832\u001b[0m, in \u001b[0;36mFunction.__call__\u001b[0;34m(self, *args, **kwds)\u001b[0m\n\u001b[1;32m    829\u001b[0m compiler \u001b[38;5;241m=\u001b[39m \u001b[38;5;124m\"\u001b[39m\u001b[38;5;124mxla\u001b[39m\u001b[38;5;124m\"\u001b[39m \u001b[38;5;28;01mif\u001b[39;00m \u001b[38;5;28mself\u001b[39m\u001b[38;5;241m.\u001b[39m_jit_compile \u001b[38;5;28;01melse\u001b[39;00m \u001b[38;5;124m\"\u001b[39m\u001b[38;5;124mnonXla\u001b[39m\u001b[38;5;124m\"\u001b[39m\n\u001b[1;32m    831\u001b[0m \u001b[38;5;28;01mwith\u001b[39;00m OptionalXlaContext(\u001b[38;5;28mself\u001b[39m\u001b[38;5;241m.\u001b[39m_jit_compile):\n\u001b[0;32m--> 832\u001b[0m   result \u001b[38;5;241m=\u001b[39m \u001b[38;5;28;43mself\u001b[39;49m\u001b[38;5;241;43m.\u001b[39;49m\u001b[43m_call\u001b[49m\u001b[43m(\u001b[49m\u001b[38;5;241;43m*\u001b[39;49m\u001b[43margs\u001b[49m\u001b[43m,\u001b[49m\u001b[43m \u001b[49m\u001b[38;5;241;43m*\u001b[39;49m\u001b[38;5;241;43m*\u001b[39;49m\u001b[43mkwds\u001b[49m\u001b[43m)\u001b[49m\n\u001b[1;32m    834\u001b[0m new_tracing_count \u001b[38;5;241m=\u001b[39m \u001b[38;5;28mself\u001b[39m\u001b[38;5;241m.\u001b[39mexperimental_get_tracing_count()\n\u001b[1;32m    835\u001b[0m without_tracing \u001b[38;5;241m=\u001b[39m (tracing_count \u001b[38;5;241m==\u001b[39m new_tracing_count)\n",
      "File \u001b[0;32m~/.local/lib/python3.10/site-packages/tensorflow/python/eager/polymorphic_function/polymorphic_function.py:868\u001b[0m, in \u001b[0;36mFunction._call\u001b[0;34m(self, *args, **kwds)\u001b[0m\n\u001b[1;32m    865\u001b[0m   \u001b[38;5;28mself\u001b[39m\u001b[38;5;241m.\u001b[39m_lock\u001b[38;5;241m.\u001b[39mrelease()\n\u001b[1;32m    866\u001b[0m   \u001b[38;5;66;03m# In this case we have created variables on the first call, so we run the\u001b[39;00m\n\u001b[1;32m    867\u001b[0m   \u001b[38;5;66;03m# defunned version which is guaranteed to never create variables.\u001b[39;00m\n\u001b[0;32m--> 868\u001b[0m   \u001b[38;5;28;01mreturn\u001b[39;00m \u001b[43mtracing_compilation\u001b[49m\u001b[38;5;241;43m.\u001b[39;49m\u001b[43mcall_function\u001b[49m\u001b[43m(\u001b[49m\n\u001b[1;32m    869\u001b[0m \u001b[43m      \u001b[49m\u001b[43margs\u001b[49m\u001b[43m,\u001b[49m\u001b[43m \u001b[49m\u001b[43mkwds\u001b[49m\u001b[43m,\u001b[49m\u001b[43m \u001b[49m\u001b[38;5;28;43mself\u001b[39;49m\u001b[38;5;241;43m.\u001b[39;49m\u001b[43m_no_variable_creation_config\u001b[49m\n\u001b[1;32m    870\u001b[0m \u001b[43m  \u001b[49m\u001b[43m)\u001b[49m\n\u001b[1;32m    871\u001b[0m \u001b[38;5;28;01melif\u001b[39;00m \u001b[38;5;28mself\u001b[39m\u001b[38;5;241m.\u001b[39m_variable_creation_config \u001b[38;5;129;01mis\u001b[39;00m \u001b[38;5;129;01mnot\u001b[39;00m \u001b[38;5;28;01mNone\u001b[39;00m:\n\u001b[1;32m    872\u001b[0m   \u001b[38;5;66;03m# Release the lock early so that multiple threads can perform the call\u001b[39;00m\n\u001b[1;32m    873\u001b[0m   \u001b[38;5;66;03m# in parallel.\u001b[39;00m\n\u001b[1;32m    874\u001b[0m   \u001b[38;5;28mself\u001b[39m\u001b[38;5;241m.\u001b[39m_lock\u001b[38;5;241m.\u001b[39mrelease()\n",
      "File \u001b[0;32m~/.local/lib/python3.10/site-packages/tensorflow/python/eager/polymorphic_function/tracing_compilation.py:139\u001b[0m, in \u001b[0;36mcall_function\u001b[0;34m(args, kwargs, tracing_options)\u001b[0m\n\u001b[1;32m    137\u001b[0m bound_args \u001b[38;5;241m=\u001b[39m function\u001b[38;5;241m.\u001b[39mfunction_type\u001b[38;5;241m.\u001b[39mbind(\u001b[38;5;241m*\u001b[39margs, \u001b[38;5;241m*\u001b[39m\u001b[38;5;241m*\u001b[39mkwargs)\n\u001b[1;32m    138\u001b[0m flat_inputs \u001b[38;5;241m=\u001b[39m function\u001b[38;5;241m.\u001b[39mfunction_type\u001b[38;5;241m.\u001b[39munpack_inputs(bound_args)\n\u001b[0;32m--> 139\u001b[0m \u001b[38;5;28;01mreturn\u001b[39;00m \u001b[43mfunction\u001b[49m\u001b[38;5;241;43m.\u001b[39;49m\u001b[43m_call_flat\u001b[49m\u001b[43m(\u001b[49m\u001b[43m  \u001b[49m\u001b[38;5;66;43;03m# pylint: disable=protected-access\u001b[39;49;00m\n\u001b[1;32m    140\u001b[0m \u001b[43m    \u001b[49m\u001b[43mflat_inputs\u001b[49m\u001b[43m,\u001b[49m\u001b[43m \u001b[49m\u001b[43mcaptured_inputs\u001b[49m\u001b[38;5;241;43m=\u001b[39;49m\u001b[43mfunction\u001b[49m\u001b[38;5;241;43m.\u001b[39;49m\u001b[43mcaptured_inputs\u001b[49m\n\u001b[1;32m    141\u001b[0m \u001b[43m\u001b[49m\u001b[43m)\u001b[49m\n",
      "File \u001b[0;32m~/.local/lib/python3.10/site-packages/tensorflow/python/eager/polymorphic_function/concrete_function.py:1323\u001b[0m, in \u001b[0;36mConcreteFunction._call_flat\u001b[0;34m(self, tensor_inputs, captured_inputs)\u001b[0m\n\u001b[1;32m   1319\u001b[0m possible_gradient_type \u001b[38;5;241m=\u001b[39m gradients_util\u001b[38;5;241m.\u001b[39mPossibleTapeGradientTypes(args)\n\u001b[1;32m   1320\u001b[0m \u001b[38;5;28;01mif\u001b[39;00m (possible_gradient_type \u001b[38;5;241m==\u001b[39m gradients_util\u001b[38;5;241m.\u001b[39mPOSSIBLE_GRADIENT_TYPES_NONE\n\u001b[1;32m   1321\u001b[0m     \u001b[38;5;129;01mand\u001b[39;00m executing_eagerly):\n\u001b[1;32m   1322\u001b[0m   \u001b[38;5;66;03m# No tape is watching; skip to running the function.\u001b[39;00m\n\u001b[0;32m-> 1323\u001b[0m   \u001b[38;5;28;01mreturn\u001b[39;00m \u001b[38;5;28;43mself\u001b[39;49m\u001b[38;5;241;43m.\u001b[39;49m\u001b[43m_inference_function\u001b[49m\u001b[38;5;241;43m.\u001b[39;49m\u001b[43mcall_preflattened\u001b[49m\u001b[43m(\u001b[49m\u001b[43margs\u001b[49m\u001b[43m)\u001b[49m\n\u001b[1;32m   1324\u001b[0m forward_backward \u001b[38;5;241m=\u001b[39m \u001b[38;5;28mself\u001b[39m\u001b[38;5;241m.\u001b[39m_select_forward_and_backward_functions(\n\u001b[1;32m   1325\u001b[0m     args,\n\u001b[1;32m   1326\u001b[0m     possible_gradient_type,\n\u001b[1;32m   1327\u001b[0m     executing_eagerly)\n\u001b[1;32m   1328\u001b[0m forward_function, args_with_tangents \u001b[38;5;241m=\u001b[39m forward_backward\u001b[38;5;241m.\u001b[39mforward()\n",
      "File \u001b[0;32m~/.local/lib/python3.10/site-packages/tensorflow/python/eager/polymorphic_function/atomic_function.py:216\u001b[0m, in \u001b[0;36mAtomicFunction.call_preflattened\u001b[0;34m(self, args)\u001b[0m\n\u001b[1;32m    214\u001b[0m \u001b[38;5;28;01mdef\u001b[39;00m \u001b[38;5;21mcall_preflattened\u001b[39m(\u001b[38;5;28mself\u001b[39m, args: Sequence[core\u001b[38;5;241m.\u001b[39mTensor]) \u001b[38;5;241m-\u001b[39m\u001b[38;5;241m>\u001b[39m Any:\n\u001b[1;32m    215\u001b[0m \u001b[38;5;250m  \u001b[39m\u001b[38;5;124;03m\"\"\"Calls with flattened tensor inputs and returns the structured output.\"\"\"\u001b[39;00m\n\u001b[0;32m--> 216\u001b[0m   flat_outputs \u001b[38;5;241m=\u001b[39m \u001b[38;5;28;43mself\u001b[39;49m\u001b[38;5;241;43m.\u001b[39;49m\u001b[43mcall_flat\u001b[49m\u001b[43m(\u001b[49m\u001b[38;5;241;43m*\u001b[39;49m\u001b[43margs\u001b[49m\u001b[43m)\u001b[49m\n\u001b[1;32m    217\u001b[0m   \u001b[38;5;28;01mreturn\u001b[39;00m \u001b[38;5;28mself\u001b[39m\u001b[38;5;241m.\u001b[39mfunction_type\u001b[38;5;241m.\u001b[39mpack_output(flat_outputs)\n",
      "File \u001b[0;32m~/.local/lib/python3.10/site-packages/tensorflow/python/eager/polymorphic_function/atomic_function.py:251\u001b[0m, in \u001b[0;36mAtomicFunction.call_flat\u001b[0;34m(self, *args)\u001b[0m\n\u001b[1;32m    249\u001b[0m \u001b[38;5;28;01mwith\u001b[39;00m record\u001b[38;5;241m.\u001b[39mstop_recording():\n\u001b[1;32m    250\u001b[0m   \u001b[38;5;28;01mif\u001b[39;00m \u001b[38;5;28mself\u001b[39m\u001b[38;5;241m.\u001b[39m_bound_context\u001b[38;5;241m.\u001b[39mexecuting_eagerly():\n\u001b[0;32m--> 251\u001b[0m     outputs \u001b[38;5;241m=\u001b[39m \u001b[38;5;28;43mself\u001b[39;49m\u001b[38;5;241;43m.\u001b[39;49m\u001b[43m_bound_context\u001b[49m\u001b[38;5;241;43m.\u001b[39;49m\u001b[43mcall_function\u001b[49m\u001b[43m(\u001b[49m\n\u001b[1;32m    252\u001b[0m \u001b[43m        \u001b[49m\u001b[38;5;28;43mself\u001b[39;49m\u001b[38;5;241;43m.\u001b[39;49m\u001b[43mname\u001b[49m\u001b[43m,\u001b[49m\n\u001b[1;32m    253\u001b[0m \u001b[43m        \u001b[49m\u001b[38;5;28;43mlist\u001b[39;49m\u001b[43m(\u001b[49m\u001b[43margs\u001b[49m\u001b[43m)\u001b[49m\u001b[43m,\u001b[49m\n\u001b[1;32m    254\u001b[0m \u001b[43m        \u001b[49m\u001b[38;5;28;43mlen\u001b[39;49m\u001b[43m(\u001b[49m\u001b[38;5;28;43mself\u001b[39;49m\u001b[38;5;241;43m.\u001b[39;49m\u001b[43mfunction_type\u001b[49m\u001b[38;5;241;43m.\u001b[39;49m\u001b[43mflat_outputs\u001b[49m\u001b[43m)\u001b[49m\u001b[43m,\u001b[49m\n\u001b[1;32m    255\u001b[0m \u001b[43m    \u001b[49m\u001b[43m)\u001b[49m\n\u001b[1;32m    256\u001b[0m   \u001b[38;5;28;01melse\u001b[39;00m:\n\u001b[1;32m    257\u001b[0m     outputs \u001b[38;5;241m=\u001b[39m make_call_op_in_graph(\n\u001b[1;32m    258\u001b[0m         \u001b[38;5;28mself\u001b[39m,\n\u001b[1;32m    259\u001b[0m         \u001b[38;5;28mlist\u001b[39m(args),\n\u001b[1;32m    260\u001b[0m         \u001b[38;5;28mself\u001b[39m\u001b[38;5;241m.\u001b[39m_bound_context\u001b[38;5;241m.\u001b[39mfunction_call_options\u001b[38;5;241m.\u001b[39mas_attrs(),\n\u001b[1;32m    261\u001b[0m     )\n",
      "File \u001b[0;32m~/.local/lib/python3.10/site-packages/tensorflow/python/eager/context.py:1486\u001b[0m, in \u001b[0;36mContext.call_function\u001b[0;34m(self, name, tensor_inputs, num_outputs)\u001b[0m\n\u001b[1;32m   1484\u001b[0m cancellation_context \u001b[38;5;241m=\u001b[39m cancellation\u001b[38;5;241m.\u001b[39mcontext()\n\u001b[1;32m   1485\u001b[0m \u001b[38;5;28;01mif\u001b[39;00m cancellation_context \u001b[38;5;129;01mis\u001b[39;00m \u001b[38;5;28;01mNone\u001b[39;00m:\n\u001b[0;32m-> 1486\u001b[0m   outputs \u001b[38;5;241m=\u001b[39m \u001b[43mexecute\u001b[49m\u001b[38;5;241;43m.\u001b[39;49m\u001b[43mexecute\u001b[49m\u001b[43m(\u001b[49m\n\u001b[1;32m   1487\u001b[0m \u001b[43m      \u001b[49m\u001b[43mname\u001b[49m\u001b[38;5;241;43m.\u001b[39;49m\u001b[43mdecode\u001b[49m\u001b[43m(\u001b[49m\u001b[38;5;124;43m\"\u001b[39;49m\u001b[38;5;124;43mutf-8\u001b[39;49m\u001b[38;5;124;43m\"\u001b[39;49m\u001b[43m)\u001b[49m\u001b[43m,\u001b[49m\n\u001b[1;32m   1488\u001b[0m \u001b[43m      \u001b[49m\u001b[43mnum_outputs\u001b[49m\u001b[38;5;241;43m=\u001b[39;49m\u001b[43mnum_outputs\u001b[49m\u001b[43m,\u001b[49m\n\u001b[1;32m   1489\u001b[0m \u001b[43m      \u001b[49m\u001b[43minputs\u001b[49m\u001b[38;5;241;43m=\u001b[39;49m\u001b[43mtensor_inputs\u001b[49m\u001b[43m,\u001b[49m\n\u001b[1;32m   1490\u001b[0m \u001b[43m      \u001b[49m\u001b[43mattrs\u001b[49m\u001b[38;5;241;43m=\u001b[39;49m\u001b[43mattrs\u001b[49m\u001b[43m,\u001b[49m\n\u001b[1;32m   1491\u001b[0m \u001b[43m      \u001b[49m\u001b[43mctx\u001b[49m\u001b[38;5;241;43m=\u001b[39;49m\u001b[38;5;28;43mself\u001b[39;49m\u001b[43m,\u001b[49m\n\u001b[1;32m   1492\u001b[0m \u001b[43m  \u001b[49m\u001b[43m)\u001b[49m\n\u001b[1;32m   1493\u001b[0m \u001b[38;5;28;01melse\u001b[39;00m:\n\u001b[1;32m   1494\u001b[0m   outputs \u001b[38;5;241m=\u001b[39m execute\u001b[38;5;241m.\u001b[39mexecute_with_cancellation(\n\u001b[1;32m   1495\u001b[0m       name\u001b[38;5;241m.\u001b[39mdecode(\u001b[38;5;124m\"\u001b[39m\u001b[38;5;124mutf-8\u001b[39m\u001b[38;5;124m\"\u001b[39m),\n\u001b[1;32m   1496\u001b[0m       num_outputs\u001b[38;5;241m=\u001b[39mnum_outputs,\n\u001b[0;32m   (...)\u001b[0m\n\u001b[1;32m   1500\u001b[0m       cancellation_manager\u001b[38;5;241m=\u001b[39mcancellation_context,\n\u001b[1;32m   1501\u001b[0m   )\n",
      "File \u001b[0;32m~/.local/lib/python3.10/site-packages/tensorflow/python/eager/execute.py:53\u001b[0m, in \u001b[0;36mquick_execute\u001b[0;34m(op_name, num_outputs, inputs, attrs, ctx, name)\u001b[0m\n\u001b[1;32m     51\u001b[0m \u001b[38;5;28;01mtry\u001b[39;00m:\n\u001b[1;32m     52\u001b[0m   ctx\u001b[38;5;241m.\u001b[39mensure_initialized()\n\u001b[0;32m---> 53\u001b[0m   tensors \u001b[38;5;241m=\u001b[39m \u001b[43mpywrap_tfe\u001b[49m\u001b[38;5;241;43m.\u001b[39;49m\u001b[43mTFE_Py_Execute\u001b[49m\u001b[43m(\u001b[49m\u001b[43mctx\u001b[49m\u001b[38;5;241;43m.\u001b[39;49m\u001b[43m_handle\u001b[49m\u001b[43m,\u001b[49m\u001b[43m \u001b[49m\u001b[43mdevice_name\u001b[49m\u001b[43m,\u001b[49m\u001b[43m \u001b[49m\u001b[43mop_name\u001b[49m\u001b[43m,\u001b[49m\n\u001b[1;32m     54\u001b[0m \u001b[43m                                      \u001b[49m\u001b[43minputs\u001b[49m\u001b[43m,\u001b[49m\u001b[43m \u001b[49m\u001b[43mattrs\u001b[49m\u001b[43m,\u001b[49m\u001b[43m \u001b[49m\u001b[43mnum_outputs\u001b[49m\u001b[43m)\u001b[49m\n\u001b[1;32m     55\u001b[0m \u001b[38;5;28;01mexcept\u001b[39;00m core\u001b[38;5;241m.\u001b[39m_NotOkStatusException \u001b[38;5;28;01mas\u001b[39;00m e:\n\u001b[1;32m     56\u001b[0m   \u001b[38;5;28;01mif\u001b[39;00m name \u001b[38;5;129;01mis\u001b[39;00m \u001b[38;5;129;01mnot\u001b[39;00m \u001b[38;5;28;01mNone\u001b[39;00m:\n",
      "\u001b[0;31mKeyboardInterrupt\u001b[0m: "
     ]
    }
   ],
   "source": [
    "\n",
    "earlystop = callbacks.EarlyStopping(monitor='loss', min_delta=0, patience=3, verbose=1, restore_best_weights=True)\n",
    "history = model.fit(\n",
    "    train_generator, \n",
    "    steps_per_epoch=temp_train.shape[0] // BATCH_SIZE, \n",
    "    epochs=100, \n",
    "    callbacks=earlystop, \n",
    "    validation_data=next(validation_generator)\n",
    ")"
   ]
  },
  {
   "cell_type": "code",
   "execution_count": null,
   "metadata": {},
   "outputs": [
    {
     "name": "stdout",
     "output_type": "stream",
     "text": [
      "10/10 [==============================] - 3s 282ms/step - loss: 0.0034\n"
     ]
    },
    {
     "data": {
      "text/plain": [
       "0.003408357733860612"
      ]
     },
     "execution_count": 10,
     "metadata": {},
     "output_type": "execute_result"
    }
   ],
   "source": [
    "model.evaluate(test_generator, steps=sortedData[-TEST_LEN:].shape[0] // BATCH_SIZE)"
   ]
  },
  {
   "cell_type": "code",
   "execution_count": null,
   "metadata": {},
   "outputs": [
    {
     "data": {
      "text/plain": [
       "dict_keys(['loss', 'val_loss'])"
      ]
     },
     "execution_count": 11,
     "metadata": {},
     "output_type": "execute_result"
    }
   ],
   "source": [
    "history.history.keys()"
   ]
  },
  {
   "cell_type": "code",
   "execution_count": null,
   "metadata": {},
   "outputs": [],
   "source": [
    "import matplotlib.pyplot as plt"
   ]
  },
  {
   "cell_type": "code",
   "execution_count": null,
   "metadata": {},
   "outputs": [
    {
     "data": {
      "image/png": "[encoded data removed]",
      "text/plain": [
       "<Figure size 640x480 with 1 Axes>"
      ]
     },
     "metadata": {},
     "output_type": "display_data"
    }
   ],
   "source": [
    "plt.plot(history.history['loss'])\n",
    "plt.plot(history.history['val_loss'])\n",
    "plt.title('model 2 loss')\n",
    "plt.ylabel('loss')\n",
    "plt.xlabel('epoch')\n",
    "plt.legend(['train', 'validation'], loc='upper right')\n",
    "plt.show()"
   ]
  },
  {
   "cell_type": "code",
   "execution_count": null,
   "metadata": {},
   "outputs": [],
   "source": []
  }
 ],
 "metadata": {
  "kernelspec": {
   "display_name": "Python 3 (ipykernel)",
   "language": "python",
   "name": "python3"
  },
  "language_info": {
   "codemirror_mode": {
    "name": "ipython",
    "version": 3
   },
   "file_extension": ".py",
   "mimetype": "text/x-python",
   "name": "python",
   "nbconvert_exporter": "python",
   "pygments_lexer": "ipython3",
   "version": "3.10.12"
  }
 },
 "nbformat": 4,
 "nbformat_minor": 4
}
