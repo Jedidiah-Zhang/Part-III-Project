{
 "cells": [
  {
   "cell_type": "code",
   "execution_count": 1,
   "metadata": {},
   "outputs": [
    {
     "name": "stderr",
     "output_type": "stream",
     "text": [
      "2024-04-21 20:20:23.513481: I tensorflow/core/util/port.cc:113] oneDNN custom operations are on. You may see slightly different numerical results due to floating-point round-off errors from different computation orders. To turn them off, set the environment variable `TF_ENABLE_ONEDNN_OPTS=0`.\n",
      "2024-04-21 20:20:23.532861: E external/local_xla/xla/stream_executor/cuda/cuda_dnn.cc:9261] Unable to register cuDNN factory: Attempting to register factory for plugin cuDNN when one has already been registered\n",
      "2024-04-21 20:20:23.532879: E external/local_xla/xla/stream_executor/cuda/cuda_fft.cc:607] Unable to register cuFFT factory: Attempting to register factory for plugin cuFFT when one has already been registered\n",
      "2024-04-21 20:20:23.533414: E external/local_xla/xla/stream_executor/cuda/cuda_blas.cc:1515] Unable to register cuBLAS factory: Attempting to register factory for plugin cuBLAS when one has already been registered\n",
      "2024-04-21 20:20:23.536675: I tensorflow/core/platform/cpu_feature_guard.cc:182] This TensorFlow binary is optimized to use available CPU instructions in performance-critical operations.\n",
      "To enable the following instructions: AVX2 AVX_VNNI FMA, in other operations, rebuild TensorFlow with the appropriate compiler flags.\n",
      "2024-04-21 20:20:23.885047: W tensorflow/compiler/tf2tensorrt/utils/py_utils.cc:38] TF-TRT Warning: Could not find TensorRT\n"
     ]
    }
   ],
   "source": [
    "import tensorflow as tf\n",
    "from keras.models import Sequential\n",
    "from keras.layers import LSTM, Dense, Dropout\n",
    "from keras.callbacks import EarlyStopping\n",
    "from sklearn import preprocessing\n",
    "from sklearn.model_selection import train_test_split\n",
    "import numpy as np\n",
    "import matplotlib.pyplot as plt\n",
    "from matplotlib.pyplot import MultipleLocator\n",
    "import csv"
   ]
  },
  {
   "cell_type": "code",
   "execution_count": 9,
   "metadata": {},
   "outputs": [
    {
     "data": {
      "text/plain": [
       "[PhysicalDevice(name='/physical_device:GPU:0', device_type='GPU')]"
      ]
     },
     "execution_count": 9,
     "metadata": {},
     "output_type": "execute_result"
    }
   ],
   "source": [
    "tf.config.list_physical_devices('GPU')"
   ]
  },
  {
   "cell_type": "code",
   "execution_count": 3,
   "metadata": {},
   "outputs": [
    {
     "data": {
      "text/plain": [
       "'2.15.0'"
      ]
     },
     "execution_count": 3,
     "metadata": {},
     "output_type": "execute_result"
    }
   ],
   "source": [
    "tf.__version__"
   ]
  },
  {
   "cell_type": "code",
   "execution_count": 4,
   "metadata": {},
   "outputs": [],
   "source": [
    "def load_expanded_data(filename):\n",
    "    l = []\n",
    "    with open(\"../datasets/%s.csv\" % (filename), \"rt\") as f:\n",
    "        reader = csv.reader(f)\n",
    "        for row in reader:\n",
    "            if not row: continue\n",
    "            id = [row[0]]\n",
    "            values = [float(x) for x in row[1:]]\n",
    "            id.extend(values)\n",
    "            l.append(id)\n",
    "    return l"
   ]
  },
  {
   "cell_type": "code",
   "execution_count": 5,
   "metadata": {},
   "outputs": [],
   "source": [
    "def sort_samples_by_link(data):\n",
    "    sorted_data = {}\n",
    "    for record in data:\n",
    "        if record[0] in sorted_data.keys():\n",
    "            sorted_data[record[0]].append(record[1:])\n",
    "        else: sorted_data[record[0]] = [record[1:]]\n",
    "    return sorted_data"
   ]
  },
  {
   "cell_type": "code",
   "execution_count": null,
   "metadata": {},
   "outputs": [],
   "source": [
    "ExpandedDataLoaded1 = sort_samples_by_link(load_expanded_data(\"expanded_data1\"))"
   ]
  },
  {
   "cell_type": "code",
   "execution_count": null,
   "metadata": {},
   "outputs": [],
   "source": [
    "ExpandedDataLoaded2 = sort_samples_by_link(load_expanded_data(\"expanded_data2\"))"
   ]
  },
  {
   "cell_type": "code",
   "execution_count": null,
   "metadata": {},
   "outputs": [],
   "source": [
    "ExpandedDataLoaded3 = sort_samples_by_link(load_expanded_data(\"expanded_data3\"))"
   ]
  },
  {
   "cell_type": "code",
   "execution_count": null,
   "metadata": {},
   "outputs": [],
   "source": [
    "def normalize(vector):\n",
    "    scaler = preprocessing.MinMaxScaler()\n",
    "    return scaler.fit_transform(vector)"
   ]
  },
  {
   "cell_type": "code",
   "execution_count": null,
   "metadata": {},
   "outputs": [],
   "source": [
    "useData = np.array(ExpandedDataLoaded1['9377906285566510514'])"
   ]
  },
  {
   "cell_type": "code",
   "execution_count": null,
   "metadata": {},
   "outputs": [],
   "source": [
    "useData"
   ]
  },
  {
   "cell_type": "code",
   "execution_count": null,
   "metadata": {},
   "outputs": [],
   "source": [
    "useData[:, 68] = normalize(useData[:, 68].reshape(-1, 1)).reshape(1, -1)\n",
    "useData[:, 71:] = normalize(useData[:, 71:])"
   ]
  },
  {
   "cell_type": "code",
   "execution_count": null,
   "metadata": {},
   "outputs": [],
   "source": [
    "def create_inout_sequences(data, shape):\n",
    "    x = np.zeros((data.shape[0]-shape[0], shape[0], shape[1]))\n",
    "    y = np.zeros((data.shape[0]-shape[0], 1))\n",
    "    for i in range(data.shape[0]-shape[0]):\n",
    "        train_seq = data[i:i+shape[0]]\n",
    "        train_lbl = data[i+shape[0]:i+shape[0]+1][0][-1]\n",
    "        x[i] = train_seq\n",
    "        y[i] = train_lbl\n",
    "    return x, y"
   ]
  },
  {
   "cell_type": "code",
   "execution_count": null,
   "metadata": {},
   "outputs": [],
   "source": [
    "x, y = create_inout_sequences(useData, [30, 75])"
   ]
  },
  {
   "cell_type": "code",
   "execution_count": null,
   "metadata": {},
   "outputs": [],
   "source": [
    "x.shape, y.shape"
   ]
  },
  {
   "cell_type": "code",
   "execution_count": null,
   "metadata": {},
   "outputs": [],
   "source": [
    "X_train, X_test, y_train, y_test = train_test_split(x, y, test_size=0.1, shuffle=True)"
   ]
  },
  {
   "cell_type": "code",
   "execution_count": null,
   "metadata": {},
   "outputs": [],
   "source": [
    "X_train.shape, y_train.shape"
   ]
  },
  {
   "cell_type": "code",
   "execution_count": null,
   "metadata": {},
   "outputs": [],
   "source": [
    "X_test.shape, y_test.shape"
   ]
  },
  {
   "cell_type": "code",
   "execution_count": null,
   "metadata": {},
   "outputs": [],
   "source": [
    "model = Sequential()\n",
    "earlystop = EarlyStopping(monitor='loss', min_delta=0, patience=3, verbose=1, restore_best_weights=True)\n",
    "model.add(LSTM(units=140, return_sequences=False, input_shape=(X_train.shape[1], X_train.shape[2])))\n",
    "model.add(Dropout(0.2))\n",
    "model.add(Dense(units=1, activation='sigmoid'))\n",
    "model.compile(optimizer='adam', loss=tf.keras.losses.MeanSquaredError())\n",
    "model.summary()"
   ]
  },
  {
   "cell_type": "code",
   "execution_count": null,
   "metadata": {},
   "outputs": [],
   "source": [
    "history = model.fit(X_train, y_train, epochs=100, batch_size=100, callbacks=earlystop, validation_split=0.2)"
   ]
  },
  {
   "cell_type": "code",
   "execution_count": null,
   "metadata": {},
   "outputs": [],
   "source": [
    "y_hat = model.predict(X_test)"
   ]
  },
  {
   "cell_type": "code",
   "execution_count": null,
   "metadata": {},
   "outputs": [],
   "source": [
    "y_test.shape, y_hat.shape"
   ]
  },
  {
   "cell_type": "code",
   "execution_count": null,
   "metadata": {},
   "outputs": [],
   "source": [
    "np.mean((y_test - y_hat) ** 2)"
   ]
  },
  {
   "cell_type": "code",
   "execution_count": null,
   "metadata": {},
   "outputs": [],
   "source": [
    "fig, ax = plt.subplots(figsize=(3,3))\n",
    "ax.scatter(y_test, y_hat, c='m', s=3)\n",
    "ax.grid(True)\n",
    "ax.set_xlabel(\"True Target\", fontsize=12)\n",
    "ax.set_ylabel(\"Prediction\", fontsize=12)\n",
    "ax.set_xscale('log')\n",
    "ax.set_yscale('log')"
   ]
  },
  {
   "cell_type": "markdown",
   "metadata": {},
   "source": [
    "## 01/02/2024\n"
   ]
  },
  {
   "cell_type": "code",
   "execution_count": 6,
   "metadata": {},
   "outputs": [],
   "source": [
    "def load_expanded_data(filename):\n",
    "    result = {}\n",
    "    with open(\"../datasets/%s.csv\" % filename, \"rt\") as f:\n",
    "        reader = csv.reader(f)\n",
    "        for row in reader:\n",
    "            if not row: continue\n",
    "            key = row[0]\n",
    "            values = [float(x) for x in row[1:]]\n",
    "            result.setdefault(key, []).append(values)\n",
    "    return result"
   ]
  },
  {
   "cell_type": "code",
   "execution_count": 7,
   "metadata": {},
   "outputs": [],
   "source": [
    "def normalize(vector):\n",
    "    scaler = preprocessing.MinMaxScaler()\n",
    "    return scaler.fit_transform(vector)"
   ]
  },
  {
   "cell_type": "code",
   "execution_count": 8,
   "metadata": {},
   "outputs": [],
   "source": [
    "def create_inout_sequences(data, shape):\n",
    "    x = np.zeros((data.shape[0]-shape[0], shape[0], shape[1]))\n",
    "    y = np.zeros((data.shape[0]-shape[0], 1))\n",
    "    for i in range(data.shape[0]-shape[0]):\n",
    "        train_seq = data[i:i+shape[0]]\n",
    "        train_lbl = data[i+shape[0]:i+shape[0]+1][0][-1]\n",
    "        x[i] = train_seq\n",
    "        y[i] = train_lbl\n",
    "    return x, y"
   ]
  },
  {
   "cell_type": "code",
   "execution_count": 9,
   "metadata": {},
   "outputs": [],
   "source": [
    "ExpandedDataLoaded1 = load_expanded_data(\"expanded_data1\")\n",
    "useData = ExpandedDataLoaded1['9377906285566510514']\n",
    "del ExpandedDataLoaded1"
   ]
  },
  {
   "cell_type": "code",
   "execution_count": 10,
   "metadata": {},
   "outputs": [],
   "source": [
    "ExpandedDataLoaded2 = load_expanded_data(\"expanded_data2\")\n",
    "useData.extend(ExpandedDataLoaded2['9377906285566510514'])\n",
    "del ExpandedDataLoaded2\n",
    "ExpandedDataLoaded3 = load_expanded_data(\"expanded_data3\")\n",
    "useData.extend(ExpandedDataLoaded3['9377906285566510514'])\n",
    "del ExpandedDataLoaded3"
   ]
  },
  {
   "cell_type": "code",
   "execution_count": 11,
   "metadata": {},
   "outputs": [],
   "source": [
    "useData = np.array(useData)"
   ]
  },
  {
   "cell_type": "code",
   "execution_count": 12,
   "metadata": {},
   "outputs": [
    {
     "data": {
      "text/plain": [
       "(213522, 75)"
      ]
     },
     "execution_count": 12,
     "metadata": {},
     "output_type": "execute_result"
    }
   ],
   "source": [
    "useData.shape"
   ]
  },
  {
   "cell_type": "code",
   "execution_count": 13,
   "metadata": {},
   "outputs": [
    {
     "data": {
      "text/plain": [
       "((192142, 30, 75), (192142, 1), (21350, 30, 75), (21350, 1))"
      ]
     },
     "execution_count": 13,
     "metadata": {},
     "output_type": "execute_result"
    }
   ],
   "source": [
    "useData[:, 68] = normalize(useData[:, 68].reshape(-1, 1)).reshape(1, -1)\n",
    "useData[:, 71:] = normalize(useData[:, 71:])\n",
    "x, y = create_inout_sequences(useData, [30, 75])\n",
    "X_train, X_test, y_train, y_test = train_test_split(x, y, test_size=0.1, shuffle=True)\n",
    "X_train.shape, y_train.shape, X_test.shape, y_test.shape"
   ]
  },
  {
   "cell_type": "markdown",
   "metadata": {},
   "source": [
    "### Model 1: \n",
    "**Inputs (30, 75) --> (1)**: previous 30 records to predict next travel time\n",
    "\n",
    "**Include parameters**:\n",
    "\n",
    "    year, month, weekday, day_of_month, hour_of_day, time_of_day, is_holiday, is_weekend, width, length, speed, travel_time\n",
    "\n",
    "**random** train test split: 0.1, validation split: 0.2\n",
    "\n",
    "**loss function**: MSE\n",
    "\n"
   ]
  },
  {
   "cell_type": "code",
   "execution_count": 18,
   "metadata": {},
   "outputs": [
    {
     "name": "stdout",
     "output_type": "stream",
     "text": [
      "Model: \"sequential_2\"\n",
      "_________________________________________________________________\n",
      " Layer (type)                Output Shape              Param #   \n",
      "=================================================================\n",
      " lstm_2 (LSTM)               (None, 140)               120960    \n",
      "                                                                 \n",
      " dropout_2 (Dropout)         (None, 140)               0         \n",
      "                                                                 \n",
      " dense_2 (Dense)             (None, 1)                 141       \n",
      "                                                                 \n",
      "=================================================================\n",
      "Total params: 121101 (473.05 KB)\n",
      "Trainable params: 121101 (473.05 KB)\n",
      "Non-trainable params: 0 (0.00 Byte)\n",
      "_________________________________________________________________\n"
     ]
    }
   ],
   "source": [
    "model1 = Sequential()\n",
    "earlystop = EarlyStopping(monitor='loss', min_delta=0, patience=3, verbose=1, restore_best_weights=True)\n",
    "model1.add(LSTM(units=140, return_sequences=False, input_shape=(X_train.shape[1], X_train.shape[2])))\n",
    "model1.add(Dropout(0.2))\n",
    "model1.add(Dense(units=1, activation='sigmoid'))\n",
    "model1.compile(optimizer='adam', loss=tf.keras.losses.MeanSquaredError())\n",
    "model1.summary()"
   ]
  },
  {
   "cell_type": "code",
   "execution_count": 19,
   "metadata": {},
   "outputs": [
    {
     "name": "stdout",
     "output_type": "stream",
     "text": [
      "Epoch 1/100\n",
      "1538/1538 [==============================] - 4s 2ms/step - loss: 8.9563e-04 - val_loss: 3.1659e-04\n",
      "Epoch 2/100\n",
      "1538/1538 [==============================] - 3s 2ms/step - loss: 2.6304e-04 - val_loss: 2.1389e-04\n",
      "Epoch 3/100\n",
      " 189/1538 [==>...........................] - ETA: 2s - loss: 2.2976e-04"
     ]
    },
    {
     "ename": "KeyboardInterrupt",
     "evalue": "",
     "output_type": "error",
     "traceback": [
      "\u001b[0;31m---------------------------------------------------------------------------\u001b[0m",
      "\u001b[0;31mKeyboardInterrupt\u001b[0m                         Traceback (most recent call last)",
      "Cell \u001b[0;32mIn[19], line 1\u001b[0m\n\u001b[0;32m----> 1\u001b[0m history1 \u001b[38;5;241m=\u001b[39m \u001b[43mmodel1\u001b[49m\u001b[38;5;241;43m.\u001b[39;49m\u001b[43mfit\u001b[49m\u001b[43m(\u001b[49m\u001b[43mX_train\u001b[49m\u001b[43m,\u001b[49m\u001b[43m \u001b[49m\u001b[43my_train\u001b[49m\u001b[43m,\u001b[49m\u001b[43m \u001b[49m\u001b[43mepochs\u001b[49m\u001b[38;5;241;43m=\u001b[39;49m\u001b[38;5;241;43m100\u001b[39;49m\u001b[43m,\u001b[49m\u001b[43m \u001b[49m\u001b[43mbatch_size\u001b[49m\u001b[38;5;241;43m=\u001b[39;49m\u001b[38;5;241;43m100\u001b[39;49m\u001b[43m,\u001b[49m\u001b[43m \u001b[49m\u001b[43mcallbacks\u001b[49m\u001b[38;5;241;43m=\u001b[39;49m\u001b[43mearlystop\u001b[49m\u001b[43m,\u001b[49m\u001b[43m \u001b[49m\u001b[43mvalidation_split\u001b[49m\u001b[38;5;241;43m=\u001b[39;49m\u001b[38;5;241;43m0.2\u001b[39;49m\u001b[43m)\u001b[49m\n",
      "File \u001b[0;32m~/.local/lib/python3.10/site-packages/keras/src/utils/traceback_utils.py:65\u001b[0m, in \u001b[0;36mfilter_traceback.<locals>.error_handler\u001b[0;34m(*args, **kwargs)\u001b[0m\n\u001b[1;32m     63\u001b[0m filtered_tb \u001b[38;5;241m=\u001b[39m \u001b[38;5;28;01mNone\u001b[39;00m\n\u001b[1;32m     64\u001b[0m \u001b[38;5;28;01mtry\u001b[39;00m:\n\u001b[0;32m---> 65\u001b[0m     \u001b[38;5;28;01mreturn\u001b[39;00m \u001b[43mfn\u001b[49m\u001b[43m(\u001b[49m\u001b[38;5;241;43m*\u001b[39;49m\u001b[43margs\u001b[49m\u001b[43m,\u001b[49m\u001b[43m \u001b[49m\u001b[38;5;241;43m*\u001b[39;49m\u001b[38;5;241;43m*\u001b[39;49m\u001b[43mkwargs\u001b[49m\u001b[43m)\u001b[49m\n\u001b[1;32m     66\u001b[0m \u001b[38;5;28;01mexcept\u001b[39;00m \u001b[38;5;167;01mException\u001b[39;00m \u001b[38;5;28;01mas\u001b[39;00m e:\n\u001b[1;32m     67\u001b[0m     filtered_tb \u001b[38;5;241m=\u001b[39m _process_traceback_frames(e\u001b[38;5;241m.\u001b[39m__traceback__)\n",
      "File \u001b[0;32m~/.local/lib/python3.10/site-packages/keras/src/engine/training.py:1807\u001b[0m, in \u001b[0;36mModel.fit\u001b[0;34m(self, x, y, batch_size, epochs, verbose, callbacks, validation_split, validation_data, shuffle, class_weight, sample_weight, initial_epoch, steps_per_epoch, validation_steps, validation_batch_size, validation_freq, max_queue_size, workers, use_multiprocessing)\u001b[0m\n\u001b[1;32m   1799\u001b[0m \u001b[38;5;28;01mwith\u001b[39;00m tf\u001b[38;5;241m.\u001b[39mprofiler\u001b[38;5;241m.\u001b[39mexperimental\u001b[38;5;241m.\u001b[39mTrace(\n\u001b[1;32m   1800\u001b[0m     \u001b[38;5;124m\"\u001b[39m\u001b[38;5;124mtrain\u001b[39m\u001b[38;5;124m\"\u001b[39m,\n\u001b[1;32m   1801\u001b[0m     epoch_num\u001b[38;5;241m=\u001b[39mepoch,\n\u001b[0;32m   (...)\u001b[0m\n\u001b[1;32m   1804\u001b[0m     _r\u001b[38;5;241m=\u001b[39m\u001b[38;5;241m1\u001b[39m,\n\u001b[1;32m   1805\u001b[0m ):\n\u001b[1;32m   1806\u001b[0m     callbacks\u001b[38;5;241m.\u001b[39mon_train_batch_begin(step)\n\u001b[0;32m-> 1807\u001b[0m     tmp_logs \u001b[38;5;241m=\u001b[39m \u001b[38;5;28;43mself\u001b[39;49m\u001b[38;5;241;43m.\u001b[39;49m\u001b[43mtrain_function\u001b[49m\u001b[43m(\u001b[49m\u001b[43miterator\u001b[49m\u001b[43m)\u001b[49m\n\u001b[1;32m   1808\u001b[0m     \u001b[38;5;28;01mif\u001b[39;00m data_handler\u001b[38;5;241m.\u001b[39mshould_sync:\n\u001b[1;32m   1809\u001b[0m         context\u001b[38;5;241m.\u001b[39masync_wait()\n",
      "\u001b[0;31mKeyboardInterrupt\u001b[0m: "
     ]
    }
   ],
   "source": [
    "history1 = model1.fit(X_train, y_train, epochs=100, batch_size=100, callbacks=earlystop, validation_split=0.2)"
   ]
  },
  {
   "cell_type": "code",
   "execution_count": null,
   "metadata": {},
   "outputs": [],
   "source": [
    "model1.evaluate(X_test, y_test)  # MSE"
   ]
  },
  {
   "cell_type": "code",
   "execution_count": null,
   "metadata": {},
   "outputs": [],
   "source": [
    "plt.plot(history1.history['loss'])\n",
    "plt.plot(history1.history['val_loss'])\n",
    "plt.title('model 1 loss')\n",
    "plt.ylabel('loss')\n",
    "plt.xlabel('epoch')\n",
    "plt.legend(['train', 'validation'], loc='upper right')\n",
    "plt.show()"
   ]
  },
  {
   "cell_type": "code",
   "execution_count": null,
   "metadata": {},
   "outputs": [],
   "source": [
    "tf.keras.backend.clear_session()"
   ]
  },
  {
   "cell_type": "markdown",
   "metadata": {},
   "source": [
    "### Model 2: "
   ]
  },
  {
   "cell_type": "code",
   "execution_count": null,
   "metadata": {},
   "outputs": [],
   "source": [
    "model2 = Sequential()\n",
    "earlystop = EarlyStopping(monitor='loss', min_delta=0, patience=3, verbose=1, restore_best_weights=True)\n",
    "model2.add(LSTM(units=100, return_sequences=False, input_shape=(X_train.shape[1], X_train.shape[2])))\n",
    "model2.add(Dropout(0.2))\n",
    "model2.add(Dense(units=1, activation='sigmoid'))\n",
    "model2.compile(optimizer='adam', loss=tf.keras.losses.MeanSquaredError())\n",
    "model2.summary()"
   ]
  },
  {
   "cell_type": "code",
   "execution_count": null,
   "metadata": {},
   "outputs": [],
   "source": [
    "history2 = model2.fit(X_train, y_train, epochs=100, batch_size=100, callbacks=earlystop, validation_split=0.2)"
   ]
  },
  {
   "cell_type": "code",
   "execution_count": null,
   "metadata": {},
   "outputs": [],
   "source": [
    "model2.evaluate(X_test, y_test)"
   ]
  },
  {
   "cell_type": "code",
   "execution_count": null,
   "metadata": {},
   "outputs": [],
   "source": [
    "plt.plot(history2.history['loss'])\n",
    "plt.plot(history2.history['val_loss'])\n",
    "plt.title('model 2 loss')\n",
    "plt.ylabel('loss')\n",
    "plt.xlabel('epoch')\n",
    "plt.legend(['train', 'validation'], loc='upper right')\n",
    "plt.show()"
   ]
  },
  {
   "cell_type": "code",
   "execution_count": null,
   "metadata": {},
   "outputs": [],
   "source": [
    "tf.keras.backend.clear_session()"
   ]
  },
  {
   "cell_type": "markdown",
   "metadata": {},
   "source": [
    "### Model 3"
   ]
  },
  {
   "cell_type": "code",
   "execution_count": null,
   "metadata": {},
   "outputs": [],
   "source": [
    "model3 = Sequential()\n",
    "earlystop = EarlyStopping(monitor='loss', min_delta=0, patience=3, verbose=1, restore_best_weights=True)\n",
    "model3.add(LSTM(units=100, return_sequences=False, input_shape=(X_train.shape[1], X_train.shape[2])))\n",
    "model3.add(Dropout(0.2))\n",
    "model3.add(Dense(units=1, activation='elu'))\n",
    "model3.compile(optimizer='adam', loss=tf.keras.losses.MeanSquaredError())\n",
    "model3.summary()"
   ]
  },
  {
   "cell_type": "code",
   "execution_count": null,
   "metadata": {},
   "outputs": [],
   "source": [
    "history3 = model3.fit(X_train, y_train, epochs=100, batch_size=100, callbacks=earlystop, validation_split=0.2)"
   ]
  },
  {
   "cell_type": "code",
   "execution_count": null,
   "metadata": {},
   "outputs": [],
   "source": [
    "model3.evaluate(X_test, y_test)"
   ]
  },
  {
   "cell_type": "code",
   "execution_count": null,
   "metadata": {},
   "outputs": [],
   "source": [
    "plt.plot(history3.history['loss'])\n",
    "plt.plot(history3.history['val_loss'])\n",
    "plt.title('model 2 loss')\n",
    "plt.ylabel('loss')\n",
    "plt.xlabel('epoch')\n",
    "plt.legend(['train', 'validation'], loc='upper right')\n",
    "plt.show()"
   ]
  },
  {
   "cell_type": "code",
   "execution_count": null,
   "metadata": {},
   "outputs": [],
   "source": [
    "tf.keras.backend.clear_session()"
   ]
  },
  {
   "cell_type": "markdown",
   "metadata": {},
   "source": [
    "### Model 4:\n",
    "\n",
    "input shape: (num_of_records, num_of_links, num_of_features), in time sequence\n",
    "\n",
    "features: year, month, is_weekday, is_holiday, is_rush_hour, (is_missing,) link_width, average_speed"
   ]
  },
  {
   "cell_type": "code",
   "execution_count": null,
   "metadata": {},
   "outputs": [],
   "source": [
    "class STGCN(tf.keras.layers.Layer):\n",
    "    def __init__(self, num_outputs):\n",
    "        super(STGCN, self).__init__()\n",
    "        self.num_outputs = num_outputs\n",
    "\n",
    "    def build(self, input_shape):\n",
    "        self.kernel = self.add_weight(\"kernel\",\n",
    "                                    shape=[int(input_shape[-1]),\n",
    "                                    self.num_outputs])\n",
    "\n",
    "    def call(self, inputs):\n",
    "        return tf.matmul(inputs, self.kernel)"
   ]
  },
  {
   "cell_type": "markdown",
   "metadata": {},
   "source": [
    "# 02/04/2024"
   ]
  },
  {
   "cell_type": "code",
   "execution_count": 1,
   "metadata": {},
   "outputs": [],
   "source": [
    "from functions import *"
   ]
  },
  {
   "cell_type": "code",
   "execution_count": 2,
   "metadata": {},
   "outputs": [],
   "source": [
    "links = getStaticLinkData()\n",
    "adj_matrix, upstreams = getSpatialData()"
   ]
  },
  {
   "cell_type": "code",
   "execution_count": 3,
   "metadata": {},
   "outputs": [
    {
     "data": {
      "text/plain": [
       "array([1, 1, 0, 1, 2, 1, 1, 1, 2, 3, 1, 1, 1, 1, 1, 1, 1, 1, 1, 1, 1, 1,\n",
       "       4, 1, 1, 1, 1, 2, 1, 1, 0, 1, 1, 1, 1, 1, 1, 1, 1, 4, 1, 1, 1, 2,\n",
       "       1, 1, 1, 1, 1, 3, 0, 1, 1, 4, 1, 1, 1, 1, 1, 1, 1, 1, 1, 1, 2, 2,\n",
       "       1, 1, 1, 3, 1, 1, 1, 1, 1, 0, 1, 1, 1, 1, 2, 2, 1, 1, 1, 2, 1, 1,\n",
       "       1, 1, 2, 1, 2, 1, 1, 1, 1, 2, 1, 2, 2, 3, 0, 2, 1, 1, 2, 2, 1, 1,\n",
       "       0, 1, 1, 1, 1, 1, 1, 2, 1, 4, 1, 3, 1, 1, 1, 1, 1, 2, 1, 1, 1, 1])"
      ]
     },
     "execution_count": 3,
     "metadata": {},
     "output_type": "execute_result"
    }
   ],
   "source": [
    "np.sum(np.not_equal(upstreams, -1), axis=1)"
   ]
  },
  {
   "cell_type": "code",
   "execution_count": 4,
   "metadata": {},
   "outputs": [],
   "source": [
    "samples1 = getTemporalData(\"../datasets/gy_link_travel_time_part1.txt\")\n",
    "samples2 = getTemporalData(\"../datasets/gy_link_travel_time_part2.txt\")\n",
    "samples3 = getTemporalData(\"../datasets/gy_link_travel_time_part3.txt\")\n",
    "samples = tf.concat([samples1, samples2], 0)\n",
    "samples = tf.concat([samples, samples3], 0)\n",
    "del samples1, samples2, samples3"
   ]
  },
  {
   "cell_type": "code",
   "execution_count": 5,
   "metadata": {},
   "outputs": [],
   "source": [
    "start_date_1 = datetime(2016, 3, 1)\n",
    "end_date_1 = datetime(2016, 6, 1)\n",
    "start_date_2 = datetime(2017, 3, 1)\n",
    "end_date_2 = datetime(2017, 7, 1)"
   ]
  },
  {
   "cell_type": "code",
   "execution_count": 6,
   "metadata": {},
   "outputs": [],
   "source": [
    "def _isWeekday(day : datetime) -> bool:\n",
    "    if (day.weekday() == 4 or day.weekday() == 5):\n",
    "        return True\n",
    "    else: return False\n",
    "\n",
    "def _isWorkday(day : datetime) -> bool:\n",
    "    return is_workday(day)\n",
    "\n",
    "def _isRushHour(time : int):\n",
    "    morning = evening = False\n",
    "    if time > 420 and time < 540: morning = True\n",
    "    elif time > 1020 and time < 1140: evening = True\n",
    "    return morning, evening"
   ]
  },
  {
   "cell_type": "code",
   "execution_count": 7,
   "metadata": {},
   "outputs": [],
   "source": [
    "def _extractFeature(\n",
    "        sample : np.ndarray, \n",
    "        ext_sample : np.ndarray, \n",
    "        day : datetime\n",
    "    ) -> np.ndarray:\n",
    "\n",
    "    ext_sample[:] = 0\n",
    "    ext_sample[0] = day.year    # year \n",
    "    ext_sample[day.month] = 1   # month\n",
    "    ext_sample[13] = _isWeekday(day)    # is_weekday\n",
    "    ext_sample[14] = _isWorkday(day.date())     # is_workday\n",
    "    ext_sample[15:17] = _isRushHour(sample[3])  # is_morning_rush && is_evening_rush\n",
    "    ext_sample[-2] = 0      # is_missing = 0\n",
    "    ext_sample[-1] = sample[-1]     # travel_time \n",
    "    \n",
    "    return ext_sample"
   ]
  },
  {
   "cell_type": "code",
   "execution_count": 21,
   "metadata": {},
   "outputs": [],
   "source": [
    "def _sortSequence(\n",
    "        samples : np.ndarray, \n",
    "        length : int, \n",
    "        start_time : datetime, \n",
    "        extract=True\n",
    "    ):\n",
    "\n",
    "    if extract: \n",
    "        sorted_seq = np.full([length, FEATURE_COUNT], 0)\n",
    "        sorted_seq[:, -2] = 1   # initialize is_missing = 1\n",
    "    else: sorted_seq = np.full([length, samples.shape[1]], 0)\n",
    "\n",
    "    for each in samples:\n",
    "        current_time = datetime(int(each[0]), int(each[1]), int(each[2]))\n",
    "        day = (current_time - start_time).days\n",
    "        index = (day * 1440 + int(each[3]) - 1) // 2\n",
    "\n",
    "        if index < length and index > 0:\n",
    "            if extract:\n",
    "                _extractFeature(each, sorted_seq[index], current_time)\n",
    "            else: sorted_seq[index] = each\n",
    "        else:\n",
    "            continue\n",
    "\n",
    "    return sorted_seq"
   ]
  },
  {
   "cell_type": "code",
   "execution_count": 22,
   "metadata": {},
   "outputs": [],
   "source": [
    "def sortLinks(\n",
    "        samples : tf.Tensor, \n",
    "        start_time : datetime, \n",
    "        end_time : datetime, \n",
    "        link_lens : tf.Tensor,\n",
    "        extract=True\n",
    "    ) -> tf.Tensor:\n",
    "\n",
    "    length = (end_time - start_time).days * 24 * 30\n",
    "    if extract: sorted_data = np.zeros([length, len(assigned_links), FEATURE_COUNT])\n",
    "    else: sorted_data = np.zeros([length, len(assigned_links), samples.shape[-1]-1])\n",
    "\n",
    "    for link in range(len(assigned_links)):\n",
    "        indices = tf.where(samples[:, 0] == link)\n",
    "        data = tf.gather_nd(samples, indices)[:, 1:]\n",
    "\n",
    "        sortedSeq = _sortSequence(data.numpy(), length, start_time, extract)\n",
    "\n",
    "        # avr_speed = link_length / travel_time \n",
    "        sorted_data[:, -1] = link_lens[link] / sorted_data[:, -1] \n",
    "\n",
    "        # sorted_data[:, link, :] = _normalize(sortedSeq)\n",
    "        sorted_data[:, link, :] = sortedSeq\n",
    "\n",
    "    return tf.convert_to_tensor(sorted_data, dtype=tf.float32)"
   ]
  },
  {
   "cell_type": "code",
   "execution_count": 23,
   "metadata": {},
   "outputs": [],
   "source": [
    "sortedData1 = sortLinks(samples, start_date_1, end_date_1, links[:, 1])\n",
    "sortedData2 = sortLinks(samples, start_date_2, end_date_2, links[:, 1])"
   ]
  },
  {
   "cell_type": "code",
   "execution_count": 24,
   "metadata": {},
   "outputs": [
    {
     "data": {
      "text/plain": [
       "20338560"
      ]
     },
     "execution_count": 24,
     "metadata": {},
     "output_type": "execute_result"
    }
   ],
   "source": [
    "sortedData1.shape[0] * sortedData1.shape[1] + sortedData2.shape[0] * sortedData2.shape[1]"
   ]
  },
  {
   "cell_type": "code",
   "execution_count": 25,
   "metadata": {},
   "outputs": [
    {
     "data": {
      "text/plain": [
       "2841449.0"
      ]
     },
     "execution_count": 25,
     "metadata": {},
     "output_type": "execute_result"
    }
   ],
   "source": [
    "np.sum(sortedData1[:, :, -2]) + np.sum(sortedData2[:, :, -2])"
   ]
  },
  {
   "cell_type": "code",
   "execution_count": 26,
   "metadata": {},
   "outputs": [],
   "source": [
    "spac_data = adj_matrix\n",
    "stat_data = tf.reshape(links[:, 2], (links.shape[0], 1))"
   ]
  },
  {
   "cell_type": "code",
   "execution_count": 27,
   "metadata": {},
   "outputs": [],
   "source": [
    "temp_data1 = tf.concat([tf.broadcast_to(stat_data, [sortedData1.shape[0], sortedData1.shape[1], 1]), sortedData1], 2)\n",
    "temp_data2 = tf.concat([tf.broadcast_to(stat_data, [sortedData2.shape[0], sortedData2.shape[1], 1]), sortedData2], 2)"
   ]
  },
  {
   "cell_type": "code",
   "execution_count": 28,
   "metadata": {},
   "outputs": [],
   "source": [
    "def createInOutSeq(\n",
    "        data : tf.Tensor, \n",
    "        in_length : int, \n",
    "        out_length : int, \n",
    "        test_size=7200\n",
    "    ):\n",
    "    '''\n",
    "    data shape: [m + in_length + out_length, 18]\n",
    "    in shape: [m, in_length, 18]\n",
    "    out shape: [m, out_length, 1] -> [m, out_length]\n",
    "    '''\n",
    "    train = data[:-test_size]\n",
    "    test = data[-test_size:]\n",
    "\n",
    "    m = train.shape[0] - in_length - out_length\n",
    "    train_x = np.zeros([m, in_length, train.shape[1]])\n",
    "    train_y = np.zeros([m, out_length, ])\n",
    "\n",
    "    for i in range(m):\n",
    "        current = i+in_length\n",
    "        train_x[i] = train[i:current]\n",
    "        train_y[i] = train[current:current+out_length, -1]\n",
    "\n",
    "    m = test.shape[0] - in_length - out_length\n",
    "    test_x = np.zeros([m, in_length, test.shape[1]])\n",
    "    test_y = np.zeros([m, out_length, ])\n",
    "\n",
    "    for i in range(m):\n",
    "        current = i+in_length\n",
    "        test_x[i] = test[i:current]\n",
    "        test_y[i] = test[current:current+out_length, -1]\n",
    "\n",
    "    return (train_x, train_y), (test_x, test_y)"
   ]
  },
  {
   "cell_type": "code",
   "execution_count": 29,
   "metadata": {},
   "outputs": [],
   "source": [
    "id = 22\n",
    "train1, test1 = createInOutSeq(temp_data1[:, id, :], INPUT_LENGTH, PRIDICT_LENGTH)\n",
    "train2, test2 = createInOutSeq(temp_data2[:, id, :], INPUT_LENGTH, PRIDICT_LENGTH)\n",
    "\n",
    "X_train = tf.concat([train1[0], train2[0]], 0)\n",
    "y_train = tf.concat([train1[1], train2[1]], 0)\n",
    "X_test = tf.concat([test1[0], test2[0]], 0)\n",
    "y_test = tf.concat([test1[1], test2[1]], 0)"
   ]
  },
  {
   "cell_type": "code",
   "execution_count": 17,
   "metadata": {},
   "outputs": [],
   "source": [
    "def normalize(train : np.ndarray, test : np.ndarray) -> tuple[np.ndarray, np.ndarray]:\n",
    "    train_shape = train.shape\n",
    "    test_shape = test.shape\n",
    "    train = np.reshape(train, (-1, train_shape[-1]))\n",
    "    test = np.reshape(test, (-1, test_shape[-1]))\n",
    "    scaler = preprocessing.MinMaxScaler()\n",
    "    return np.reshape(scaler.fit_transform(train), train_shape), np.reshape(scaler.transform(test), test_shape)"
   ]
  },
  {
   "cell_type": "code",
   "execution_count": 18,
   "metadata": {},
   "outputs": [],
   "source": [
    "# X_train, X_test= normalize(X_train, X_test)"
   ]
  },
  {
   "cell_type": "code",
   "execution_count": 33,
   "metadata": {},
   "outputs": [
    {
     "data": {
      "text/plain": [
       "0.06491963661774983"
      ]
     },
     "execution_count": 33,
     "metadata": {},
     "output_type": "execute_result"
    }
   ],
   "source": [
    "tf.reduce_sum(tf.cast(tf.equal(y_test, 0), dtype=tf.int32)).numpy() / (y_test.shape[0] * y_test.shape[1])"
   ]
  },
  {
   "cell_type": "code",
   "execution_count": 34,
   "metadata": {},
   "outputs": [
    {
     "data": {
      "text/plain": [
       "0.10421376889461996"
      ]
     },
     "execution_count": 34,
     "metadata": {},
     "output_type": "execute_result"
    }
   ],
   "source": [
    "tf.reduce_sum(tf.cast(tf.equal(y_train, 0), dtype=tf.int32)).numpy() / (y_train.shape[0] * y_train.shape[1])"
   ]
  },
  {
   "cell_type": "code",
   "execution_count": 38,
   "metadata": {},
   "outputs": [],
   "source": [
    "def scheduler(epoch, lr):\n",
    "    if epoch < 10: return lr\n",
    "    else: return lr * 0.9\n",
    "\n",
    "lr_scheduler = callbacks.LearningRateScheduler(scheduler)\n",
    "earlystop = callbacks.EarlyStopping(monitor='loss', min_delta=0, patience=10, verbose=1, restore_best_weights=True)"
   ]
  },
  {
   "cell_type": "code",
   "execution_count": 39,
   "metadata": {},
   "outputs": [],
   "source": [
    "import time"
   ]
  },
  {
   "cell_type": "code",
   "execution_count": 46,
   "metadata": {},
   "outputs": [
    {
     "name": "stdout",
     "output_type": "stream",
     "text": [
      "Epoch 1/1000\n",
      "311/311 [==============================] - 1s 3ms/step - loss: 21.1893 - val_loss: 18.2231 - lr: 0.0010\n",
      "Epoch 2/1000\n",
      "311/311 [==============================] - 1s 2ms/step - loss: 17.5168 - val_loss: 14.8743 - lr: 0.0010\n",
      "Epoch 3/1000\n",
      "311/311 [==============================] - 1s 2ms/step - loss: 14.9817 - val_loss: 12.4030 - lr: 0.0010\n",
      "Epoch 4/1000\n",
      "311/311 [==============================] - 1s 2ms/step - loss: 13.1843 - val_loss: 10.6014 - lr: 0.0010\n",
      "Epoch 5/1000\n",
      "311/311 [==============================] - 1s 2ms/step - loss: 11.9485 - val_loss: 9.2947 - lr: 0.0010\n",
      "Epoch 6/1000\n",
      "311/311 [==============================] - 1s 2ms/step - loss: 11.1125 - val_loss: 8.3502 - lr: 0.0010\n",
      "Epoch 7/1000\n",
      "311/311 [==============================] - 1s 2ms/step - loss: 10.5306 - val_loss: 7.6653 - lr: 0.0010\n",
      "Epoch 8/1000\n",
      "311/311 [==============================] - 1s 2ms/step - loss: 10.1120 - val_loss: 7.1412 - lr: 0.0010\n",
      "Epoch 9/1000\n",
      "311/311 [==============================] - 1s 2ms/step - loss: 9.7974 - val_loss: 6.7421 - lr: 0.0010\n",
      "Epoch 10/1000\n",
      "311/311 [==============================] - 1s 2ms/step - loss: 9.5476 - val_loss: 6.4247 - lr: 0.0010\n",
      "Epoch 11/1000\n",
      "311/311 [==============================] - 1s 2ms/step - loss: 9.3683 - val_loss: 6.2104 - lr: 9.0000e-04\n",
      "Epoch 12/1000\n",
      "311/311 [==============================] - 1s 2ms/step - loss: 9.2219 - val_loss: 6.0479 - lr: 8.1000e-04\n",
      "Epoch 13/1000\n",
      "311/311 [==============================] - 1s 2ms/step - loss: 9.1388 - val_loss: 5.9285 - lr: 7.2900e-04\n",
      "Epoch 14/1000\n",
      "311/311 [==============================] - 1s 2ms/step - loss: 9.0510 - val_loss: 5.8441 - lr: 6.5610e-04\n",
      "Epoch 15/1000\n",
      "311/311 [==============================] - 1s 2ms/step - loss: 9.0101 - val_loss: 5.7762 - lr: 5.9049e-04\n",
      "Epoch 16/1000\n",
      "311/311 [==============================] - 1s 2ms/step - loss: 8.9491 - val_loss: 5.7263 - lr: 5.3144e-04\n",
      "Epoch 17/1000\n",
      "311/311 [==============================] - 1s 2ms/step - loss: 8.9009 - val_loss: 5.6878 - lr: 4.7830e-04\n",
      "Epoch 18/1000\n",
      "311/311 [==============================] - 1s 2ms/step - loss: 8.8651 - val_loss: 5.6550 - lr: 4.3047e-04\n",
      "Epoch 19/1000\n",
      "311/311 [==============================] - 1s 2ms/step - loss: 8.8386 - val_loss: 5.6309 - lr: 3.8742e-04\n",
      "Epoch 20/1000\n",
      "311/311 [==============================] - 1s 2ms/step - loss: 8.7970 - val_loss: 5.6073 - lr: 3.4868e-04\n",
      "Epoch 21/1000\n",
      "311/311 [==============================] - 1s 2ms/step - loss: 8.7723 - val_loss: 5.5929 - lr: 3.1381e-04\n",
      "Epoch 22/1000\n",
      "311/311 [==============================] - 1s 2ms/step - loss: 8.7414 - val_loss: 5.5781 - lr: 2.8243e-04\n",
      "Epoch 23/1000\n",
      "311/311 [==============================] - 1s 2ms/step - loss: 8.7107 - val_loss: 5.5653 - lr: 2.5419e-04\n",
      "Epoch 24/1000\n",
      "311/311 [==============================] - 1s 2ms/step - loss: 8.6658 - val_loss: 5.5522 - lr: 2.2877e-04\n",
      "Epoch 25/1000\n",
      "311/311 [==============================] - 1s 2ms/step - loss: 8.6284 - val_loss: 5.5458 - lr: 2.0589e-04\n",
      "Epoch 26/1000\n",
      "311/311 [==============================] - 1s 2ms/step - loss: 8.6054 - val_loss: 5.5384 - lr: 1.8530e-04\n",
      "Epoch 27/1000\n",
      "311/311 [==============================] - 1s 2ms/step - loss: 8.5846 - val_loss: 5.5317 - lr: 1.6677e-04\n",
      "Epoch 28/1000\n",
      "311/311 [==============================] - 1s 2ms/step - loss: 8.5584 - val_loss: 5.5252 - lr: 1.5009e-04\n",
      "Epoch 29/1000\n",
      "311/311 [==============================] - 1s 2ms/step - loss: 8.5474 - val_loss: 5.5175 - lr: 1.3509e-04\n",
      "Epoch 30/1000\n",
      "311/311 [==============================] - 1s 2ms/step - loss: 8.5282 - val_loss: 5.5122 - lr: 1.2158e-04\n",
      "Epoch 31/1000\n",
      "311/311 [==============================] - 1s 2ms/step - loss: 8.5277 - val_loss: 5.5069 - lr: 1.0942e-04\n",
      "Epoch 32/1000\n",
      "311/311 [==============================] - 1s 2ms/step - loss: 8.5024 - val_loss: 5.5030 - lr: 9.8477e-05\n",
      "Epoch 33/1000\n",
      "311/311 [==============================] - 1s 2ms/step - loss: 8.5120 - val_loss: 5.4982 - lr: 8.8629e-05\n",
      "Epoch 34/1000\n",
      "311/311 [==============================] - 1s 2ms/step - loss: 8.4928 - val_loss: 5.4953 - lr: 7.9766e-05\n",
      "Epoch 35/1000\n",
      "311/311 [==============================] - 1s 2ms/step - loss: 8.4843 - val_loss: 5.4919 - lr: 7.1790e-05\n",
      "Epoch 36/1000\n",
      "311/311 [==============================] - 1s 2ms/step - loss: 8.4773 - val_loss: 5.4881 - lr: 6.4611e-05\n",
      "Epoch 37/1000\n",
      "311/311 [==============================] - 1s 2ms/step - loss: 8.4772 - val_loss: 5.4854 - lr: 5.8150e-05\n",
      "Epoch 38/1000\n",
      "311/311 [==============================] - 1s 2ms/step - loss: 8.4716 - val_loss: 5.4843 - lr: 5.2335e-05\n",
      "Epoch 39/1000\n",
      "311/311 [==============================] - 1s 2ms/step - loss: 8.4560 - val_loss: 5.4818 - lr: 4.7101e-05\n",
      "Epoch 40/1000\n",
      "311/311 [==============================] - 1s 2ms/step - loss: 8.4685 - val_loss: 5.4802 - lr: 4.2391e-05\n",
      "Epoch 41/1000\n",
      "311/311 [==============================] - 1s 2ms/step - loss: 8.4671 - val_loss: 5.4782 - lr: 3.8152e-05\n",
      "Epoch 42/1000\n",
      "311/311 [==============================] - 1s 2ms/step - loss: 8.4447 - val_loss: 5.4768 - lr: 3.4337e-05\n",
      "Epoch 43/1000\n",
      "311/311 [==============================] - 1s 2ms/step - loss: 8.4550 - val_loss: 5.4755 - lr: 3.0903e-05\n",
      "Epoch 44/1000\n",
      "311/311 [==============================] - 1s 2ms/step - loss: 8.4514 - val_loss: 5.4744 - lr: 2.7813e-05\n",
      "Epoch 45/1000\n",
      "311/311 [==============================] - 1s 2ms/step - loss: 8.4358 - val_loss: 5.5338 - lr: 2.5032e-05\n",
      "Epoch 46/1000\n",
      "311/311 [==============================] - 1s 2ms/step - loss: 8.4261 - val_loss: 5.6266 - lr: 2.2528e-05\n",
      "Epoch 47/1000\n",
      "311/311 [==============================] - 1s 2ms/step - loss: 8.4106 - val_loss: 5.5848 - lr: 2.0276e-05\n",
      "Epoch 48/1000\n",
      "311/311 [==============================] - 1s 2ms/step - loss: 8.4041 - val_loss: 5.6085 - lr: 1.8248e-05\n",
      "Epoch 49/1000\n",
      "311/311 [==============================] - 1s 2ms/step - loss: 8.3920 - val_loss: 5.6130 - lr: 1.6423e-05\n",
      "Epoch 50/1000\n",
      "311/311 [==============================] - 1s 2ms/step - loss: 8.3882 - val_loss: 5.5930 - lr: 1.4781e-05\n",
      "Epoch 51/1000\n",
      "311/311 [==============================] - 1s 2ms/step - loss: 8.3980 - val_loss: 5.5949 - lr: 1.3303e-05\n",
      "Epoch 52/1000\n",
      "311/311 [==============================] - 1s 2ms/step - loss: 8.3874 - val_loss: 5.5744 - lr: 1.1973e-05\n",
      "Epoch 53/1000\n",
      "311/311 [==============================] - 1s 2ms/step - loss: 8.3750 - val_loss: 5.5806 - lr: 1.0775e-05\n",
      "Epoch 54/1000\n",
      "311/311 [==============================] - 1s 2ms/step - loss: 8.3921 - val_loss: 5.6022 - lr: 9.6977e-06\n",
      "Epoch 55/1000\n",
      "311/311 [==============================] - 1s 2ms/step - loss: 8.3935 - val_loss: 5.6007 - lr: 8.7280e-06\n",
      "Epoch 56/1000\n",
      "311/311 [==============================] - 1s 2ms/step - loss: 8.3832 - val_loss: 5.6043 - lr: 7.8552e-06\n",
      "Epoch 57/1000\n",
      "311/311 [==============================] - 1s 2ms/step - loss: 8.3829 - val_loss: 5.5859 - lr: 7.0697e-06\n",
      "Epoch 58/1000\n",
      "311/311 [==============================] - 1s 2ms/step - loss: 8.3783 - val_loss: 5.5987 - lr: 6.3627e-06\n",
      "Epoch 59/1000\n",
      "311/311 [==============================] - 1s 2ms/step - loss: 8.3781 - val_loss: 5.5830 - lr: 5.7264e-06\n",
      "Epoch 60/1000\n",
      "311/311 [==============================] - 1s 2ms/step - loss: 8.3812 - val_loss: 5.5844 - lr: 5.1538e-06\n",
      "Epoch 61/1000\n",
      "311/311 [==============================] - 1s 2ms/step - loss: 8.3805 - val_loss: 5.5851 - lr: 4.6384e-06\n",
      "Epoch 62/1000\n",
      "311/311 [==============================] - 1s 2ms/step - loss: 8.3739 - val_loss: 5.5755 - lr: 4.1746e-06\n",
      "Epoch 63/1000\n",
      "311/311 [==============================] - 1s 2ms/step - loss: 8.3721 - val_loss: 5.5927 - lr: 3.7571e-06\n",
      "Epoch 64/1000\n",
      "311/311 [==============================] - 1s 2ms/step - loss: 8.3784 - val_loss: 5.5795 - lr: 3.3814e-06\n",
      "Epoch 65/1000\n",
      "311/311 [==============================] - 1s 2ms/step - loss: 8.3681 - val_loss: 5.5892 - lr: 3.0433e-06\n",
      "Epoch 66/1000\n",
      "311/311 [==============================] - 1s 2ms/step - loss: 8.3722 - val_loss: 5.5940 - lr: 2.7389e-06\n",
      "Epoch 67/1000\n",
      "311/311 [==============================] - 1s 2ms/step - loss: 8.3771 - val_loss: 5.5921 - lr: 2.4650e-06\n",
      "Epoch 68/1000\n",
      "311/311 [==============================] - 1s 2ms/step - loss: 8.3697 - val_loss: 5.5872 - lr: 2.2185e-06\n",
      "Epoch 69/1000\n",
      "311/311 [==============================] - 1s 2ms/step - loss: 8.3733 - val_loss: 5.5819 - lr: 1.9967e-06\n",
      "Epoch 70/1000\n",
      "311/311 [==============================] - 1s 2ms/step - loss: 8.3697 - val_loss: 5.5855 - lr: 1.7970e-06\n",
      "Epoch 71/1000\n",
      "311/311 [==============================] - 1s 2ms/step - loss: 8.3749 - val_loss: 5.5864 - lr: 1.6173e-06\n",
      "Epoch 72/1000\n",
      "311/311 [==============================] - 1s 2ms/step - loss: 8.3686 - val_loss: 5.5828 - lr: 1.4556e-06\n",
      "Epoch 73/1000\n",
      "311/311 [==============================] - 1s 2ms/step - loss: 8.3683 - val_loss: 5.5792 - lr: 1.3100e-06\n",
      "Epoch 74/1000\n",
      "311/311 [==============================] - 1s 2ms/step - loss: 8.3711 - val_loss: 5.5861 - lr: 1.1790e-06\n",
      "Epoch 75/1000\n",
      "311/311 [==============================] - 1s 2ms/step - loss: 8.3609 - val_loss: 5.5860 - lr: 1.0611e-06\n",
      "Epoch 76/1000\n",
      "311/311 [==============================] - 1s 2ms/step - loss: 8.3726 - val_loss: 5.5856 - lr: 9.5501e-07\n",
      "Epoch 77/1000\n",
      "311/311 [==============================] - 1s 2ms/step - loss: 8.3714 - val_loss: 5.5839 - lr: 8.5950e-07\n",
      "Epoch 78/1000\n",
      "311/311 [==============================] - 1s 2ms/step - loss: 8.3637 - val_loss: 5.5820 - lr: 7.7355e-07\n",
      "Epoch 79/1000\n",
      "311/311 [==============================] - 1s 2ms/step - loss: 8.3760 - val_loss: 5.5845 - lr: 6.9620e-07\n",
      "Epoch 80/1000\n",
      "311/311 [==============================] - 1s 2ms/step - loss: 8.3705 - val_loss: 5.5832 - lr: 6.2658e-07\n",
      "Epoch 81/1000\n",
      "311/311 [==============================] - 1s 2ms/step - loss: 8.3711 - val_loss: 5.5849 - lr: 5.6392e-07\n",
      "Epoch 82/1000\n",
      "311/311 [==============================] - 1s 2ms/step - loss: 8.3702 - val_loss: 5.5844 - lr: 5.0753e-07\n",
      "Epoch 83/1000\n",
      "311/311 [==============================] - 1s 2ms/step - loss: 8.3755 - val_loss: 5.5855 - lr: 4.5678e-07\n",
      "Epoch 84/1000\n",
      "311/311 [==============================] - 1s 2ms/step - loss: 8.3597 - val_loss: 5.5830 - lr: 4.1110e-07\n",
      "Epoch 85/1000\n",
      "311/311 [==============================] - 1s 2ms/step - loss: 8.3625 - val_loss: 5.5815 - lr: 3.6999e-07\n",
      "Epoch 86/1000\n",
      "311/311 [==============================] - 1s 2ms/step - loss: 8.3649 - val_loss: 5.5823 - lr: 3.3299e-07\n",
      "Epoch 87/1000\n",
      "311/311 [==============================] - 1s 2ms/step - loss: 8.3617 - val_loss: 5.5817 - lr: 2.9969e-07\n",
      "Epoch 88/1000\n",
      "311/311 [==============================] - 1s 2ms/step - loss: 8.3715 - val_loss: 5.5821 - lr: 2.6972e-07\n",
      "Epoch 89/1000\n",
      "311/311 [==============================] - 1s 2ms/step - loss: 8.3693 - val_loss: 5.5822 - lr: 2.4275e-07\n",
      "Epoch 90/1000\n",
      "311/311 [==============================] - 1s 2ms/step - loss: 8.3706 - val_loss: 5.5835 - lr: 2.1847e-07\n",
      "Epoch 91/1000\n",
      "311/311 [==============================] - 1s 2ms/step - loss: 8.3630 - val_loss: 5.5831 - lr: 1.9663e-07\n",
      "Epoch 92/1000\n",
      "311/311 [==============================] - 1s 2ms/step - loss: 8.3697 - val_loss: 5.5839 - lr: 1.7696e-07\n",
      "Epoch 93/1000\n",
      "311/311 [==============================] - 1s 2ms/step - loss: 8.3714 - val_loss: 5.5837 - lr: 1.5927e-07\n",
      "Epoch 94/1000\n",
      "295/311 [===========================>..] - ETA: 0s - loss: 8.4282Restoring model weights from the end of the best epoch: 84.\n",
      "311/311 [==============================] - 1s 2ms/step - loss: 8.3690 - val_loss: 5.5841 - lr: 1.4334e-07\n",
      "Epoch 94: early stopping\n",
      "448/448 [==============================] - 0s 715us/step - loss: 6.4040\n",
      "Epoch 1/1000\n",
      "311/311 [==============================] - 1s 2ms/step - loss: 18.4846 - val_loss: 12.3996 - lr: 0.0010\n",
      "Epoch 2/1000\n",
      "311/311 [==============================] - 1s 2ms/step - loss: 11.9526 - val_loss: 8.2809 - lr: 0.0010\n",
      "Epoch 3/1000\n",
      "311/311 [==============================] - 1s 2ms/step - loss: 10.0016 - val_loss: 6.7515 - lr: 0.0010\n",
      "Epoch 4/1000\n",
      "311/311 [==============================] - 1s 2ms/step - loss: 9.2937 - val_loss: 6.0764 - lr: 0.0010\n",
      "Epoch 5/1000\n",
      "311/311 [==============================] - 1s 2ms/step - loss: 8.9970 - val_loss: 5.7471 - lr: 0.0010\n",
      "Epoch 6/1000\n",
      "311/311 [==============================] - 1s 2ms/step - loss: 8.8531 - val_loss: 5.5842 - lr: 0.0010\n",
      "Epoch 7/1000\n",
      "311/311 [==============================] - 1s 2ms/step - loss: 8.7666 - val_loss: 5.5023 - lr: 0.0010\n",
      "Epoch 8/1000\n",
      "311/311 [==============================] - 1s 2ms/step - loss: 8.7465 - val_loss: 5.4224 - lr: 0.0010\n",
      "Epoch 9/1000\n",
      "311/311 [==============================] - 1s 2ms/step - loss: 8.6670 - val_loss: 5.4107 - lr: 0.0010\n",
      "Epoch 10/1000\n",
      "311/311 [==============================] - 1s 2ms/step - loss: 8.6061 - val_loss: 5.4104 - lr: 0.0010\n",
      "Epoch 11/1000\n",
      "311/311 [==============================] - 1s 2ms/step - loss: 8.5617 - val_loss: 5.4191 - lr: 9.0000e-04\n",
      "Epoch 12/1000\n",
      "311/311 [==============================] - 1s 2ms/step - loss: 8.5279 - val_loss: 5.4022 - lr: 8.1000e-04\n",
      "Epoch 13/1000\n",
      "311/311 [==============================] - 1s 2ms/step - loss: 8.5064 - val_loss: 5.4008 - lr: 7.2900e-04\n",
      "Epoch 14/1000\n",
      "311/311 [==============================] - 1s 2ms/step - loss: 8.4947 - val_loss: 5.3984 - lr: 6.5610e-04\n",
      "Epoch 15/1000\n",
      "311/311 [==============================] - 1s 2ms/step - loss: 8.4597 - val_loss: 5.3994 - lr: 5.9049e-04\n",
      "Epoch 16/1000\n",
      "311/311 [==============================] - 1s 2ms/step - loss: 8.4580 - val_loss: 5.3940 - lr: 5.3144e-04\n",
      "Epoch 17/1000\n",
      "311/311 [==============================] - 1s 2ms/step - loss: 8.4202 - val_loss: 5.3899 - lr: 4.7830e-04\n",
      "Epoch 18/1000\n",
      "311/311 [==============================] - 1s 2ms/step - loss: 8.4098 - val_loss: 5.3807 - lr: 4.3047e-04\n",
      "Epoch 19/1000\n",
      "311/311 [==============================] - 1s 2ms/step - loss: 8.3950 - val_loss: 5.3756 - lr: 3.8742e-04\n",
      "Epoch 20/1000\n",
      "311/311 [==============================] - 1s 2ms/step - loss: 8.4060 - val_loss: 5.3790 - lr: 3.4868e-04\n",
      "Epoch 21/1000\n",
      "311/311 [==============================] - 1s 2ms/step - loss: 8.3833 - val_loss: 5.3780 - lr: 3.1381e-04\n",
      "Epoch 22/1000\n",
      "311/311 [==============================] - 1s 2ms/step - loss: 8.3748 - val_loss: 5.3756 - lr: 2.8243e-04\n",
      "Epoch 23/1000\n",
      "311/311 [==============================] - 1s 2ms/step - loss: 8.3657 - val_loss: 5.3724 - lr: 2.5419e-04\n",
      "Epoch 24/1000\n",
      "311/311 [==============================] - 1s 2ms/step - loss: 8.3584 - val_loss: 5.3722 - lr: 2.2877e-04\n",
      "Epoch 25/1000\n",
      "311/311 [==============================] - 1s 2ms/step - loss: 8.3575 - val_loss: 5.3741 - lr: 2.0589e-04\n",
      "Epoch 26/1000\n",
      "311/311 [==============================] - 1s 2ms/step - loss: 8.3532 - val_loss: 5.3732 - lr: 1.8530e-04\n",
      "Epoch 27/1000\n",
      "311/311 [==============================] - 1s 2ms/step - loss: 8.3427 - val_loss: 5.3715 - lr: 1.6677e-04\n",
      "Epoch 28/1000\n",
      "311/311 [==============================] - 1s 2ms/step - loss: 8.3416 - val_loss: 5.3717 - lr: 1.5009e-04\n",
      "Epoch 29/1000\n",
      "311/311 [==============================] - 1s 2ms/step - loss: 8.3445 - val_loss: 5.3703 - lr: 1.3509e-04\n",
      "Epoch 30/1000\n",
      "311/311 [==============================] - 1s 2ms/step - loss: 8.3371 - val_loss: 5.3677 - lr: 1.2158e-04\n",
      "Epoch 31/1000\n",
      "311/311 [==============================] - 1s 2ms/step - loss: 8.3281 - val_loss: 5.3672 - lr: 1.0942e-04\n",
      "Epoch 32/1000\n",
      "311/311 [==============================] - 1s 2ms/step - loss: 8.3274 - val_loss: 5.3653 - lr: 9.8477e-05\n",
      "Epoch 33/1000\n",
      "311/311 [==============================] - 1s 2ms/step - loss: 8.3238 - val_loss: 5.3664 - lr: 8.8629e-05\n",
      "Epoch 34/1000\n",
      "311/311 [==============================] - 1s 2ms/step - loss: 8.3259 - val_loss: 5.3684 - lr: 7.9766e-05\n",
      "Epoch 35/1000\n",
      "311/311 [==============================] - 1s 2ms/step - loss: 8.3159 - val_loss: 5.3652 - lr: 7.1790e-05\n",
      "Epoch 36/1000\n",
      "311/311 [==============================] - 1s 2ms/step - loss: 8.3239 - val_loss: 5.3653 - lr: 6.4611e-05\n",
      "Epoch 37/1000\n",
      "311/311 [==============================] - 1s 2ms/step - loss: 8.3172 - val_loss: 5.3657 - lr: 5.8150e-05\n",
      "Epoch 38/1000\n",
      "311/311 [==============================] - 1s 2ms/step - loss: 8.3097 - val_loss: 5.3630 - lr: 5.2335e-05\n",
      "Epoch 39/1000\n",
      "311/311 [==============================] - 1s 2ms/step - loss: 8.3189 - val_loss: 5.3647 - lr: 4.7101e-05\n",
      "Epoch 40/1000\n",
      "311/311 [==============================] - 1s 2ms/step - loss: 8.3122 - val_loss: 5.3637 - lr: 4.2391e-05\n",
      "Epoch 41/1000\n",
      "311/311 [==============================] - 1s 2ms/step - loss: 8.3112 - val_loss: 5.3620 - lr: 3.8152e-05\n",
      "Epoch 42/1000\n",
      "311/311 [==============================] - 1s 2ms/step - loss: 8.3174 - val_loss: 5.3647 - lr: 3.4337e-05\n",
      "Epoch 43/1000\n",
      "311/311 [==============================] - 1s 2ms/step - loss: 8.3086 - val_loss: 5.3630 - lr: 3.0903e-05\n",
      "Epoch 44/1000\n",
      "311/311 [==============================] - 1s 2ms/step - loss: 8.3112 - val_loss: 5.3628 - lr: 2.7813e-05\n",
      "Epoch 45/1000\n",
      "311/311 [==============================] - 1s 2ms/step - loss: 8.3139 - val_loss: 5.3630 - lr: 2.5032e-05\n",
      "Epoch 46/1000\n",
      "311/311 [==============================] - 1s 2ms/step - loss: 8.3133 - val_loss: 5.3635 - lr: 2.2528e-05\n",
      "Epoch 47/1000\n",
      "311/311 [==============================] - 1s 2ms/step - loss: 8.3070 - val_loss: 5.3644 - lr: 2.0276e-05\n",
      "Epoch 48/1000\n",
      "311/311 [==============================] - 1s 2ms/step - loss: 8.3009 - val_loss: 5.3632 - lr: 1.8248e-05\n",
      "Epoch 49/1000\n",
      "311/311 [==============================] - 1s 2ms/step - loss: 8.3104 - val_loss: 5.3627 - lr: 1.6423e-05\n",
      "Epoch 50/1000\n",
      "311/311 [==============================] - 1s 2ms/step - loss: 8.3045 - val_loss: 5.3627 - lr: 1.4781e-05\n",
      "Epoch 51/1000\n",
      "311/311 [==============================] - 1s 2ms/step - loss: 8.3047 - val_loss: 5.3620 - lr: 1.3303e-05\n",
      "Epoch 52/1000\n",
      "311/311 [==============================] - 1s 2ms/step - loss: 8.3026 - val_loss: 5.3620 - lr: 1.1973e-05\n",
      "Epoch 53/1000\n",
      "311/311 [==============================] - 1s 2ms/step - loss: 8.3043 - val_loss: 5.3622 - lr: 1.0775e-05\n",
      "Epoch 54/1000\n",
      "311/311 [==============================] - 1s 2ms/step - loss: 8.3129 - val_loss: 5.3629 - lr: 9.6977e-06\n",
      "Epoch 55/1000\n",
      "311/311 [==============================] - 1s 2ms/step - loss: 8.3060 - val_loss: 5.3626 - lr: 8.7280e-06\n",
      "Epoch 56/1000\n",
      "311/311 [==============================] - 1s 2ms/step - loss: 8.3046 - val_loss: 5.3627 - lr: 7.8552e-06\n",
      "Epoch 57/1000\n",
      "311/311 [==============================] - 1s 2ms/step - loss: 8.3062 - val_loss: 5.3625 - lr: 7.0697e-06\n",
      "Epoch 58/1000\n",
      "293/311 [===========================>..] - ETA: 0s - loss: 8.2862Restoring model weights from the end of the best epoch: 48.\n",
      "311/311 [==============================] - 1s 2ms/step - loss: 8.3074 - val_loss: 5.3623 - lr: 6.3627e-06\n",
      "Epoch 58: early stopping\n",
      "448/448 [==============================] - 0s 691us/step - loss: 6.2977\n",
      "Epoch 1/1000\n",
      "311/311 [==============================] - 1s 2ms/step - loss: 13.2664 - val_loss: 6.9587 - lr: 0.0010\n",
      "Epoch 2/1000\n",
      "311/311 [==============================] - 1s 2ms/step - loss: 8.9462 - val_loss: 5.6399 - lr: 0.0010\n",
      "Epoch 3/1000\n",
      "311/311 [==============================] - 1s 2ms/step - loss: 8.5340 - val_loss: 5.4108 - lr: 0.0010\n",
      "Epoch 4/1000\n",
      "311/311 [==============================] - 1s 2ms/step - loss: 8.4625 - val_loss: 5.3902 - lr: 0.0010\n",
      "Epoch 5/1000\n",
      "311/311 [==============================] - 1s 2ms/step - loss: 8.4194 - val_loss: 5.3599 - lr: 0.0010\n",
      "Epoch 6/1000\n",
      "311/311 [==============================] - 1s 2ms/step - loss: 8.4016 - val_loss: 5.3518 - lr: 0.0010\n",
      "Epoch 7/1000\n",
      "311/311 [==============================] - 1s 2ms/step - loss: 8.3724 - val_loss: 5.3458 - lr: 0.0010\n",
      "Epoch 8/1000\n",
      "311/311 [==============================] - 1s 2ms/step - loss: 8.3687 - val_loss: 5.3499 - lr: 0.0010\n",
      "Epoch 9/1000\n",
      "311/311 [==============================] - 1s 2ms/step - loss: 8.3435 - val_loss: 5.3455 - lr: 0.0010\n",
      "Epoch 10/1000\n",
      "311/311 [==============================] - 1s 2ms/step - loss: 8.3324 - val_loss: 5.3470 - lr: 0.0010\n",
      "Epoch 11/1000\n",
      "311/311 [==============================] - 1s 2ms/step - loss: 8.3140 - val_loss: 5.3337 - lr: 9.0000e-04\n",
      "Epoch 12/1000\n",
      "311/311 [==============================] - 1s 2ms/step - loss: 8.2846 - val_loss: 5.3288 - lr: 8.1000e-04\n",
      "Epoch 13/1000\n",
      "311/311 [==============================] - 1s 2ms/step - loss: 8.2886 - val_loss: 5.3435 - lr: 7.2900e-04\n",
      "Epoch 14/1000\n",
      "311/311 [==============================] - 1s 2ms/step - loss: 8.2747 - val_loss: 5.3523 - lr: 6.5610e-04\n",
      "Epoch 15/1000\n",
      "311/311 [==============================] - 1s 2ms/step - loss: 8.2727 - val_loss: 5.3387 - lr: 5.9049e-04\n",
      "Epoch 16/1000\n",
      "311/311 [==============================] - 1s 2ms/step - loss: 8.2610 - val_loss: 5.3405 - lr: 5.3144e-04\n",
      "Epoch 17/1000\n",
      "311/311 [==============================] - 1s 2ms/step - loss: 8.2609 - val_loss: 5.3464 - lr: 4.7830e-04\n",
      "Epoch 18/1000\n",
      "311/311 [==============================] - 1s 2ms/step - loss: 8.2535 - val_loss: 5.3252 - lr: 4.3047e-04\n",
      "Epoch 19/1000\n",
      "311/311 [==============================] - 1s 2ms/step - loss: 8.2526 - val_loss: 5.3357 - lr: 3.8742e-04\n",
      "Epoch 20/1000\n",
      "311/311 [==============================] - 1s 2ms/step - loss: 8.2458 - val_loss: 5.3370 - lr: 3.4868e-04\n",
      "Epoch 21/1000\n",
      "311/311 [==============================] - 1s 2ms/step - loss: 8.2376 - val_loss: 5.3332 - lr: 3.1381e-04\n",
      "Epoch 22/1000\n",
      "311/311 [==============================] - 1s 2ms/step - loss: 8.2395 - val_loss: 5.3357 - lr: 2.8243e-04\n",
      "Epoch 23/1000\n",
      "311/311 [==============================] - 1s 2ms/step - loss: 8.2352 - val_loss: 5.3454 - lr: 2.5419e-04\n",
      "Epoch 24/1000\n",
      "311/311 [==============================] - 1s 2ms/step - loss: 8.2352 - val_loss: 5.3292 - lr: 2.2877e-04\n",
      "Epoch 25/1000\n",
      "311/311 [==============================] - 1s 2ms/step - loss: 8.2236 - val_loss: 5.3385 - lr: 2.0589e-04\n",
      "Epoch 26/1000\n",
      "311/311 [==============================] - 1s 2ms/step - loss: 8.2254 - val_loss: 5.3310 - lr: 1.8530e-04\n",
      "Epoch 27/1000\n",
      "311/311 [==============================] - 1s 2ms/step - loss: 8.2334 - val_loss: 5.3302 - lr: 1.6677e-04\n",
      "Epoch 28/1000\n",
      "311/311 [==============================] - 1s 2ms/step - loss: 8.2251 - val_loss: 5.3358 - lr: 1.5009e-04\n",
      "Epoch 29/1000\n",
      "311/311 [==============================] - 1s 2ms/step - loss: 8.2262 - val_loss: 5.3343 - lr: 1.3509e-04\n",
      "Epoch 30/1000\n",
      "311/311 [==============================] - 1s 2ms/step - loss: 8.2275 - val_loss: 5.3348 - lr: 1.2158e-04\n",
      "Epoch 31/1000\n",
      "311/311 [==============================] - 1s 2ms/step - loss: 8.2293 - val_loss: 5.3403 - lr: 1.0942e-04\n",
      "Epoch 32/1000\n",
      "311/311 [==============================] - 1s 2ms/step - loss: 8.2244 - val_loss: 5.3385 - lr: 9.8477e-05\n",
      "Epoch 33/1000\n",
      "311/311 [==============================] - 1s 2ms/step - loss: 8.2315 - val_loss: 5.3361 - lr: 8.8629e-05\n",
      "Epoch 34/1000\n",
      "311/311 [==============================] - 1s 2ms/step - loss: 8.2219 - val_loss: 5.3360 - lr: 7.9766e-05\n",
      "Epoch 35/1000\n",
      "311/311 [==============================] - 1s 2ms/step - loss: 8.2115 - val_loss: 5.3344 - lr: 7.1790e-05\n",
      "Epoch 36/1000\n",
      "311/311 [==============================] - 1s 2ms/step - loss: 8.2204 - val_loss: 5.3328 - lr: 6.4611e-05\n",
      "Epoch 37/1000\n",
      "311/311 [==============================] - 1s 2ms/step - loss: 8.2162 - val_loss: 5.3346 - lr: 5.8150e-05\n",
      "Epoch 38/1000\n",
      "311/311 [==============================] - 1s 2ms/step - loss: 8.2201 - val_loss: 5.3344 - lr: 5.2335e-05\n",
      "Epoch 39/1000\n",
      "311/311 [==============================] - 1s 2ms/step - loss: 8.2176 - val_loss: 5.3369 - lr: 4.7101e-05\n",
      "Epoch 40/1000\n",
      "311/311 [==============================] - 1s 2ms/step - loss: 8.2191 - val_loss: 5.3368 - lr: 4.2391e-05\n",
      "Epoch 41/1000\n",
      "311/311 [==============================] - 1s 2ms/step - loss: 8.2242 - val_loss: 5.3368 - lr: 3.8152e-05\n",
      "Epoch 42/1000\n",
      "311/311 [==============================] - 1s 2ms/step - loss: 8.2206 - val_loss: 5.3342 - lr: 3.4337e-05\n",
      "Epoch 43/1000\n",
      "311/311 [==============================] - 1s 2ms/step - loss: 8.2209 - val_loss: 5.3355 - lr: 3.0903e-05\n",
      "Epoch 44/1000\n",
      "311/311 [==============================] - 1s 2ms/step - loss: 8.2105 - val_loss: 5.3349 - lr: 2.7813e-05\n",
      "Epoch 45/1000\n",
      "311/311 [==============================] - 1s 2ms/step - loss: 8.2192 - val_loss: 5.3351 - lr: 2.5032e-05\n",
      "Epoch 46/1000\n",
      "311/311 [==============================] - 1s 2ms/step - loss: 8.2180 - val_loss: 5.3348 - lr: 2.2528e-05\n",
      "Epoch 47/1000\n",
      "311/311 [==============================] - 1s 2ms/step - loss: 8.2177 - val_loss: 5.3355 - lr: 2.0276e-05\n",
      "Epoch 48/1000\n",
      "311/311 [==============================] - 1s 2ms/step - loss: 8.2169 - val_loss: 5.3356 - lr: 1.8248e-05\n",
      "Epoch 49/1000\n",
      "311/311 [==============================] - 1s 2ms/step - loss: 8.2097 - val_loss: 5.3355 - lr: 1.6423e-05\n",
      "Epoch 50/1000\n",
      "311/311 [==============================] - 1s 2ms/step - loss: 8.2153 - val_loss: 5.3349 - lr: 1.4781e-05\n",
      "Epoch 51/1000\n",
      "311/311 [==============================] - 1s 2ms/step - loss: 8.2170 - val_loss: 5.3352 - lr: 1.3303e-05\n",
      "Epoch 52/1000\n",
      "311/311 [==============================] - 1s 2ms/step - loss: 8.2120 - val_loss: 5.3354 - lr: 1.1973e-05\n",
      "Epoch 53/1000\n",
      "311/311 [==============================] - 1s 2ms/step - loss: 8.2135 - val_loss: 5.3355 - lr: 1.0775e-05\n",
      "Epoch 54/1000\n",
      "311/311 [==============================] - 1s 2ms/step - loss: 8.2097 - val_loss: 5.3359 - lr: 9.6977e-06\n",
      "Epoch 55/1000\n",
      "311/311 [==============================] - 1s 2ms/step - loss: 8.2051 - val_loss: 5.3355 - lr: 8.7280e-06\n",
      "Epoch 56/1000\n",
      "311/311 [==============================] - 1s 2ms/step - loss: 8.2123 - val_loss: 5.3356 - lr: 7.8552e-06\n",
      "Epoch 57/1000\n",
      "311/311 [==============================] - 1s 2ms/step - loss: 8.2049 - val_loss: 5.3355 - lr: 7.0697e-06\n",
      "Epoch 58/1000\n",
      "311/311 [==============================] - 1s 2ms/step - loss: 8.2179 - val_loss: 5.3356 - lr: 6.3627e-06\n",
      "Epoch 59/1000\n",
      "311/311 [==============================] - 1s 2ms/step - loss: 8.2129 - val_loss: 5.3356 - lr: 5.7264e-06\n",
      "Epoch 60/1000\n",
      "311/311 [==============================] - 1s 2ms/step - loss: 8.2018 - val_loss: 5.3355 - lr: 5.1538e-06\n",
      "Epoch 61/1000\n",
      "311/311 [==============================] - 1s 2ms/step - loss: 8.2109 - val_loss: 5.3356 - lr: 4.6384e-06\n",
      "Epoch 62/1000\n",
      "311/311 [==============================] - 1s 2ms/step - loss: 8.2154 - val_loss: 5.3357 - lr: 4.1746e-06\n",
      "Epoch 63/1000\n",
      "311/311 [==============================] - 1s 2ms/step - loss: 8.2149 - val_loss: 5.3355 - lr: 3.7571e-06\n",
      "Epoch 64/1000\n",
      "311/311 [==============================] - 1s 2ms/step - loss: 8.2151 - val_loss: 5.3356 - lr: 3.3814e-06\n",
      "Epoch 65/1000\n",
      "311/311 [==============================] - 1s 2ms/step - loss: 8.2111 - val_loss: 5.3356 - lr: 3.0433e-06\n",
      "Epoch 66/1000\n",
      "311/311 [==============================] - 1s 2ms/step - loss: 8.2156 - val_loss: 5.3357 - lr: 2.7389e-06\n",
      "Epoch 67/1000\n",
      "311/311 [==============================] - 1s 2ms/step - loss: 8.2085 - val_loss: 5.3356 - lr: 2.4650e-06\n",
      "Epoch 68/1000\n",
      "311/311 [==============================] - 1s 2ms/step - loss: 8.2092 - val_loss: 5.3357 - lr: 2.2185e-06\n",
      "Epoch 69/1000\n",
      "311/311 [==============================] - 1s 2ms/step - loss: 8.2125 - val_loss: 5.3357 - lr: 1.9967e-06\n",
      "Epoch 70/1000\n",
      "306/311 [============================>.] - ETA: 0s - loss: 8.2271Restoring model weights from the end of the best epoch: 60.\n",
      "311/311 [==============================] - 1s 2ms/step - loss: 8.2121 - val_loss: 5.3356 - lr: 1.7970e-06\n",
      "Epoch 70: early stopping\n",
      "448/448 [==============================] - 0s 710us/step - loss: 6.2824\n",
      "Epoch 1/1000\n",
      "311/311 [==============================] - 1s 3ms/step - loss: 10.7469 - val_loss: 5.5021 - lr: 0.0010\n",
      "Epoch 2/1000\n",
      "311/311 [==============================] - 1s 2ms/step - loss: 8.3769 - val_loss: 5.3366 - lr: 0.0010\n",
      "Epoch 3/1000\n",
      "311/311 [==============================] - 1s 2ms/step - loss: 8.2866 - val_loss: 5.3671 - lr: 0.0010\n",
      "Epoch 4/1000\n",
      "311/311 [==============================] - 1s 2ms/step - loss: 8.2473 - val_loss: 5.2876 - lr: 0.0010\n",
      "Epoch 5/1000\n",
      "311/311 [==============================] - 1s 2ms/step - loss: 8.1834 - val_loss: 5.2738 - lr: 0.0010\n",
      "Epoch 6/1000\n",
      "311/311 [==============================] - 1s 2ms/step - loss: 8.1213 - val_loss: 5.2631 - lr: 0.0010\n",
      "Epoch 7/1000\n",
      "311/311 [==============================] - 1s 2ms/step - loss: 8.1224 - val_loss: 5.2551 - lr: 0.0010\n",
      "Epoch 8/1000\n",
      "311/311 [==============================] - 1s 2ms/step - loss: 8.0573 - val_loss: 5.2302 - lr: 0.0010\n",
      "Epoch 9/1000\n",
      "311/311 [==============================] - 1s 2ms/step - loss: 8.0407 - val_loss: 5.3935 - lr: 0.0010\n",
      "Epoch 10/1000\n",
      "311/311 [==============================] - 1s 2ms/step - loss: 8.0330 - val_loss: 5.2188 - lr: 0.0010\n",
      "Epoch 11/1000\n",
      "311/311 [==============================] - 1s 2ms/step - loss: 7.9848 - val_loss: 5.2494 - lr: 9.0000e-04\n",
      "Epoch 12/1000\n",
      "311/311 [==============================] - 1s 2ms/step - loss: 7.9757 - val_loss: 5.2459 - lr: 8.1000e-04\n",
      "Epoch 13/1000\n",
      "311/311 [==============================] - 1s 2ms/step - loss: 7.9525 - val_loss: 5.2762 - lr: 7.2900e-04\n",
      "Epoch 14/1000\n",
      "311/311 [==============================] - 1s 2ms/step - loss: 7.9361 - val_loss: 5.2542 - lr: 6.5610e-04\n",
      "Epoch 15/1000\n",
      "311/311 [==============================] - 1s 2ms/step - loss: 7.9159 - val_loss: 5.2454 - lr: 5.9049e-04\n",
      "Epoch 16/1000\n",
      "311/311 [==============================] - 1s 2ms/step - loss: 7.9061 - val_loss: 5.2606 - lr: 5.3144e-04\n",
      "Epoch 17/1000\n",
      "311/311 [==============================] - 1s 2ms/step - loss: 7.8989 - val_loss: 5.2383 - lr: 4.7830e-04\n",
      "Epoch 18/1000\n",
      "311/311 [==============================] - 1s 2ms/step - loss: 7.9013 - val_loss: 5.2299 - lr: 4.3047e-04\n",
      "Epoch 19/1000\n",
      "311/311 [==============================] - 1s 2ms/step - loss: 7.8780 - val_loss: 5.2382 - lr: 3.8742e-04\n",
      "Epoch 20/1000\n",
      "311/311 [==============================] - 1s 2ms/step - loss: 7.8813 - val_loss: 5.2759 - lr: 3.4868e-04\n",
      "Epoch 21/1000\n",
      "311/311 [==============================] - 1s 2ms/step - loss: 7.8677 - val_loss: 5.2734 - lr: 3.1381e-04\n",
      "Epoch 22/1000\n",
      "311/311 [==============================] - 1s 2ms/step - loss: 7.8698 - val_loss: 5.2837 - lr: 2.8243e-04\n",
      "Epoch 23/1000\n",
      "311/311 [==============================] - 1s 2ms/step - loss: 7.8557 - val_loss: 5.2337 - lr: 2.5419e-04\n",
      "Epoch 24/1000\n",
      "311/311 [==============================] - 1s 2ms/step - loss: 7.8595 - val_loss: 5.2449 - lr: 2.2877e-04\n",
      "Epoch 25/1000\n",
      "311/311 [==============================] - 1s 2ms/step - loss: 7.8435 - val_loss: 5.2487 - lr: 2.0589e-04\n",
      "Epoch 26/1000\n",
      "311/311 [==============================] - 1s 2ms/step - loss: 7.8402 - val_loss: 5.2465 - lr: 1.8530e-04\n",
      "Epoch 27/1000\n",
      "311/311 [==============================] - 1s 2ms/step - loss: 7.8349 - val_loss: 5.2374 - lr: 1.6677e-04\n",
      "Epoch 28/1000\n",
      "311/311 [==============================] - 1s 2ms/step - loss: 7.8334 - val_loss: 5.2420 - lr: 1.5009e-04\n",
      "Epoch 29/1000\n",
      "311/311 [==============================] - 1s 2ms/step - loss: 7.8239 - val_loss: 5.2506 - lr: 1.3509e-04\n",
      "Epoch 30/1000\n",
      "311/311 [==============================] - 1s 2ms/step - loss: 7.8337 - val_loss: 5.2609 - lr: 1.2158e-04\n",
      "Epoch 31/1000\n",
      "311/311 [==============================] - 1s 2ms/step - loss: 7.8270 - val_loss: 5.2434 - lr: 1.0942e-04\n",
      "Epoch 32/1000\n",
      "311/311 [==============================] - 1s 2ms/step - loss: 7.8292 - val_loss: 5.2686 - lr: 9.8477e-05\n",
      "Epoch 33/1000\n",
      "311/311 [==============================] - 1s 2ms/step - loss: 7.8266 - val_loss: 5.2463 - lr: 8.8629e-05\n",
      "Epoch 34/1000\n",
      "311/311 [==============================] - 1s 2ms/step - loss: 7.8206 - val_loss: 5.2481 - lr: 7.9766e-05\n",
      "Epoch 35/1000\n",
      "311/311 [==============================] - 1s 2ms/step - loss: 7.8292 - val_loss: 5.2463 - lr: 7.1790e-05\n",
      "Epoch 36/1000\n",
      "311/311 [==============================] - 1s 2ms/step - loss: 7.8176 - val_loss: 5.2489 - lr: 6.4611e-05\n",
      "Epoch 37/1000\n",
      "311/311 [==============================] - 1s 2ms/step - loss: 7.8102 - val_loss: 5.2532 - lr: 5.8150e-05\n",
      "Epoch 38/1000\n",
      "311/311 [==============================] - 1s 2ms/step - loss: 7.8165 - val_loss: 5.2443 - lr: 5.2335e-05\n",
      "Epoch 39/1000\n",
      "311/311 [==============================] - 1s 2ms/step - loss: 7.8098 - val_loss: 5.2408 - lr: 4.7101e-05\n",
      "Epoch 40/1000\n",
      "311/311 [==============================] - 1s 2ms/step - loss: 7.8146 - val_loss: 5.2502 - lr: 4.2391e-05\n",
      "Epoch 41/1000\n",
      "311/311 [==============================] - 1s 2ms/step - loss: 7.8091 - val_loss: 5.2480 - lr: 3.8152e-05\n",
      "Epoch 42/1000\n",
      "311/311 [==============================] - 1s 2ms/step - loss: 7.8108 - val_loss: 5.2459 - lr: 3.4337e-05\n",
      "Epoch 43/1000\n",
      "311/311 [==============================] - 1s 2ms/step - loss: 7.7976 - val_loss: 5.2447 - lr: 3.0903e-05\n",
      "Epoch 44/1000\n",
      "311/311 [==============================] - 1s 2ms/step - loss: 7.7975 - val_loss: 5.2444 - lr: 2.7813e-05\n",
      "Epoch 45/1000\n",
      "311/311 [==============================] - 1s 2ms/step - loss: 7.8103 - val_loss: 5.2504 - lr: 2.5032e-05\n",
      "Epoch 46/1000\n",
      "311/311 [==============================] - 1s 2ms/step - loss: 7.7937 - val_loss: 5.2527 - lr: 2.2528e-05\n",
      "Epoch 47/1000\n",
      "311/311 [==============================] - 1s 2ms/step - loss: 7.8035 - val_loss: 5.2439 - lr: 2.0276e-05\n",
      "Epoch 48/1000\n",
      "311/311 [==============================] - 1s 2ms/step - loss: 7.8010 - val_loss: 5.2461 - lr: 1.8248e-05\n",
      "Epoch 49/1000\n",
      "311/311 [==============================] - 1s 2ms/step - loss: 7.8015 - val_loss: 5.2449 - lr: 1.6423e-05\n",
      "Epoch 50/1000\n",
      "311/311 [==============================] - 1s 2ms/step - loss: 7.7998 - val_loss: 5.2497 - lr: 1.4781e-05\n",
      "Epoch 51/1000\n",
      "311/311 [==============================] - 1s 2ms/step - loss: 7.8081 - val_loss: 5.2459 - lr: 1.3303e-05\n",
      "Epoch 52/1000\n",
      "311/311 [==============================] - 1s 2ms/step - loss: 7.7884 - val_loss: 5.2462 - lr: 1.1973e-05\n",
      "Epoch 53/1000\n",
      "311/311 [==============================] - 1s 2ms/step - loss: 7.8071 - val_loss: 5.2452 - lr: 1.0775e-05\n",
      "Epoch 54/1000\n",
      "311/311 [==============================] - 1s 2ms/step - loss: 7.7972 - val_loss: 5.2471 - lr: 9.6977e-06\n",
      "Epoch 55/1000\n",
      "311/311 [==============================] - 1s 2ms/step - loss: 7.8011 - val_loss: 5.2469 - lr: 8.7280e-06\n",
      "Epoch 56/1000\n",
      "311/311 [==============================] - 1s 2ms/step - loss: 7.8218 - val_loss: 5.2463 - lr: 7.8552e-06\n",
      "Epoch 57/1000\n",
      "311/311 [==============================] - 1s 2ms/step - loss: 7.7950 - val_loss: 5.2460 - lr: 7.0697e-06\n",
      "Epoch 58/1000\n",
      "311/311 [==============================] - 1s 2ms/step - loss: 7.8107 - val_loss: 5.2463 - lr: 6.3627e-06\n",
      "Epoch 59/1000\n",
      "311/311 [==============================] - 1s 2ms/step - loss: 7.7909 - val_loss: 5.2462 - lr: 5.7264e-06\n",
      "Epoch 60/1000\n",
      "311/311 [==============================] - 1s 2ms/step - loss: 7.8002 - val_loss: 5.2459 - lr: 5.1538e-06\n",
      "Epoch 61/1000\n",
      "311/311 [==============================] - 1s 2ms/step - loss: 7.7993 - val_loss: 5.2460 - lr: 4.6384e-06\n",
      "Epoch 62/1000\n",
      "291/311 [===========================>..] - ETA: 0s - loss: 7.8563Restoring model weights from the end of the best epoch: 52.\n",
      "311/311 [==============================] - 1s 2ms/step - loss: 7.8034 - val_loss: 5.2469 - lr: 4.1746e-06\n",
      "Epoch 62: early stopping\n",
      "448/448 [==============================] - 0s 765us/step - loss: 6.0566\n",
      "Epoch 1/1000\n",
      "311/311 [==============================] - 2s 3ms/step - loss: 10.5755 - val_loss: 5.3856 - lr: 0.0010\n",
      "Epoch 2/1000\n",
      "311/311 [==============================] - 1s 3ms/step - loss: 8.2831 - val_loss: 5.3270 - lr: 0.0010\n",
      "Epoch 3/1000\n",
      "311/311 [==============================] - 1s 2ms/step - loss: 8.2207 - val_loss: 5.3020 - lr: 0.0010\n",
      "Epoch 4/1000\n",
      "311/311 [==============================] - 1s 3ms/step - loss: 8.1645 - val_loss: 5.3501 - lr: 0.0010\n",
      "Epoch 5/1000\n",
      "311/311 [==============================] - 1s 3ms/step - loss: 8.1155 - val_loss: 5.3013 - lr: 0.0010\n",
      "Epoch 6/1000\n",
      "311/311 [==============================] - 1s 3ms/step - loss: 8.0702 - val_loss: 5.2942 - lr: 0.0010\n",
      "Epoch 7/1000\n",
      "311/311 [==============================] - 1s 3ms/step - loss: 8.0405 - val_loss: 5.2216 - lr: 0.0010\n",
      "Epoch 8/1000\n",
      "311/311 [==============================] - 1s 3ms/step - loss: 7.9951 - val_loss: 5.2424 - lr: 0.0010\n",
      "Epoch 9/1000\n",
      "311/311 [==============================] - 1s 2ms/step - loss: 7.9817 - val_loss: 5.2505 - lr: 0.0010\n",
      "Epoch 10/1000\n",
      "311/311 [==============================] - 1s 2ms/step - loss: 7.9494 - val_loss: 5.2352 - lr: 0.0010\n",
      "Epoch 11/1000\n",
      "311/311 [==============================] - 1s 2ms/step - loss: 7.9448 - val_loss: 5.2424 - lr: 9.0000e-04\n",
      "Epoch 12/1000\n",
      "311/311 [==============================] - 1s 3ms/step - loss: 7.8950 - val_loss: 5.2568 - lr: 8.1000e-04\n",
      "Epoch 13/1000\n",
      "311/311 [==============================] - 1s 2ms/step - loss: 7.8850 - val_loss: 5.2414 - lr: 7.2900e-04\n",
      "Epoch 14/1000\n",
      "311/311 [==============================] - 1s 2ms/step - loss: 7.8563 - val_loss: 5.3394 - lr: 6.5610e-04\n",
      "Epoch 15/1000\n",
      "311/311 [==============================] - 1s 3ms/step - loss: 7.8278 - val_loss: 5.2441 - lr: 5.9049e-04\n",
      "Epoch 16/1000\n",
      "311/311 [==============================] - 1s 2ms/step - loss: 7.8125 - val_loss: 5.2669 - lr: 5.3144e-04\n",
      "Epoch 17/1000\n",
      "311/311 [==============================] - 1s 2ms/step - loss: 7.8020 - val_loss: 5.2439 - lr: 4.7830e-04\n",
      "Epoch 18/1000\n",
      "311/311 [==============================] - 1s 2ms/step - loss: 7.7896 - val_loss: 5.2722 - lr: 4.3047e-04\n",
      "Epoch 19/1000\n",
      "311/311 [==============================] - 1s 3ms/step - loss: 7.7711 - val_loss: 5.2501 - lr: 3.8742e-04\n",
      "Epoch 20/1000\n",
      "311/311 [==============================] - 1s 3ms/step - loss: 7.7693 - val_loss: 5.2532 - lr: 3.4868e-04\n",
      "Epoch 21/1000\n",
      "311/311 [==============================] - 1s 3ms/step - loss: 7.7513 - val_loss: 5.2626 - lr: 3.1381e-04\n",
      "Epoch 22/1000\n",
      "311/311 [==============================] - 1s 2ms/step - loss: 7.7416 - val_loss: 5.2325 - lr: 2.8243e-04\n",
      "Epoch 23/1000\n",
      "311/311 [==============================] - 1s 3ms/step - loss: 7.7414 - val_loss: 5.2285 - lr: 2.5419e-04\n",
      "Epoch 24/1000\n",
      "311/311 [==============================] - 1s 3ms/step - loss: 7.7293 - val_loss: 5.2452 - lr: 2.2877e-04\n",
      "Epoch 25/1000\n",
      "311/311 [==============================] - 1s 3ms/step - loss: 7.7267 - val_loss: 5.2507 - lr: 2.0589e-04\n",
      "Epoch 26/1000\n",
      "311/311 [==============================] - 1s 3ms/step - loss: 7.7162 - val_loss: 5.2527 - lr: 1.8530e-04\n",
      "Epoch 27/1000\n",
      "311/311 [==============================] - 1s 2ms/step - loss: 7.7094 - val_loss: 5.2444 - lr: 1.6677e-04\n",
      "Epoch 28/1000\n",
      "311/311 [==============================] - 1s 2ms/step - loss: 7.7049 - val_loss: 5.2464 - lr: 1.5009e-04\n",
      "Epoch 29/1000\n",
      "311/311 [==============================] - 1s 2ms/step - loss: 7.6967 - val_loss: 5.2708 - lr: 1.3509e-04\n",
      "Epoch 30/1000\n",
      "311/311 [==============================] - 1s 3ms/step - loss: 7.6896 - val_loss: 5.2778 - lr: 1.2158e-04\n",
      "Epoch 31/1000\n",
      "311/311 [==============================] - 1s 2ms/step - loss: 7.6766 - val_loss: 5.2302 - lr: 1.0942e-04\n",
      "Epoch 32/1000\n",
      "311/311 [==============================] - 1s 3ms/step - loss: 7.6906 - val_loss: 5.2569 - lr: 9.8477e-05\n",
      "Epoch 33/1000\n",
      "311/311 [==============================] - 1s 3ms/step - loss: 7.6778 - val_loss: 5.2341 - lr: 8.8629e-05\n",
      "Epoch 34/1000\n",
      "311/311 [==============================] - 1s 2ms/step - loss: 7.6698 - val_loss: 5.2522 - lr: 7.9766e-05\n",
      "Epoch 35/1000\n",
      "311/311 [==============================] - 1s 2ms/step - loss: 7.6772 - val_loss: 5.2423 - lr: 7.1790e-05\n",
      "Epoch 36/1000\n",
      "311/311 [==============================] - 1s 3ms/step - loss: 7.6615 - val_loss: 5.2340 - lr: 6.4611e-05\n",
      "Epoch 37/1000\n",
      "311/311 [==============================] - 1s 2ms/step - loss: 7.6646 - val_loss: 5.2461 - lr: 5.8150e-05\n",
      "Epoch 38/1000\n",
      "311/311 [==============================] - 1s 3ms/step - loss: 7.6681 - val_loss: 5.2401 - lr: 5.2335e-05\n",
      "Epoch 39/1000\n",
      "311/311 [==============================] - 1s 3ms/step - loss: 7.6595 - val_loss: 5.2454 - lr: 4.7101e-05\n",
      "Epoch 40/1000\n",
      "311/311 [==============================] - 1s 3ms/step - loss: 7.6543 - val_loss: 5.2438 - lr: 4.2391e-05\n",
      "Epoch 41/1000\n",
      "311/311 [==============================] - 1s 2ms/step - loss: 7.6570 - val_loss: 5.2433 - lr: 3.8152e-05\n",
      "Epoch 42/1000\n",
      "311/311 [==============================] - 1s 2ms/step - loss: 7.6610 - val_loss: 5.2436 - lr: 3.4337e-05\n",
      "Epoch 43/1000\n",
      "311/311 [==============================] - 1s 3ms/step - loss: 7.6504 - val_loss: 5.2513 - lr: 3.0903e-05\n",
      "Epoch 44/1000\n",
      "311/311 [==============================] - 1s 3ms/step - loss: 7.6392 - val_loss: 5.2352 - lr: 2.7813e-05\n",
      "Epoch 45/1000\n",
      "311/311 [==============================] - 1s 3ms/step - loss: 7.6433 - val_loss: 5.2411 - lr: 2.5032e-05\n",
      "Epoch 46/1000\n",
      "311/311 [==============================] - 1s 3ms/step - loss: 7.6388 - val_loss: 5.2438 - lr: 2.2528e-05\n",
      "Epoch 47/1000\n",
      "311/311 [==============================] - 1s 3ms/step - loss: 7.6417 - val_loss: 5.2380 - lr: 2.0276e-05\n",
      "Epoch 48/1000\n",
      "311/311 [==============================] - 1s 3ms/step - loss: 7.6543 - val_loss: 5.2417 - lr: 1.8248e-05\n",
      "Epoch 49/1000\n",
      "311/311 [==============================] - 1s 3ms/step - loss: 7.6477 - val_loss: 5.2438 - lr: 1.6423e-05\n",
      "Epoch 50/1000\n",
      "311/311 [==============================] - 1s 3ms/step - loss: 7.6423 - val_loss: 5.2415 - lr: 1.4781e-05\n",
      "Epoch 51/1000\n",
      "311/311 [==============================] - 1s 2ms/step - loss: 7.6356 - val_loss: 5.2403 - lr: 1.3303e-05\n",
      "Epoch 52/1000\n",
      "311/311 [==============================] - 1s 2ms/step - loss: 7.6488 - val_loss: 5.2373 - lr: 1.1973e-05\n",
      "Epoch 53/1000\n",
      "311/311 [==============================] - 1s 2ms/step - loss: 7.6467 - val_loss: 5.2392 - lr: 1.0775e-05\n",
      "Epoch 54/1000\n",
      "311/311 [==============================] - 1s 2ms/step - loss: 7.6489 - val_loss: 5.2386 - lr: 9.6977e-06\n",
      "Epoch 55/1000\n",
      "311/311 [==============================] - 1s 2ms/step - loss: 7.6588 - val_loss: 5.2390 - lr: 8.7280e-06\n",
      "Epoch 56/1000\n",
      "311/311 [==============================] - 1s 3ms/step - loss: 7.6424 - val_loss: 5.2389 - lr: 7.8552e-06\n",
      "Epoch 57/1000\n",
      "311/311 [==============================] - 1s 2ms/step - loss: 7.6411 - val_loss: 5.2374 - lr: 7.0697e-06\n",
      "Epoch 58/1000\n",
      "311/311 [==============================] - 1s 2ms/step - loss: 7.6240 - val_loss: 5.2408 - lr: 6.3627e-06\n",
      "Epoch 59/1000\n",
      "311/311 [==============================] - 1s 2ms/step - loss: 7.6290 - val_loss: 5.2394 - lr: 5.7264e-06\n",
      "Epoch 60/1000\n",
      "311/311 [==============================] - 1s 2ms/step - loss: 7.6378 - val_loss: 5.2398 - lr: 5.1538e-06\n",
      "Epoch 61/1000\n",
      "311/311 [==============================] - 1s 3ms/step - loss: 7.6465 - val_loss: 5.2389 - lr: 4.6384e-06\n",
      "Epoch 62/1000\n",
      "311/311 [==============================] - 1s 3ms/step - loss: 7.6230 - val_loss: 5.2395 - lr: 4.1746e-06\n",
      "Epoch 63/1000\n",
      "311/311 [==============================] - 1s 2ms/step - loss: 7.6392 - val_loss: 5.2402 - lr: 3.7571e-06\n",
      "Epoch 64/1000\n",
      "311/311 [==============================] - 1s 2ms/step - loss: 7.6411 - val_loss: 5.2397 - lr: 3.3814e-06\n",
      "Epoch 65/1000\n",
      "311/311 [==============================] - 1s 2ms/step - loss: 7.6450 - val_loss: 5.2391 - lr: 3.0433e-06\n",
      "Epoch 66/1000\n",
      "311/311 [==============================] - 1s 3ms/step - loss: 7.6292 - val_loss: 5.2400 - lr: 2.7389e-06\n",
      "Epoch 67/1000\n",
      "311/311 [==============================] - 1s 3ms/step - loss: 7.6376 - val_loss: 5.2399 - lr: 2.4650e-06\n",
      "Epoch 68/1000\n",
      "311/311 [==============================] - 1s 3ms/step - loss: 7.6165 - val_loss: 5.2408 - lr: 2.2185e-06\n",
      "Epoch 69/1000\n",
      "311/311 [==============================] - 1s 3ms/step - loss: 7.6201 - val_loss: 5.2402 - lr: 1.9967e-06\n",
      "Epoch 70/1000\n",
      "311/311 [==============================] - 1s 3ms/step - loss: 7.6190 - val_loss: 5.2412 - lr: 1.7970e-06\n",
      "Epoch 71/1000\n",
      "311/311 [==============================] - 1s 3ms/step - loss: 7.6261 - val_loss: 5.2411 - lr: 1.6173e-06\n",
      "Epoch 72/1000\n",
      "311/311 [==============================] - 1s 2ms/step - loss: 7.6317 - val_loss: 5.2405 - lr: 1.4556e-06\n",
      "Epoch 73/1000\n",
      "311/311 [==============================] - 1s 3ms/step - loss: 7.6362 - val_loss: 5.2412 - lr: 1.3100e-06\n",
      "Epoch 74/1000\n",
      "311/311 [==============================] - 1s 2ms/step - loss: 7.6272 - val_loss: 5.2411 - lr: 1.1790e-06\n",
      "Epoch 75/1000\n",
      "311/311 [==============================] - 1s 3ms/step - loss: 7.6308 - val_loss: 5.2407 - lr: 1.0611e-06\n",
      "Epoch 76/1000\n",
      "311/311 [==============================] - 1s 3ms/step - loss: 7.6231 - val_loss: 5.2412 - lr: 9.5501e-07\n",
      "Epoch 77/1000\n",
      "311/311 [==============================] - 1s 3ms/step - loss: 7.6297 - val_loss: 5.2415 - lr: 8.5950e-07\n",
      "Epoch 78/1000\n",
      "303/311 [============================>.] - ETA: 0s - loss: 7.6666Restoring model weights from the end of the best epoch: 68.\n",
      "311/311 [==============================] - 1s 3ms/step - loss: 7.6260 - val_loss: 5.2414 - lr: 7.7355e-07\n",
      "Epoch 78: early stopping\n",
      "448/448 [==============================] - 0s 883us/step - loss: 5.9887\n",
      "Epoch 1/1000\n",
      "311/311 [==============================] - 2s 3ms/step - loss: 10.3330 - val_loss: 5.3732 - lr: 0.0010\n",
      "Epoch 2/1000\n",
      "311/311 [==============================] - 1s 3ms/step - loss: 8.2753 - val_loss: 5.3251 - lr: 0.0010\n",
      "Epoch 3/1000\n",
      "311/311 [==============================] - 1s 3ms/step - loss: 8.2229 - val_loss: 5.2900 - lr: 0.0010\n",
      "Epoch 4/1000\n",
      "311/311 [==============================] - 1s 3ms/step - loss: 8.1939 - val_loss: 5.3325 - lr: 0.0010\n",
      "Epoch 5/1000\n",
      "311/311 [==============================] - 1s 3ms/step - loss: 8.1586 - val_loss: 5.2818 - lr: 0.0010\n",
      "Epoch 6/1000\n",
      "311/311 [==============================] - 1s 3ms/step - loss: 8.1310 - val_loss: 5.2961 - lr: 0.0010\n",
      "Epoch 7/1000\n",
      "311/311 [==============================] - 1s 3ms/step - loss: 8.0927 - val_loss: 5.2877 - lr: 0.0010\n",
      "Epoch 8/1000\n",
      "311/311 [==============================] - 1s 3ms/step - loss: 8.0573 - val_loss: 5.2624 - lr: 0.0010\n",
      "Epoch 9/1000\n",
      "311/311 [==============================] - 1s 3ms/step - loss: 8.0341 - val_loss: 5.2408 - lr: 0.0010\n",
      "Epoch 10/1000\n",
      "311/311 [==============================] - 1s 3ms/step - loss: 8.0035 - val_loss: 5.2693 - lr: 0.0010\n",
      "Epoch 11/1000\n",
      "311/311 [==============================] - 1s 3ms/step - loss: 7.9666 - val_loss: 5.3082 - lr: 9.0000e-04\n",
      "Epoch 12/1000\n",
      "311/311 [==============================] - 1s 3ms/step - loss: 8.0871 - val_loss: 5.3064 - lr: 8.1000e-04\n",
      "Epoch 13/1000\n",
      "311/311 [==============================] - 1s 3ms/step - loss: 7.9567 - val_loss: 5.2599 - lr: 7.2900e-04\n",
      "Epoch 14/1000\n",
      "311/311 [==============================] - 1s 3ms/step - loss: 7.9082 - val_loss: 5.2585 - lr: 6.5610e-04\n",
      "Epoch 15/1000\n",
      "311/311 [==============================] - 1s 3ms/step - loss: 7.8871 - val_loss: 5.2616 - lr: 5.9049e-04\n",
      "Epoch 16/1000\n",
      "311/311 [==============================] - 1s 3ms/step - loss: 7.8670 - val_loss: 5.2931 - lr: 5.3144e-04\n",
      "Epoch 17/1000\n",
      "311/311 [==============================] - 1s 3ms/step - loss: 7.8751 - val_loss: 5.3447 - lr: 4.7830e-04\n",
      "Epoch 18/1000\n",
      "311/311 [==============================] - 1s 3ms/step - loss: 7.8746 - val_loss: 5.2585 - lr: 4.3047e-04\n",
      "Epoch 19/1000\n",
      "311/311 [==============================] - 1s 3ms/step - loss: 7.8211 - val_loss: 5.2532 - lr: 3.8742e-04\n",
      "Epoch 20/1000\n",
      "311/311 [==============================] - 1s 3ms/step - loss: 7.8089 - val_loss: 5.2598 - lr: 3.4868e-04\n",
      "Epoch 21/1000\n",
      "311/311 [==============================] - 1s 3ms/step - loss: 7.7984 - val_loss: 5.2577 - lr: 3.1381e-04\n",
      "Epoch 22/1000\n",
      "311/311 [==============================] - 1s 3ms/step - loss: 7.7832 - val_loss: 5.2222 - lr: 2.8243e-04\n",
      "Epoch 23/1000\n",
      "311/311 [==============================] - 1s 3ms/step - loss: 7.7741 - val_loss: 5.2623 - lr: 2.5419e-04\n",
      "Epoch 24/1000\n",
      "311/311 [==============================] - 1s 3ms/step - loss: 7.7726 - val_loss: 5.2240 - lr: 2.2877e-04\n",
      "Epoch 25/1000\n",
      "311/311 [==============================] - 1s 3ms/step - loss: 7.7605 - val_loss: 5.2613 - lr: 2.0589e-04\n",
      "Epoch 26/1000\n",
      "311/311 [==============================] - 1s 3ms/step - loss: 7.7504 - val_loss: 5.2353 - lr: 1.8530e-04\n",
      "Epoch 27/1000\n",
      "311/311 [==============================] - 1s 3ms/step - loss: 7.7269 - val_loss: 5.2338 - lr: 1.6677e-04\n",
      "Epoch 28/1000\n",
      "311/311 [==============================] - 1s 3ms/step - loss: 7.7424 - val_loss: 5.2426 - lr: 1.5009e-04\n",
      "Epoch 29/1000\n",
      "311/311 [==============================] - 1s 3ms/step - loss: 7.7292 - val_loss: 5.2349 - lr: 1.3509e-04\n",
      "Epoch 30/1000\n",
      "311/311 [==============================] - 1s 3ms/step - loss: 7.7244 - val_loss: 5.2314 - lr: 1.2158e-04\n",
      "Epoch 31/1000\n",
      "311/311 [==============================] - 1s 3ms/step - loss: 7.7240 - val_loss: 5.2510 - lr: 1.0942e-04\n",
      "Epoch 32/1000\n",
      "311/311 [==============================] - 1s 3ms/step - loss: 7.7169 - val_loss: 5.2345 - lr: 9.8477e-05\n",
      "Epoch 33/1000\n",
      "311/311 [==============================] - 1s 3ms/step - loss: 7.7137 - val_loss: 5.2324 - lr: 8.8629e-05\n",
      "Epoch 34/1000\n",
      "311/311 [==============================] - 1s 3ms/step - loss: 7.7038 - val_loss: 5.2293 - lr: 7.9766e-05\n",
      "Epoch 35/1000\n",
      "311/311 [==============================] - 1s 3ms/step - loss: 7.7043 - val_loss: 5.2402 - lr: 7.1790e-05\n",
      "Epoch 36/1000\n",
      "311/311 [==============================] - 1s 3ms/step - loss: 7.7034 - val_loss: 5.2293 - lr: 6.4611e-05\n",
      "Epoch 37/1000\n",
      "311/311 [==============================] - 1s 3ms/step - loss: 7.7072 - val_loss: 5.2329 - lr: 5.8150e-05\n",
      "Epoch 38/1000\n",
      "311/311 [==============================] - 1s 3ms/step - loss: 7.7081 - val_loss: 5.2306 - lr: 5.2335e-05\n",
      "Epoch 39/1000\n",
      "311/311 [==============================] - 1s 3ms/step - loss: 7.6941 - val_loss: 5.2253 - lr: 4.7101e-05\n",
      "Epoch 40/1000\n",
      "311/311 [==============================] - 1s 3ms/step - loss: 7.7017 - val_loss: 5.2338 - lr: 4.2391e-05\n",
      "Epoch 41/1000\n",
      "311/311 [==============================] - 1s 3ms/step - loss: 7.6976 - val_loss: 5.2329 - lr: 3.8152e-05\n",
      "Epoch 42/1000\n",
      "311/311 [==============================] - 1s 3ms/step - loss: 7.6958 - val_loss: 5.2308 - lr: 3.4337e-05\n",
      "Epoch 43/1000\n",
      "311/311 [==============================] - 1s 3ms/step - loss: 7.6915 - val_loss: 5.2342 - lr: 3.0903e-05\n",
      "Epoch 44/1000\n",
      "311/311 [==============================] - 1s 3ms/step - loss: 7.6971 - val_loss: 5.2302 - lr: 2.7813e-05\n",
      "Epoch 45/1000\n",
      "311/311 [==============================] - 1s 3ms/step - loss: 7.6873 - val_loss: 5.2331 - lr: 2.5032e-05\n",
      "Epoch 46/1000\n",
      "311/311 [==============================] - 1s 3ms/step - loss: 7.6952 - val_loss: 5.2323 - lr: 2.2528e-05\n",
      "Epoch 47/1000\n",
      "311/311 [==============================] - 1s 3ms/step - loss: 7.6869 - val_loss: 5.2304 - lr: 2.0276e-05\n",
      "Epoch 48/1000\n",
      "311/311 [==============================] - 1s 3ms/step - loss: 7.6900 - val_loss: 5.2306 - lr: 1.8248e-05\n",
      "Epoch 49/1000\n",
      "311/311 [==============================] - 1s 3ms/step - loss: 7.6870 - val_loss: 5.2300 - lr: 1.6423e-05\n",
      "Epoch 50/1000\n",
      "311/311 [==============================] - 1s 3ms/step - loss: 7.6953 - val_loss: 5.2345 - lr: 1.4781e-05\n",
      "Epoch 51/1000\n",
      "311/311 [==============================] - 1s 3ms/step - loss: 7.6751 - val_loss: 5.2347 - lr: 1.3303e-05\n",
      "Epoch 52/1000\n",
      "311/311 [==============================] - 1s 3ms/step - loss: 7.6856 - val_loss: 5.2322 - lr: 1.1973e-05\n",
      "Epoch 53/1000\n",
      "311/311 [==============================] - 1s 3ms/step - loss: 7.6876 - val_loss: 5.2339 - lr: 1.0775e-05\n",
      "Epoch 54/1000\n",
      "311/311 [==============================] - 1s 3ms/step - loss: 7.6740 - val_loss: 5.2317 - lr: 9.6977e-06\n",
      "Epoch 55/1000\n",
      "311/311 [==============================] - 1s 3ms/step - loss: 7.6800 - val_loss: 5.2325 - lr: 8.7280e-06\n",
      "Epoch 56/1000\n",
      "311/311 [==============================] - 1s 3ms/step - loss: 7.6837 - val_loss: 5.2324 - lr: 7.8552e-06\n",
      "Epoch 57/1000\n",
      "311/311 [==============================] - 1s 3ms/step - loss: 7.6837 - val_loss: 5.2314 - lr: 7.0697e-06\n",
      "Epoch 58/1000\n",
      "311/311 [==============================] - 1s 3ms/step - loss: 7.6764 - val_loss: 5.2309 - lr: 6.3627e-06\n",
      "Epoch 59/1000\n",
      "311/311 [==============================] - 1s 3ms/step - loss: 7.6781 - val_loss: 5.2309 - lr: 5.7264e-06\n",
      "Epoch 60/1000\n",
      "311/311 [==============================] - 1s 3ms/step - loss: 7.6743 - val_loss: 5.2312 - lr: 5.1538e-06\n",
      "Epoch 61/1000\n",
      "311/311 [==============================] - 1s 3ms/step - loss: 7.6772 - val_loss: 5.2317 - lr: 4.6384e-06\n",
      "Epoch 62/1000\n",
      "311/311 [==============================] - 1s 3ms/step - loss: 7.6858 - val_loss: 5.2319 - lr: 4.1746e-06\n",
      "Epoch 63/1000\n",
      "311/311 [==============================] - 1s 3ms/step - loss: 7.6674 - val_loss: 5.2317 - lr: 3.7571e-06\n",
      "Epoch 64/1000\n",
      "311/311 [==============================] - 1s 3ms/step - loss: 7.6838 - val_loss: 5.2315 - lr: 3.3814e-06\n",
      "Epoch 65/1000\n",
      "311/311 [==============================] - 1s 3ms/step - loss: 7.6820 - val_loss: 5.2324 - lr: 3.0433e-06\n",
      "Epoch 66/1000\n",
      "311/311 [==============================] - 1s 3ms/step - loss: 7.6846 - val_loss: 5.2314 - lr: 2.7389e-06\n",
      "Epoch 67/1000\n",
      "311/311 [==============================] - 1s 3ms/step - loss: 7.6733 - val_loss: 5.2323 - lr: 2.4650e-06\n",
      "Epoch 68/1000\n",
      "311/311 [==============================] - 1s 3ms/step - loss: 7.6729 - val_loss: 5.2318 - lr: 2.2185e-06\n",
      "Epoch 69/1000\n",
      "311/311 [==============================] - 1s 3ms/step - loss: 7.6772 - val_loss: 5.2314 - lr: 1.9967e-06\n",
      "Epoch 70/1000\n",
      "311/311 [==============================] - 1s 3ms/step - loss: 7.6815 - val_loss: 5.2315 - lr: 1.7970e-06\n",
      "Epoch 71/1000\n",
      "311/311 [==============================] - 1s 3ms/step - loss: 7.6791 - val_loss: 5.2315 - lr: 1.6173e-06\n",
      "Epoch 72/1000\n",
      "311/311 [==============================] - 1s 3ms/step - loss: 7.6860 - val_loss: 5.2320 - lr: 1.4556e-06\n",
      "Epoch 73/1000\n",
      "292/311 [===========================>..] - ETA: 0s - loss: 7.7415Restoring model weights from the end of the best epoch: 63.\n",
      "311/311 [==============================] - 1s 3ms/step - loss: 7.6936 - val_loss: 5.2320 - lr: 1.3100e-06\n",
      "Epoch 73: early stopping\n",
      "448/448 [==============================] - 0s 845us/step - loss: 6.0738\n",
      "Epoch 1/1000\n",
      "311/311 [==============================] - 3s 6ms/step - loss: 8.7552 - val_loss: 5.3069 - lr: 0.0010\n",
      "Epoch 2/1000\n",
      "311/311 [==============================] - 2s 6ms/step - loss: 8.1594 - val_loss: 5.3068 - lr: 0.0010\n",
      "Epoch 3/1000\n",
      "311/311 [==============================] - 2s 6ms/step - loss: 8.1245 - val_loss: 5.2948 - lr: 0.0010\n",
      "Epoch 4/1000\n",
      "311/311 [==============================] - 2s 6ms/step - loss: 8.0739 - val_loss: 5.2504 - lr: 0.0010\n",
      "Epoch 5/1000\n",
      "311/311 [==============================] - 2s 6ms/step - loss: 8.0218 - val_loss: 5.2403 - lr: 0.0010\n",
      "Epoch 6/1000\n",
      "311/311 [==============================] - 2s 6ms/step - loss: 7.9422 - val_loss: 5.1625 - lr: 0.0010\n",
      "Epoch 7/1000\n",
      "311/311 [==============================] - 2s 6ms/step - loss: 7.8519 - val_loss: 5.1982 - lr: 0.0010\n",
      "Epoch 8/1000\n",
      "311/311 [==============================] - 2s 6ms/step - loss: 7.8391 - val_loss: 5.1665 - lr: 0.0010\n",
      "Epoch 9/1000\n",
      "311/311 [==============================] - 2s 6ms/step - loss: 7.8098 - val_loss: 5.1500 - lr: 0.0010\n",
      "Epoch 10/1000\n",
      "311/311 [==============================] - 2s 6ms/step - loss: 7.7521 - val_loss: 5.1636 - lr: 0.0010\n",
      "Epoch 11/1000\n",
      "311/311 [==============================] - 2s 6ms/step - loss: 7.7237 - val_loss: 5.2072 - lr: 9.0000e-04\n",
      "Epoch 12/1000\n",
      "311/311 [==============================] - 2s 6ms/step - loss: 7.7172 - val_loss: 5.4793 - lr: 8.1000e-04\n",
      "Epoch 13/1000\n",
      "311/311 [==============================] - 2s 6ms/step - loss: 7.6997 - val_loss: 5.2545 - lr: 7.2900e-04\n",
      "Epoch 14/1000\n",
      "311/311 [==============================] - 2s 6ms/step - loss: 7.6536 - val_loss: 5.1483 - lr: 6.5610e-04\n",
      "Epoch 15/1000\n",
      "311/311 [==============================] - 2s 6ms/step - loss: 7.6352 - val_loss: 5.2407 - lr: 5.9049e-04\n",
      "Epoch 16/1000\n",
      "311/311 [==============================] - 2s 6ms/step - loss: 7.6312 - val_loss: 5.1568 - lr: 5.3144e-04\n",
      "Epoch 17/1000\n",
      "311/311 [==============================] - 2s 6ms/step - loss: 7.5986 - val_loss: 5.2592 - lr: 4.7830e-04\n",
      "Epoch 18/1000\n",
      "311/311 [==============================] - 2s 6ms/step - loss: 7.6065 - val_loss: 5.1805 - lr: 4.3047e-04\n",
      "Epoch 19/1000\n",
      "311/311 [==============================] - 2s 6ms/step - loss: 7.5713 - val_loss: 5.2384 - lr: 3.8742e-04\n",
      "Epoch 20/1000\n",
      "311/311 [==============================] - 2s 6ms/step - loss: 7.5408 - val_loss: 5.2692 - lr: 3.4868e-04\n",
      "Epoch 21/1000\n",
      "311/311 [==============================] - 2s 6ms/step - loss: 7.5228 - val_loss: 5.2255 - lr: 3.1381e-04\n",
      "Epoch 22/1000\n",
      "311/311 [==============================] - 2s 6ms/step - loss: 7.5186 - val_loss: 5.2578 - lr: 2.8243e-04\n",
      "Epoch 23/1000\n",
      "311/311 [==============================] - 2s 6ms/step - loss: 7.5115 - val_loss: 5.2262 - lr: 2.5419e-04\n",
      "Epoch 24/1000\n",
      "311/311 [==============================] - 2s 6ms/step - loss: 7.4806 - val_loss: 5.2046 - lr: 2.2877e-04\n",
      "Epoch 25/1000\n",
      "311/311 [==============================] - 2s 6ms/step - loss: 7.4846 - val_loss: 5.2380 - lr: 2.0589e-04\n",
      "Epoch 26/1000\n",
      "311/311 [==============================] - 2s 6ms/step - loss: 7.4770 - val_loss: 5.2352 - lr: 1.8530e-04\n",
      "Epoch 27/1000\n",
      "311/311 [==============================] - 2s 6ms/step - loss: 7.4611 - val_loss: 5.1862 - lr: 1.6677e-04\n",
      "Epoch 28/1000\n",
      "311/311 [==============================] - 2s 6ms/step - loss: 7.4467 - val_loss: 5.1918 - lr: 1.5009e-04\n",
      "Epoch 29/1000\n",
      "311/311 [==============================] - 2s 6ms/step - loss: 7.4399 - val_loss: 5.2399 - lr: 1.3509e-04\n",
      "Epoch 30/1000\n",
      "311/311 [==============================] - 2s 6ms/step - loss: 7.4198 - val_loss: 5.2254 - lr: 1.2158e-04\n",
      "Epoch 31/1000\n",
      "311/311 [==============================] - 2s 6ms/step - loss: 7.4316 - val_loss: 5.2352 - lr: 1.0942e-04\n",
      "Epoch 32/1000\n",
      "311/311 [==============================] - 2s 6ms/step - loss: 7.3947 - val_loss: 5.2640 - lr: 9.8477e-05\n",
      "Epoch 33/1000\n",
      "311/311 [==============================] - 2s 6ms/step - loss: 7.4177 - val_loss: 5.2350 - lr: 8.8629e-05\n",
      "Epoch 34/1000\n",
      "311/311 [==============================] - 2s 5ms/step - loss: 7.3870 - val_loss: 5.2470 - lr: 7.9766e-05\n",
      "Epoch 35/1000\n",
      "311/311 [==============================] - 2s 6ms/step - loss: 7.3925 - val_loss: 5.2777 - lr: 7.1790e-05\n",
      "Epoch 36/1000\n",
      "311/311 [==============================] - 2s 6ms/step - loss: 7.3653 - val_loss: 5.2881 - lr: 6.4611e-05\n",
      "Epoch 37/1000\n",
      "311/311 [==============================] - 2s 6ms/step - loss: 7.3837 - val_loss: 5.2590 - lr: 5.8150e-05\n",
      "Epoch 38/1000\n",
      "311/311 [==============================] - 2s 5ms/step - loss: 7.3641 - val_loss: 5.2303 - lr: 5.2335e-05\n",
      "Epoch 39/1000\n",
      "311/311 [==============================] - 2s 6ms/step - loss: 7.3627 - val_loss: 5.2748 - lr: 4.7101e-05\n",
      "Epoch 40/1000\n",
      "311/311 [==============================] - 2s 6ms/step - loss: 7.3408 - val_loss: 5.2522 - lr: 4.2391e-05\n",
      "Epoch 41/1000\n",
      "311/311 [==============================] - 2s 6ms/step - loss: 7.3500 - val_loss: 5.2878 - lr: 3.8152e-05\n",
      "Epoch 42/1000\n",
      "311/311 [==============================] - 2s 6ms/step - loss: 7.3444 - val_loss: 5.2603 - lr: 3.4337e-05\n",
      "Epoch 43/1000\n",
      "311/311 [==============================] - 2s 6ms/step - loss: 7.3425 - val_loss: 5.2593 - lr: 3.0903e-05\n",
      "Epoch 44/1000\n",
      "311/311 [==============================] - 2s 6ms/step - loss: 7.3351 - val_loss: 5.2464 - lr: 2.7813e-05\n",
      "Epoch 45/1000\n",
      "311/311 [==============================] - 2s 6ms/step - loss: 7.3328 - val_loss: 5.2568 - lr: 2.5032e-05\n",
      "Epoch 46/1000\n",
      "311/311 [==============================] - 2s 6ms/step - loss: 7.3230 - val_loss: 5.2571 - lr: 2.2528e-05\n",
      "Epoch 47/1000\n",
      "311/311 [==============================] - 2s 6ms/step - loss: 7.3277 - val_loss: 5.2754 - lr: 2.0276e-05\n",
      "Epoch 48/1000\n",
      "311/311 [==============================] - 2s 6ms/step - loss: 7.3234 - val_loss: 5.2726 - lr: 1.8248e-05\n",
      "Epoch 49/1000\n",
      "311/311 [==============================] - 2s 6ms/step - loss: 7.3153 - val_loss: 5.2755 - lr: 1.6423e-05\n",
      "Epoch 50/1000\n",
      "311/311 [==============================] - 2s 6ms/step - loss: 7.3216 - val_loss: 5.2603 - lr: 1.4781e-05\n",
      "Epoch 51/1000\n",
      "311/311 [==============================] - 2s 6ms/step - loss: 7.3285 - val_loss: 5.2501 - lr: 1.3303e-05\n",
      "Epoch 52/1000\n",
      "311/311 [==============================] - 2s 6ms/step - loss: 7.3117 - val_loss: 5.2730 - lr: 1.1973e-05\n",
      "Epoch 53/1000\n",
      "311/311 [==============================] - 2s 6ms/step - loss: 7.3041 - val_loss: 5.2584 - lr: 1.0775e-05\n",
      "Epoch 54/1000\n",
      "311/311 [==============================] - 2s 6ms/step - loss: 7.3134 - val_loss: 5.2698 - lr: 9.6977e-06\n",
      "Epoch 55/1000\n",
      "311/311 [==============================] - 2s 6ms/step - loss: 7.3192 - val_loss: 5.2746 - lr: 8.7280e-06\n",
      "Epoch 56/1000\n",
      "311/311 [==============================] - 2s 6ms/step - loss: 7.3077 - val_loss: 5.2672 - lr: 7.8552e-06\n",
      "Epoch 57/1000\n",
      "311/311 [==============================] - 2s 6ms/step - loss: 7.3178 - val_loss: 5.2608 - lr: 7.0697e-06\n",
      "Epoch 58/1000\n",
      "311/311 [==============================] - 2s 6ms/step - loss: 7.3101 - val_loss: 5.2617 - lr: 6.3627e-06\n",
      "Epoch 59/1000\n",
      "311/311 [==============================] - 2s 6ms/step - loss: 7.3208 - val_loss: 5.2659 - lr: 5.7264e-06\n",
      "Epoch 60/1000\n",
      "311/311 [==============================] - 2s 6ms/step - loss: 7.3023 - val_loss: 5.2590 - lr: 5.1538e-06\n",
      "Epoch 61/1000\n",
      "311/311 [==============================] - 2s 6ms/step - loss: 7.3173 - val_loss: 5.2642 - lr: 4.6384e-06\n",
      "Epoch 62/1000\n",
      "311/311 [==============================] - 2s 6ms/step - loss: 7.3099 - val_loss: 5.2656 - lr: 4.1746e-06\n",
      "Epoch 63/1000\n",
      "311/311 [==============================] - 2s 6ms/step - loss: 7.3129 - val_loss: 5.2649 - lr: 3.7571e-06\n",
      "Epoch 64/1000\n",
      "311/311 [==============================] - 2s 6ms/step - loss: 7.3150 - val_loss: 5.2657 - lr: 3.3814e-06\n",
      "Epoch 65/1000\n",
      "311/311 [==============================] - 2s 6ms/step - loss: 7.3017 - val_loss: 5.2634 - lr: 3.0433e-06\n",
      "Epoch 66/1000\n",
      "311/311 [==============================] - 2s 6ms/step - loss: 7.3097 - val_loss: 5.2662 - lr: 2.7389e-06\n",
      "Epoch 67/1000\n",
      "311/311 [==============================] - 2s 6ms/step - loss: 7.3039 - val_loss: 5.2669 - lr: 2.4650e-06\n",
      "Epoch 68/1000\n",
      "311/311 [==============================] - 2s 6ms/step - loss: 7.3040 - val_loss: 5.2673 - lr: 2.2185e-06\n",
      "Epoch 69/1000\n",
      "311/311 [==============================] - 2s 6ms/step - loss: 7.3128 - val_loss: 5.2627 - lr: 1.9967e-06\n",
      "Epoch 70/1000\n",
      "311/311 [==============================] - 2s 6ms/step - loss: 7.3045 - val_loss: 5.2636 - lr: 1.7970e-06\n",
      "Epoch 71/1000\n",
      "311/311 [==============================] - 2s 6ms/step - loss: 7.3076 - val_loss: 5.2648 - lr: 1.6173e-06\n",
      "Epoch 72/1000\n",
      "311/311 [==============================] - 2s 6ms/step - loss: 7.3156 - val_loss: 5.2654 - lr: 1.4556e-06\n",
      "Epoch 73/1000\n",
      "311/311 [==============================] - 2s 6ms/step - loss: 7.3164 - val_loss: 5.2657 - lr: 1.3100e-06\n",
      "Epoch 74/1000\n",
      "311/311 [==============================] - 2s 6ms/step - loss: 7.2982 - val_loss: 5.2675 - lr: 1.1790e-06\n",
      "Epoch 75/1000\n",
      "311/311 [==============================] - 2s 6ms/step - loss: 7.3127 - val_loss: 5.2668 - lr: 1.0611e-06\n",
      "Epoch 76/1000\n",
      "311/311 [==============================] - 2s 6ms/step - loss: 7.2949 - val_loss: 5.2670 - lr: 9.5501e-07\n",
      "Epoch 77/1000\n",
      "311/311 [==============================] - 2s 6ms/step - loss: 7.3026 - val_loss: 5.2654 - lr: 8.5950e-07\n",
      "Epoch 78/1000\n",
      "311/311 [==============================] - 2s 6ms/step - loss: 7.2990 - val_loss: 5.2667 - lr: 7.7355e-07\n",
      "Epoch 79/1000\n",
      "311/311 [==============================] - 2s 6ms/step - loss: 7.3028 - val_loss: 5.2676 - lr: 6.9620e-07\n",
      "Epoch 80/1000\n",
      "311/311 [==============================] - 2s 6ms/step - loss: 7.3037 - val_loss: 5.2666 - lr: 6.2658e-07\n",
      "Epoch 81/1000\n",
      "311/311 [==============================] - 2s 6ms/step - loss: 7.2978 - val_loss: 5.2657 - lr: 5.6392e-07\n",
      "Epoch 82/1000\n",
      "311/311 [==============================] - 2s 6ms/step - loss: 7.3064 - val_loss: 5.2662 - lr: 5.0753e-07\n",
      "Epoch 83/1000\n",
      "311/311 [==============================] - 2s 6ms/step - loss: 7.3061 - val_loss: 5.2665 - lr: 4.5678e-07\n",
      "Epoch 84/1000\n",
      "311/311 [==============================] - 2s 6ms/step - loss: 7.3009 - val_loss: 5.2664 - lr: 4.1110e-07\n",
      "Epoch 85/1000\n",
      "311/311 [==============================] - 2s 6ms/step - loss: 7.2994 - val_loss: 5.2666 - lr: 3.6999e-07\n",
      "Epoch 86/1000\n",
      "301/311 [============================>.] - ETA: 0s - loss: 7.3028Restoring model weights from the end of the best epoch: 76.\n",
      "311/311 [==============================] - 2s 6ms/step - loss: 7.3017 - val_loss: 5.2666 - lr: 3.3299e-07\n",
      "Epoch 86: early stopping\n",
      "448/448 [==============================] - 0s 971us/step - loss: 5.8701\n"
     ]
    }
   ],
   "source": [
    "units = [10, 30, 50, 100, 150, 200, 500]\n",
    "# units = [500, 1000, 2000, 5000, 10000]\n",
    "# units = [100]\n",
    "histories = []\n",
    "time_taken = []\n",
    "test_losses = []\n",
    "\n",
    "for unit in units:\n",
    "    model = models.Sequential()\n",
    "    model.add(layers.LSTM(units=unit, return_sequences=False, input_shape=(INPUT_LENGTH, FEATURE_COUNT+1)))\n",
    "    model.add(layers.Dropout(0.2))\n",
    "    model.add(layers.Dense(units=PRIDICT_LENGTH, activation='elu'))\n",
    "    model.compile(optimizer='adam', loss=losses.MeanSquaredError())\n",
    "\n",
    "    start_time = time.time()\n",
    "    histories.append(model.fit(X_train, y_train, epochs=1000, batch_size=360, callbacks=[earlystop, lr_scheduler], validation_split=0.2))\n",
    "    end_time = time.time()\n",
    "    time_taken.append(end_time-start_time)\n",
    "\n",
    "    test_losses.append(model.evaluate(X_test, y_test))\n",
    "\n",
    "    tf.keras.backend.clear_session()"
   ]
  },
  {
   "cell_type": "code",
   "execution_count": 24,
   "metadata": {},
   "outputs": [],
   "source": [
    "for i, each in enumerate(histories):\n",
    "    time_taken[i] /= len(each.history['loss'])"
   ]
  },
  {
   "cell_type": "code",
   "execution_count": 25,
   "metadata": {},
   "outputs": [
    {
     "data": {
      "text/plain": [
       "Text(0, 0.5, 'Average time taken of each epoch (s)')"
      ]
     },
     "execution_count": 25,
     "metadata": {},
     "output_type": "execute_result"
    },
    {
     "data": {
      "image/png": "[encoded data removed]",
      "text/plain": [
       "<Figure size 640x480 with 1 Axes>"
      ]
     },
     "metadata": {},
     "output_type": "display_data"
    }
   ],
   "source": [
    "plt.plot(units, time_taken, marker='o')\n",
    "plt.xlabel('units')\n",
    "plt.ylabel('Average time taken of each epoch (s)')"
   ]
  },
  {
   "cell_type": "code",
   "execution_count": 26,
   "metadata": {},
   "outputs": [
    {
     "data": {
      "text/plain": [
       "<matplotlib.legend.Legend at 0x70064810cfa0>"
      ]
     },
     "execution_count": 26,
     "metadata": {},
     "output_type": "execute_result"
    },
    {
     "data": {
      "image/png": "[encoded data removed]",
      "text/plain": [
       "<Figure size 640x480 with 1 Axes>"
      ]
     },
     "metadata": {},
     "output_type": "display_data"
    }
   ],
   "source": [
    "train_losses = []\n",
    "for i, each in enumerate(histories):\n",
    "    train_losses.append(each.history['loss'][-1])\n",
    "\n",
    "plt.plot(test_losses, label='Test Loss')\n",
    "plt.plot(train_losses, label='Train Loss')\n",
    "plt.legend()"
   ]
  },
  {
   "cell_type": "code",
   "execution_count": null,
   "metadata": {},
   "outputs": [],
   "source": [
    "dropouts = [0.1, 0.2, 0.5, 0.8]\n",
    "histories2 = []\n",
    "\n",
    "for dropout in dropouts:\n",
    "    model = models.Sequential()\n",
    "    model.add(layers.LSTM(units=100, return_sequences=False, input_shape=(INPUT_LENGTH, FEATURE_COUNT+1)))\n",
    "    model.add(layers.Dropout(dropout))\n",
    "    model.add(layers.Dense(units=PRIDICT_LENGTH, activation='elu'))\n",
    "    model.compile(optimizer='adam', loss=losses.MeanSquaredError())\n",
    "\n",
    "    histories2.append(model.fit(X_train, y_train, epochs=1000, batch_size=360, callbacks=earlystop, validation_split=0.2))\n",
    "\n",
    "    tf.keras.backend.clear_session()"
   ]
  },
  {
   "cell_type": "code",
   "execution_count": null,
   "metadata": {},
   "outputs": [],
   "source": [
    "b_sizes = [10, 30, 120, 360, 720, 1440]\n",
    "\n",
    "earlystop = callbacks.EarlyStopping(monitor='loss', min_delta=0, patience=10, verbose=1, restore_best_weights=True)\n",
    "histories3 = []\n",
    "time_taken = []\n",
    "\n",
    "for b_size in b_sizes:\n",
    "    model = models.Sequential()\n",
    "    model.add(layers.LSTM(units=100, return_sequences=False, input_shape=(INPUT_LENGTH, FEATURE_COUNT+1)))\n",
    "    model.add(layers.Dropout(0.2))\n",
    "    model.add(layers.Dense(units=PRIDICT_LENGTH, activation='elu'))\n",
    "    model.compile(optimizer='adam', loss=losses.MeanSquaredError())\n",
    "\n",
    "    start_time = time.time()\n",
    "    histories3.append(model.fit(X_train, y_train, epochs=1000, batch_size=b_size, callbacks=[earlystop, lr_scheduler], validation_split=0.2))\n",
    "    end_time = time.time()\n",
    "    time_taken.append(end_time-start_time)\n",
    "\n",
    "    tf.keras.backend.clear_session()"
   ]
  },
  {
   "cell_type": "code",
   "execution_count": null,
   "metadata": {},
   "outputs": [],
   "source": [
    "for i, each in enumerate(histories3):\n",
    "    time_taken[i] /= len(each.history['loss'])"
   ]
  },
  {
   "cell_type": "code",
   "execution_count": null,
   "metadata": {},
   "outputs": [],
   "source": [
    "plt.plot(b_sizes, time_taken, marker='o')\n",
    "plt.xlabel('batch_size')\n",
    "plt.ylabel('Average time taken of each epoch (s)')"
   ]
  },
  {
   "cell_type": "code",
   "execution_count": 34,
   "metadata": {},
   "outputs": [
    {
     "data": {
      "text/plain": [
       "(TensorShape([139618, 30, 20]), TensorShape([139618, 1]))"
      ]
     },
     "execution_count": 34,
     "metadata": {},
     "output_type": "execute_result"
    }
   ],
   "source": [
    "X_train.shape, y_train.shape"
   ]
  },
  {
   "cell_type": "code",
   "execution_count": null,
   "metadata": {},
   "outputs": [],
   "source": [
    "model = models.Sequential()\n",
    "model.add(layers.LSTM(units=100, return_sequences=True, input_shape=(INPUT_LENGTH, FEATURE_COUNT+1)))\n",
    "model.add(layers.LSTM(units=100, return_sequences=True, input_shape=(INPUT_LENGTH, 100)))\n",
    "model.add(layers.LSTM(units=100, return_sequences=False, input_shape=(INPUT_LENGTH, 100)))\n",
    "model.add(layers.Dropout(0.2))\n",
    "model.add(layers.Dense(units=PRIDICT_LENGTH, activation='elu'))\n",
    "model.compile(optimizer='adam', loss=losses.MeanSquaredError())\n",
    "\n",
    "history = model.fit(X_train, y_train, epochs=1000, batch_size=360, callbacks=[earlystop, lr_scheduler], validation_split=0.2)\n",
    "\n",
    "tf.keras.backend.clear_session()"
   ]
  },
  {
   "cell_type": "code",
   "execution_count": null,
   "metadata": {},
   "outputs": [],
   "source": [
    "plt.plot(history.history['loss'])\n",
    "plt.plot(histories3[3].history['loss'])"
   ]
  },
  {
   "cell_type": "code",
   "execution_count": null,
   "metadata": {},
   "outputs": [],
   "source": [
    "# model.evaluate(X_test, y_test)  # MSE"
   ]
  },
  {
   "cell_type": "code",
   "execution_count": 47,
   "metadata": {},
   "outputs": [],
   "source": [
    "import matplotlib.pyplot as plt "
   ]
  },
  {
   "cell_type": "code",
   "execution_count": 50,
   "metadata": {},
   "outputs": [
    {
     "data": {
      "image/png": "[encoded data removed]",
      "text/plain": [
       "<Figure size 640x480 with 2 Axes>"
      ]
     },
     "metadata": {},
     "output_type": "display_data"
    }
   ],
   "source": [
    "line_styles = ['-', '--', '-.', ':']\n",
    "colors = ['b', 'g', 'r', 'c', 'm', 'y', 'k']\n",
    "markers = ['o', 's', '^', 'D', 'v', 'p', '*']\n",
    "\n",
    "fig, ax1 = plt.subplots()\n",
    "ax2 = ax1.twinx()\n",
    "\n",
    "for i in range(len(histories)):\n",
    "    ax1.plot(histories[i].history['loss'], linestyle=\"-\", color=colors[i], marker=markers[i], label=f'{units[i]} Units Train')\n",
    "    ax2.plot(histories[i].history['val_loss'], linestyle=\"--\", color=colors[i], marker=markers[i], label=f'{units[i]} Units Validation')\n",
    "# plt.title('model 1 loss')\n",
    "ax1.set_ylabel('train loss (MSE)')\n",
    "ax2.set_ylabel('validation loss (MSE)')\n",
    "ax1.set_xlabel('epochs')\n",
    "ax1.set_yscale('log')\n",
    "ax2.set_yscale('log')\n",
    "ax1.set_ylim(6, 15)\n",
    "#ax2.set_ylim(10.5, 14)\n",
    "ax1.set_xscale('log')\n",
    "ax1.legend(loc='upper left')\n",
    "ax2.legend(loc='upper right')\n",
    "plt.show()"
   ]
  },
  {
   "cell_type": "code",
   "execution_count": null,
   "metadata": {},
   "outputs": [],
   "source": [
    "line_styles = ['-', '--', '-.', ':']\n",
    "colors = ['b', 'g', 'r', 'c', 'm', 'y', 'k']\n",
    "markers = ['o', 's', '^', 'D', 'v', 'p', '*']\n",
    "\n",
    "fig, ax1 = plt.subplots()\n",
    "ax2 = ax1.twinx()\n",
    "\n",
    "for i in range(len(histories2)):\n",
    "    ax1.plot(histories2[i].history['loss'], linestyle=\"-\", color=colors[i], marker=markers[i], label=f'{dropouts[i]} Dropout Train')\n",
    "    ax2.plot(histories2[i].history['val_loss'], linestyle=\"--\", color=colors[i], marker=markers[i], label=f'{dropouts[i]} Dropout Validation')\n",
    "# plt.title('model 1 loss')\n",
    "ax1.set_ylabel('train loss (MSE)')\n",
    "ax2.set_ylabel('validation loss (MSE)')\n",
    "ax1.set_xlabel('epochs')\n",
    "ax1.set_yscale('log')\n",
    "ax2.set_yscale('log')\n",
    "ax1.set_ylim(4, 9)\n",
    "ax2.set_ylim(5, 8)\n",
    "ax1.set_xscale('log')\n",
    "lines, labels = ax1.get_legend_handles_labels()\n",
    "lines2, labels2 = ax2.get_legend_handles_labels()\n",
    "ax2.legend(lines + lines2, labels + labels2, loc='best')\n",
    "plt.show()"
   ]
  },
  {
   "cell_type": "code",
   "execution_count": null,
   "metadata": {},
   "outputs": [],
   "source": [
    "line_styles = ['-', '--', '-.', ':']\n",
    "colors = ['b', 'g', 'r', 'c', 'm', 'y', 'k']\n",
    "markers = ['o', 's', '^', 'D', 'v', 'p', '*']\n",
    "\n",
    "fig, ax1 = plt.subplots()\n",
    "ax2 = ax1.twinx()\n",
    "\n",
    "for i in range(len(histories3)):\n",
    "    ax1.plot(histories3[i].history['loss'], linestyle=\"-\", color=colors[i], marker=markers[i], label=f'B = {b_sizes[i]} Train')\n",
    "    ax2.plot(histories3[i].history['val_loss'], linestyle=\"--\", color=colors[i], marker=markers[i], label=f'B = {b_sizes[i]} Validation')\n",
    "# plt.title('model 1 loss')\n",
    "ax1.set_ylabel('train loss (MSE)')\n",
    "ax2.set_ylabel('validation loss (MSE)')\n",
    "ax1.set_xlabel('epochs')\n",
    "ax1.set_yscale('log')\n",
    "ax2.set_yscale('log')\n",
    "ax1.set_ylim(6.75, 10)\n",
    "#ax2.set_ylim(5.25, 6.5)\n",
    "ax1.set_xscale('log')\n",
    "ax1.legend(loc='upper left')\n",
    "ax2.legend(loc='upper right')\n",
    "plt.show()"
   ]
  },
  {
   "cell_type": "code",
   "execution_count": 40,
   "metadata": {},
   "outputs": [],
   "source": [
    "tf.keras.backend.clear_session()"
   ]
  },
  {
   "cell_type": "code",
   "execution_count": 63,
   "metadata": {},
   "outputs": [],
   "source": [
    "upstream_speed1 = np.full((sortedData1.shape[0], sortedData1.shape[1], 4), -1)\n",
    "for i, link in enumerate(upstreams):\n",
    "    for j, l in enumerate(link):\n",
    "        if l == -1: continue\n",
    "        else:\n",
    "            upstream_speed1[1:, i, j] = sortedData1[:-1, l, -1]\n",
    "upstream_speed2 = np.full((sortedData2.shape[0], sortedData2.shape[1], 4), -1)\n",
    "for i, link in enumerate(upstreams):\n",
    "    for j, l in enumerate(link):\n",
    "        if l == -1: continue\n",
    "        else:\n",
    "            upstream_speed2[1:, i, j] = sortedData2[:-1, l, -1]"
   ]
  },
  {
   "cell_type": "code",
   "execution_count": 64,
   "metadata": {},
   "outputs": [],
   "source": [
    "temp_data1 = tf.concat([upstream_speed1, temp_data1], 2)\n",
    "temp_data2 = tf.concat([upstream_speed2, temp_data2], 2)"
   ]
  },
  {
   "cell_type": "code",
   "execution_count": 65,
   "metadata": {},
   "outputs": [],
   "source": [
    "id = 22\n",
    "train1, test1 = createInOutSeq(temp_data1[:, id, :], INPUT_LENGTH, PRIDICT_LENGTH)\n",
    "train2, test2 = createInOutSeq(temp_data2[:, id, :], INPUT_LENGTH, PRIDICT_LENGTH)\n",
    "\n",
    "X_train = tf.concat([train1[0], train2[0]], 0)\n",
    "y_train = tf.concat([train1[1], train2[1]], 0)\n",
    "X_test = tf.concat([test1[0], test2[0]], 0)\n",
    "y_test = tf.concat([test1[1], test2[1]], 0)"
   ]
  },
  {
   "cell_type": "code",
   "execution_count": 66,
   "metadata": {},
   "outputs": [],
   "source": [
    "X_train, X_test= normalize(X_train, X_test)"
   ]
  },
  {
   "cell_type": "code",
   "execution_count": 67,
   "metadata": {},
   "outputs": [
    {
     "name": "stdout",
     "output_type": "stream",
     "text": [
      "Model: \"sequential\"\n",
      "_________________________________________________________________\n",
      " Layer (type)                Output Shape              Param #   \n",
      "=================================================================\n",
      " lstm (LSTM)                 (None, 150)               105000    \n",
      "                                                                 \n",
      " dropout (Dropout)           (None, 150)               0         \n",
      "                                                                 \n",
      " dense (Dense)               (None, 15)                2265      \n",
      "                                                                 \n",
      "=================================================================\n",
      "Total params: 107265 (419.00 KB)\n",
      "Trainable params: 107265 (419.00 KB)\n",
      "Non-trainable params: 0 (0.00 Byte)\n",
      "_________________________________________________________________\n"
     ]
    }
   ],
   "source": [
    "model = models.Sequential()\n",
    "earlystop = callbacks.EarlyStopping(monitor='loss', min_delta=0, patience=10, verbose=1, restore_best_weights=True)\n",
    "model.add(layers.LSTM(units=150, return_sequences=False, input_shape=(INPUT_LENGTH, FEATURE_COUNT+5)))\n",
    "model.add(layers.Dropout(0.2))\n",
    "model.add(layers.Dense(units=PRIDICT_LENGTH, activation='elu'))\n",
    "model.compile(optimizer='adam', loss=losses.MeanSquaredError())\n",
    "model.summary()"
   ]
  },
  {
   "cell_type": "code",
   "execution_count": 68,
   "metadata": {},
   "outputs": [
    {
     "name": "stdout",
     "output_type": "stream",
     "text": [
      "Epoch 1/1000\n",
      "311/311 [==============================] - 2s 3ms/step - loss: 8.8079 - val_loss: 5.3383 - lr: 0.0010\n",
      "Epoch 2/1000\n",
      "311/311 [==============================] - 1s 3ms/step - loss: 7.9890 - val_loss: 5.1288 - lr: 0.0010\n",
      "Epoch 3/1000\n",
      "311/311 [==============================] - 1s 2ms/step - loss: 7.8436 - val_loss: 5.0617 - lr: 0.0010\n",
      "Epoch 4/1000\n",
      "311/311 [==============================] - 1s 2ms/step - loss: 7.6918 - val_loss: 5.0694 - lr: 0.0010\n",
      "Epoch 5/1000\n",
      "311/311 [==============================] - 1s 2ms/step - loss: 7.5865 - val_loss: 5.1199 - lr: 0.0010\n",
      "Epoch 6/1000\n",
      "311/311 [==============================] - 1s 2ms/step - loss: 7.4599 - val_loss: 5.1089 - lr: 0.0010\n",
      "Epoch 7/1000\n",
      "311/311 [==============================] - 1s 2ms/step - loss: 7.3775 - val_loss: 5.2017 - lr: 0.0010\n",
      "Epoch 8/1000\n",
      "311/311 [==============================] - 1s 2ms/step - loss: 7.3193 - val_loss: 5.0219 - lr: 0.0010\n",
      "Epoch 9/1000\n",
      "311/311 [==============================] - 1s 2ms/step - loss: 7.2644 - val_loss: 4.9941 - lr: 0.0010\n",
      "Epoch 10/1000\n",
      "311/311 [==============================] - 1s 2ms/step - loss: 7.2301 - val_loss: 4.9776 - lr: 0.0010\n",
      "Epoch 11/1000\n",
      "311/311 [==============================] - 1s 2ms/step - loss: 7.1497 - val_loss: 5.0313 - lr: 9.0000e-04\n",
      "Epoch 12/1000\n",
      "311/311 [==============================] - 1s 2ms/step - loss: 7.1015 - val_loss: 4.9977 - lr: 8.1000e-04\n",
      "Epoch 13/1000\n",
      "311/311 [==============================] - 1s 2ms/step - loss: 7.1127 - val_loss: 4.9584 - lr: 7.2900e-04\n",
      "Epoch 14/1000\n",
      "311/311 [==============================] - 1s 2ms/step - loss: 7.0497 - val_loss: 5.0157 - lr: 6.5610e-04\n",
      "Epoch 15/1000\n",
      "311/311 [==============================] - 1s 2ms/step - loss: 7.0351 - val_loss: 4.9586 - lr: 5.9049e-04\n",
      "Epoch 16/1000\n",
      "311/311 [==============================] - 1s 2ms/step - loss: 7.0408 - val_loss: 4.9407 - lr: 5.3144e-04\n",
      "Epoch 17/1000\n",
      "311/311 [==============================] - 1s 2ms/step - loss: 6.9859 - val_loss: 4.9843 - lr: 4.7830e-04\n",
      "Epoch 18/1000\n",
      "311/311 [==============================] - 1s 2ms/step - loss: 6.9369 - val_loss: 4.9623 - lr: 4.3047e-04\n",
      "Epoch 19/1000\n",
      "311/311 [==============================] - 1s 2ms/step - loss: 6.9064 - val_loss: 5.0088 - lr: 3.8742e-04\n",
      "Epoch 20/1000\n",
      "311/311 [==============================] - 1s 2ms/step - loss: 6.8475 - val_loss: 4.9544 - lr: 3.4868e-04\n",
      "Epoch 21/1000\n",
      "311/311 [==============================] - 1s 2ms/step - loss: 6.8274 - val_loss: 5.0664 - lr: 3.1381e-04\n",
      "Epoch 22/1000\n",
      "311/311 [==============================] - 1s 3ms/step - loss: 6.8207 - val_loss: 4.9613 - lr: 2.8243e-04\n",
      "Epoch 23/1000\n",
      "311/311 [==============================] - 1s 2ms/step - loss: 6.7345 - val_loss: 4.9296 - lr: 2.5419e-04\n",
      "Epoch 24/1000\n",
      "311/311 [==============================] - 1s 2ms/step - loss: 6.7206 - val_loss: 4.9925 - lr: 2.2877e-04\n",
      "Epoch 25/1000\n",
      "311/311 [==============================] - 1s 2ms/step - loss: 6.7177 - val_loss: 4.9391 - lr: 2.0589e-04\n",
      "Epoch 26/1000\n",
      "311/311 [==============================] - 1s 2ms/step - loss: 6.6701 - val_loss: 4.9386 - lr: 1.8530e-04\n",
      "Epoch 27/1000\n",
      "311/311 [==============================] - 1s 2ms/step - loss: 6.6328 - val_loss: 4.9370 - lr: 1.6677e-04\n",
      "Epoch 28/1000\n",
      "311/311 [==============================] - 1s 2ms/step - loss: 6.6103 - val_loss: 4.9856 - lr: 1.5009e-04\n",
      "Epoch 29/1000\n",
      "311/311 [==============================] - 1s 2ms/step - loss: 6.5876 - val_loss: 4.9322 - lr: 1.3509e-04\n",
      "Epoch 30/1000\n",
      "311/311 [==============================] - 1s 2ms/step - loss: 6.5704 - val_loss: 4.9622 - lr: 1.2158e-04\n",
      "Epoch 31/1000\n",
      "311/311 [==============================] - 1s 2ms/step - loss: 6.5605 - val_loss: 4.9975 - lr: 1.0942e-04\n",
      "Epoch 32/1000\n",
      "311/311 [==============================] - 1s 2ms/step - loss: 6.5330 - val_loss: 4.9703 - lr: 9.8477e-05\n",
      "Epoch 33/1000\n",
      "311/311 [==============================] - 1s 2ms/step - loss: 6.5156 - val_loss: 4.9701 - lr: 8.8629e-05\n",
      "Epoch 34/1000\n",
      "311/311 [==============================] - 1s 2ms/step - loss: 6.4918 - val_loss: 4.9689 - lr: 7.9766e-05\n",
      "Epoch 35/1000\n",
      "311/311 [==============================] - 1s 2ms/step - loss: 6.4824 - val_loss: 4.9830 - lr: 7.1790e-05\n",
      "Epoch 36/1000\n",
      "311/311 [==============================] - 1s 2ms/step - loss: 6.4590 - val_loss: 4.9837 - lr: 6.4611e-05\n",
      "Epoch 37/1000\n",
      "311/311 [==============================] - 1s 2ms/step - loss: 6.4598 - val_loss: 4.9875 - lr: 5.8150e-05\n",
      "Epoch 38/1000\n",
      "311/311 [==============================] - 1s 2ms/step - loss: 6.4524 - val_loss: 4.9813 - lr: 5.2335e-05\n",
      "Epoch 39/1000\n",
      "311/311 [==============================] - 1s 2ms/step - loss: 6.4184 - val_loss: 5.0213 - lr: 4.7101e-05\n",
      "Epoch 40/1000\n",
      "311/311 [==============================] - 1s 2ms/step - loss: 6.3952 - val_loss: 4.9878 - lr: 4.2391e-05\n",
      "Epoch 41/1000\n",
      "311/311 [==============================] - 1s 3ms/step - loss: 6.3919 - val_loss: 4.9998 - lr: 3.8152e-05\n",
      "Epoch 42/1000\n",
      "311/311 [==============================] - 1s 2ms/step - loss: 6.3839 - val_loss: 4.9770 - lr: 3.4337e-05\n",
      "Epoch 43/1000\n",
      "311/311 [==============================] - 1s 2ms/step - loss: 6.3857 - val_loss: 5.0158 - lr: 3.0903e-05\n",
      "Epoch 44/1000\n",
      "311/311 [==============================] - 1s 2ms/step - loss: 6.3729 - val_loss: 5.0072 - lr: 2.7813e-05\n",
      "Epoch 45/1000\n",
      "311/311 [==============================] - 1s 2ms/step - loss: 6.3701 - val_loss: 4.9968 - lr: 2.5032e-05\n",
      "Epoch 46/1000\n",
      "311/311 [==============================] - 1s 2ms/step - loss: 6.3613 - val_loss: 4.9950 - lr: 2.2528e-05\n",
      "Epoch 47/1000\n",
      "311/311 [==============================] - 1s 2ms/step - loss: 6.3617 - val_loss: 5.0036 - lr: 2.0276e-05\n",
      "Epoch 48/1000\n",
      "311/311 [==============================] - 1s 2ms/step - loss: 6.3621 - val_loss: 4.9939 - lr: 1.8248e-05\n",
      "Epoch 49/1000\n",
      "311/311 [==============================] - 1s 2ms/step - loss: 6.3546 - val_loss: 4.9883 - lr: 1.6423e-05\n",
      "Epoch 50/1000\n",
      "311/311 [==============================] - 1s 2ms/step - loss: 6.3489 - val_loss: 4.9830 - lr: 1.4781e-05\n",
      "Epoch 51/1000\n",
      "311/311 [==============================] - 1s 2ms/step - loss: 6.3425 - val_loss: 4.9906 - lr: 1.3303e-05\n",
      "Epoch 52/1000\n",
      "311/311 [==============================] - 1s 2ms/step - loss: 6.3441 - val_loss: 4.9833 - lr: 1.1973e-05\n",
      "Epoch 53/1000\n",
      "311/311 [==============================] - 1s 2ms/step - loss: 6.3495 - val_loss: 4.9934 - lr: 1.0775e-05\n",
      "Epoch 54/1000\n",
      "311/311 [==============================] - 1s 2ms/step - loss: 6.3392 - val_loss: 4.9915 - lr: 9.6977e-06\n",
      "Epoch 55/1000\n",
      "311/311 [==============================] - 1s 2ms/step - loss: 6.3395 - val_loss: 4.9851 - lr: 8.7280e-06\n",
      "Epoch 56/1000\n",
      "311/311 [==============================] - 1s 2ms/step - loss: 6.3367 - val_loss: 4.9838 - lr: 7.8552e-06\n",
      "Epoch 57/1000\n",
      "311/311 [==============================] - 1s 3ms/step - loss: 6.3375 - val_loss: 4.9830 - lr: 7.0697e-06\n",
      "Epoch 58/1000\n",
      "311/311 [==============================] - 1s 3ms/step - loss: 6.3333 - val_loss: 4.9874 - lr: 6.3627e-06\n",
      "Epoch 59/1000\n",
      "311/311 [==============================] - 1s 3ms/step - loss: 6.3249 - val_loss: 4.9932 - lr: 5.7264e-06\n",
      "Epoch 60/1000\n",
      "311/311 [==============================] - 1s 2ms/step - loss: 6.3316 - val_loss: 4.9874 - lr: 5.1538e-06\n",
      "Epoch 61/1000\n",
      "311/311 [==============================] - 1s 2ms/step - loss: 6.3258 - val_loss: 4.9856 - lr: 4.6384e-06\n",
      "Epoch 62/1000\n",
      "311/311 [==============================] - 1s 2ms/step - loss: 6.3261 - val_loss: 4.9910 - lr: 4.1746e-06\n",
      "Epoch 63/1000\n",
      "311/311 [==============================] - 1s 2ms/step - loss: 6.3323 - val_loss: 4.9848 - lr: 3.7571e-06\n",
      "Epoch 64/1000\n",
      "311/311 [==============================] - 1s 2ms/step - loss: 6.3309 - val_loss: 4.9871 - lr: 3.3814e-06\n",
      "Epoch 65/1000\n",
      "311/311 [==============================] - 1s 2ms/step - loss: 6.3313 - val_loss: 4.9871 - lr: 3.0433e-06\n",
      "Epoch 66/1000\n",
      "311/311 [==============================] - 1s 2ms/step - loss: 6.3210 - val_loss: 4.9897 - lr: 2.7389e-06\n",
      "Epoch 67/1000\n",
      "311/311 [==============================] - 1s 2ms/step - loss: 6.3267 - val_loss: 4.9916 - lr: 2.4650e-06\n",
      "Epoch 68/1000\n",
      "311/311 [==============================] - 1s 2ms/step - loss: 6.3348 - val_loss: 4.9826 - lr: 2.2185e-06\n",
      "Epoch 69/1000\n",
      "311/311 [==============================] - 1s 2ms/step - loss: 6.3278 - val_loss: 4.9857 - lr: 1.9967e-06\n",
      "Epoch 70/1000\n",
      "311/311 [==============================] - 1s 2ms/step - loss: 6.3194 - val_loss: 4.9877 - lr: 1.7970e-06\n",
      "Epoch 71/1000\n",
      "311/311 [==============================] - 1s 2ms/step - loss: 6.3313 - val_loss: 4.9873 - lr: 1.6173e-06\n",
      "Epoch 72/1000\n",
      "311/311 [==============================] - 1s 2ms/step - loss: 6.3242 - val_loss: 4.9865 - lr: 1.4556e-06\n",
      "Epoch 73/1000\n",
      "311/311 [==============================] - 1s 2ms/step - loss: 6.3242 - val_loss: 4.9879 - lr: 1.3100e-06\n",
      "Epoch 74/1000\n",
      "311/311 [==============================] - 1s 2ms/step - loss: 6.3290 - val_loss: 4.9887 - lr: 1.1790e-06\n",
      "Epoch 75/1000\n",
      "311/311 [==============================] - 1s 2ms/step - loss: 6.3232 - val_loss: 4.9897 - lr: 1.0611e-06\n",
      "Epoch 76/1000\n",
      "311/311 [==============================] - 1s 2ms/step - loss: 6.3249 - val_loss: 4.9870 - lr: 9.5501e-07\n",
      "Epoch 77/1000\n",
      "311/311 [==============================] - 1s 2ms/step - loss: 6.3208 - val_loss: 4.9870 - lr: 8.5950e-07\n",
      "Epoch 78/1000\n",
      "311/311 [==============================] - 1s 2ms/step - loss: 6.3230 - val_loss: 4.9868 - lr: 7.7355e-07\n",
      "Epoch 79/1000\n",
      "311/311 [==============================] - 1s 2ms/step - loss: 6.3275 - val_loss: 4.9876 - lr: 6.9620e-07\n",
      "Epoch 80/1000\n",
      "295/311 [===========================>..] - ETA: 0s - loss: 6.3591Restoring model weights from the end of the best epoch: 70.\n",
      "311/311 [==============================] - 1s 2ms/step - loss: 6.3283 - val_loss: 4.9870 - lr: 6.2658e-07\n",
      "Epoch 80: early stopping\n"
     ]
    }
   ],
   "source": [
    "history = model.fit(X_train, y_train, epochs=1000, batch_size=360, callbacks=[earlystop, lr_scheduler], validation_split=0.2)"
   ]
  },
  {
   "cell_type": "code",
   "execution_count": 79,
   "metadata": {},
   "outputs": [
    {
     "data": {
      "image/png": "[encoded data removed]",
      "text/plain": [
       "<Figure size 640x480 with 2 Axes>"
      ]
     },
     "metadata": {},
     "output_type": "display_data"
    }
   ],
   "source": [
    "fig, ax1 = plt.subplots()\n",
    "ax2 = ax1.twinx()\n",
    "\n",
    "ax1.plot(history.history['loss'], linestyle=\"-\", color=colors[0], marker=markers[2], label=\"Train loss with Spatial Featrues\")\n",
    "ax2.plot(history.history['val_loss'], linestyle=\"--\", color=colors[0], marker=markers[2], label=\"Validation loss with Spatial Featrues\")\n",
    "ax1.plot(histories[4].history['loss'], linestyle=\"-\", color=colors[1], marker=markers[1], label=\"Train loss of control group\")\n",
    "ax2.plot(histories[4].history['val_loss'], linestyle=\"--\", color=colors[1], marker=markers[1], label=\"Validation loss of control group\")\n",
    "# plt.title('model 1 loss')\n",
    "ax1.set_ylabel('train loss (MSE)')\n",
    "ax2.set_ylabel('validation loss (MSE)')\n",
    "ax1.set_xlabel('epochs')\n",
    "ax1.set_yscale('log')\n",
    "ax2.set_yscale('log')\n",
    "ax1.set_ylim(5.7, 9)\n",
    "ax2.set_ylim(4.7, 7)\n",
    "ax1.set_xscale('log')\n",
    "lines, labels = ax1.get_legend_handles_labels()\n",
    "lines2, labels2 = ax2.get_legend_handles_labels()\n",
    "ax2.legend(lines + lines2, labels + labels2, loc='upper right')\n",
    "plt.show()"
   ]
  },
  {
   "cell_type": "code",
   "execution_count": 78,
   "metadata": {},
   "outputs": [
    {
     "data": {
      "text/plain": [
       "1.2050584195298497"
      ]
     },
     "execution_count": 78,
     "metadata": {},
     "output_type": "execute_result"
    }
   ],
   "source": [
    "histories[4].history['loss'][-1] / history.history['loss'][-1]"
   ]
  },
  {
   "cell_type": "markdown",
   "metadata": {},
   "source": [
    "## ====================================================="
   ]
  },
  {
   "cell_type": "code",
   "execution_count": 37,
   "metadata": {},
   "outputs": [],
   "source": [
    "from functions import *"
   ]
  },
  {
   "cell_type": "code",
   "execution_count": 38,
   "metadata": {},
   "outputs": [],
   "source": [
    "links = getStaticLinkData()\n",
    "adj_matrix, upstreams = getSpatialData()"
   ]
  },
  {
   "cell_type": "code",
   "execution_count": 39,
   "metadata": {},
   "outputs": [],
   "source": [
    "samples1 = getTemporalData(\"../datasets/gy_link_travel_time_part1.txt\")\n",
    "samples2 = getTemporalData(\"../datasets/gy_link_travel_time_part2.txt\")\n",
    "samples3 = getTemporalData(\"../datasets/gy_link_travel_time_part3.txt\")\n",
    "samples = tf.concat([samples1, samples2], 0)\n",
    "samples = tf.concat([samples, samples3], 0)\n",
    "del samples1, samples2, samples3"
   ]
  },
  {
   "cell_type": "code",
   "execution_count": 40,
   "metadata": {},
   "outputs": [],
   "source": [
    "start_date_1 = datetime(2016, 3, 1)\n",
    "end_date_1 = datetime(2016, 6, 1)\n",
    "start_date_2 = datetime(2017, 3, 1)\n",
    "end_date_2 = datetime(2017, 7, 1)"
   ]
  },
  {
   "cell_type": "code",
   "execution_count": 41,
   "metadata": {},
   "outputs": [],
   "source": [
    "sortedData1 = sortLinks(samples, start_date_1, end_date_1, links[:, 1])\n",
    "sortedData2 = sortLinks(samples, start_date_2, end_date_2, links[:, 1])"
   ]
  },
  {
   "cell_type": "code",
   "execution_count": 6,
   "metadata": {},
   "outputs": [],
   "source": [
    "spac_data = adj_matrix\n",
    "stat_data = tf.reshape(links[:, 2], (links.shape[0], 1))"
   ]
  },
  {
   "cell_type": "code",
   "execution_count": 68,
   "metadata": {},
   "outputs": [],
   "source": [
    "temp_train = tf.concat([sortedData1[:-VALIDATION_LEN-TEST_LEN], sortedData2[:-VALIDATION_LEN-TEST_LEN]], 0)\n",
    "temp_valid = tf.concat([sortedData1[-VALIDATION_LEN-TEST_LEN:-TEST_LEN], sortedData2[-VALIDATION_LEN-TEST_LEN:-TEST_LEN]], 0)\n",
    "temp_test = tf.concat([sortedData1[-TEST_LEN:], sortedData2[-TEST_LEN:]], 0)"
   ]
  },
  {
   "cell_type": "code",
   "execution_count": 8,
   "metadata": {},
   "outputs": [],
   "source": [
    "def generateSTLSTMSeq(\n",
    "        data : tf.Tensor, \n",
    "        in_length : int, \n",
    "        out_length : int, \n",
    "        spac_data : tf.Tensor,\n",
    "        stat_data : tf.Tensor,\n",
    "        batch_size : int):\n",
    "    '''\n",
    "    data shape: [in_length + n + out_length, 132, 18]\n",
    "    in (x) shape: [n, in_length, 132, 18]\n",
    "    out (y) shape: [n, out_length, 132, 1] -> [n, out_length, 132]\n",
    "    '''\n",
    "    n = data.shape[0] - in_length - out_length\n",
    "    while True:\n",
    "        for i in range(0, n, batch_size):\n",
    "            x_batch = np.zeros((batch_size, in_length, data.shape[1], data.shape[2]))\n",
    "            y_batch = np.zeros((batch_size, out_length, data.shape[1]))\n",
    "            for j in range(min(batch_size, n - i)):\n",
    "                current = i + j\n",
    "                x_batch[j] = data[current:current+in_length]\n",
    "                y_batch[j] = data[current+in_length:current+in_length+out_length, :, -1]\n",
    "            yield ((\n",
    "                x_batch, \n",
    "                tf.broadcast_to(spac_data, [batch_size, ]+spac_data.shape), \n",
    "                tf.broadcast_to(stat_data, [batch_size, ]+stat_data.shape)\n",
    "                ), y_batch)"
   ]
  },
  {
   "cell_type": "code",
   "execution_count": 36,
   "metadata": {},
   "outputs": [],
   "source": [
    "class STLSTM(keras.Model):\n",
    "    def __init__(self, temporal_input_shape, spatial_input_shape, static_input_shape, output_shape):\n",
    "        super(STLSTM, self).__init__()\n",
    "\n",
    "        # [30, 132, 18]\n",
    "        self.temporal_inputs = layers.Input(\n",
    "            shape=temporal_input_shape,\n",
    "            name=\"temporal_inputs\"\n",
    "        )\n",
    "        # [132, 132]\n",
    "        self.spatial_inputs = layers.Input(\n",
    "            shape=spatial_input_shape,\n",
    "            name=\"spatial_inputs\"\n",
    "        )\n",
    "        # [132, 1]\n",
    "        self.static_inputs = layers.Input(\n",
    "            shape=static_input_shape,\n",
    "            name=\"static_inputs\"\n",
    "        )\n",
    "\n",
    "        self.conv2d_temp = layers.Conv2D(\n",
    "            filters=1, \n",
    "            kernel_size=(1, 1), \n",
    "            activation='relu',\n",
    "            name=\"Conv2D_Temporal\"\n",
    "        )\n",
    "        # self.pooling_tem = layers.MaxPool2D(pool_size=(3, 3), name=\"Pooling_Temporal\")\n",
    "\n",
    "        self.reshape_temp = layers.Reshape(\n",
    "            target_shape=(temporal_input_shape[0], temporal_input_shape[1]),\n",
    "            name=\"Reshape_Temporal\"\n",
    "        )\n",
    "\n",
    "        self.lstm = keras.Sequential([\n",
    "            layers.LSTM(units=100, dropout=0.2, return_sequences=True),\n",
    "            layers.LSTM(units=100, dropout=0.2, return_sequences=True),\n",
    "            layers.LSTM(units=100, dropout=0.2)\n",
    "            ], name=\"LSTM_Layers\"\n",
    "        )\n",
    "\n",
    "        self.dense_temp = keras.Sequential([\n",
    "            layers.Dense(units=1000, activation='relu'),\n",
    "            layers.Dense(units=output_shape[0]*output_shape[1], activation='relu')\n",
    "        ], name=\"Dense_Temporal\"\n",
    "        )\n",
    "\n",
    "        self.reshape_temp2 = layers.Reshape(\n",
    "            target_shape=(output_shape[0], output_shape[1], 1),\n",
    "            name=\"Reshape_Temporal_2\"\n",
    "        )\n",
    "\n",
    "        self.conv2d_spat = layers.Conv2D(\n",
    "            filters=1, \n",
    "            kernel_size=(1, 1), \n",
    "            activation='relu',\n",
    "            name=\"Conv2D_Spatial\"\n",
    "        )\n",
    "\n",
    "        self.flatten_spat = layers.Flatten()\n",
    "        self.repeat_spat = layers.RepeatVector(output_shape[0])\n",
    "        self.reshape_spat = layers.Reshape(\n",
    "            target_shape=(output_shape[0], spatial_input_shape[0], spatial_input_shape[1]), \n",
    "            name=\"Reshape_Spatial\")\n",
    "\n",
    "        self.flatten_stat = layers.Flatten()\n",
    "        self.repeat_stat = layers.RepeatVector(output_shape[0])\n",
    "        self.reshape_stat = layers.Reshape(\n",
    "            target_shape=(output_shape[0], static_input_shape[0], static_input_shape[1]), \n",
    "            name=\"Reshape_Static\")\n",
    "\n",
    "        self.concatenate = layers.Concatenate(axis=-1, name=\"Concatenate\")\n",
    "\n",
    "        self.flatten_out = layers.Flatten()\n",
    "\n",
    "        self.dense_out = layers.Dense(\n",
    "            units=output_shape[0] * output_shape[1], \n",
    "            activation='relu',\n",
    "            name=\"Dense_Output\"\n",
    "        )\n",
    "        \n",
    "        self.reshape_out = layers.Reshape(\n",
    "            target_shape=(output_shape[0], output_shape[1]),\n",
    "            name=\"Reshape_Output\"\n",
    "        )\n",
    "    \n",
    "    def call(self, inputs, training=None):\n",
    "        temp = inputs[0]    # [30, 132, 18]\n",
    "        spat = inputs[1]    # [132, 132]\n",
    "        stat = inputs[2]    # [132, 1]\n",
    "        \n",
    "        # [30, 132, 19] -> [30, 132]\n",
    "        temp = self.conv2d_temp(temp)\n",
    "        temp = self.reshape_temp(temp)\n",
    "\n",
    "        # [30, 132] -> [100]\n",
    "        temp = self.lstm(temp)\n",
    "\n",
    "        # [100] -> [15 * 132] -> [15, 132, 1]\n",
    "        temp = self.dense_temp(temp)\n",
    "        temp = self.reshape_temp2(temp)\n",
    "\n",
    "        # [132, 132] -> [15, 132, 132]\n",
    "        spat = self.flatten_spat(spat)\n",
    "        spat = self.repeat_spat(spat)\n",
    "        spat = self.reshape_spat(spat)\n",
    "        #$ spat = self.conv2d_spat(spat)\n",
    "\n",
    "        # [132, 1] -> [15, 132, 1]\n",
    "        stat = self.flatten_stat(stat)\n",
    "        stat = self.repeat_stat(stat)\n",
    "        stat = self.reshape_stat(stat)\n",
    "\n",
    "        # [15, 132, 132] times [15, 132, 1] -> [15, 132, 1]\n",
    "        spat_temp = tf.matmul(spat, temp)\n",
    "\n",
    "        # [15, 132, 1] + [15, 132, 1]\n",
    "        al = self.concatenate([spat_temp, stat])\n",
    "\n",
    "        # [15, 132, 2] -> [15 * 132 * 2] -> [15 * 132] -> [15, 132]\n",
    "        al = self.flatten_out(al)\n",
    "        al = self.dense_out(al)\n",
    "        # al = self.conv2d_spat(al)\n",
    "        al = self.reshape_out(al)\n",
    "\n",
    "        return al"
   ]
  },
  {
   "cell_type": "code",
   "execution_count": 48,
   "metadata": {},
   "outputs": [],
   "source": [
    "NUM_LINKS = links.shape[0]\n",
    "SPAT_FEATURE_COUNT = stat_data.shape[1]"
   ]
  },
  {
   "cell_type": "code",
   "execution_count": 38,
   "metadata": {},
   "outputs": [],
   "source": [
    "def createModel(temporal_shape, spatial_shape, static_shape, output_shape, loss=losses.MeanSquaredError()):\n",
    "    model = STLSTM(\n",
    "        temporal_input_shape=temporal_shape,\n",
    "        spatial_input_shape=spatial_shape,\n",
    "        static_input_shape=static_shape,\n",
    "        output_shape=output_shape\n",
    "    )\n",
    "\n",
    "    model.build(input_shape=[(None, )+temporal_shape, (None, )+spatial_shape, (None, )+static_shape])\n",
    "    model.compile(optimizer='adam', loss=loss)\n",
    "    return model"
   ]
  },
  {
   "cell_type": "code",
   "execution_count": 39,
   "metadata": {},
   "outputs": [
    {
     "name": "stdout",
     "output_type": "stream",
     "text": [
      "Model: \"stlstm_2\"\n",
      "_________________________________________________________________\n",
      " Layer (type)                Output Shape              Param #   \n",
      "=================================================================\n",
      " Conv2D_Temporal (Conv2D)    multiple                  20        \n",
      "                                                                 \n",
      " Reshape_Temporal (Reshape)  multiple                  0         \n",
      "                                                                 \n",
      " LSTM_Layers (Sequential)    (None, 100)               254000    \n",
      "                                                                 \n",
      " Dense_Temporal (Sequential  (None, 1980)              2082980   \n",
      " )                                                               \n",
      "                                                                 \n",
      " Reshape_Temporal_2 (Reshap  multiple                  0         \n",
      " e)                                                              \n",
      "                                                                 \n",
      " Conv2D_Spatial (Conv2D)     multiple                  0 (unused)\n",
      "                                                                 \n",
      " flatten_6 (Flatten)         multiple                  0         \n",
      "                                                                 \n",
      " repeat_vector_4 (RepeatVec  multiple                  0         \n",
      " tor)                                                            \n",
      "                                                                 \n",
      " Reshape_Spatial (Reshape)   multiple                  0         \n",
      "                                                                 \n",
      " flatten_7 (Flatten)         multiple                  0         \n",
      "                                                                 \n",
      " repeat_vector_5 (RepeatVec  multiple                  0         \n",
      " tor)                                                            \n",
      "                                                                 \n",
      " Reshape_Static (Reshape)    multiple                  0         \n",
      "                                                                 \n",
      " Concatenate (Concatenate)   multiple                  0         \n",
      "                                                                 \n",
      " flatten_8 (Flatten)         multiple                  0         \n",
      "                                                                 \n",
      " Dense_Output (Dense)        multiple                  7842780   \n",
      "                                                                 \n",
      " Reshape_Output (Reshape)    multiple                  0         \n",
      "                                                                 \n",
      "=================================================================\n",
      "Total params: 10179780 (38.83 MB)\n",
      "Trainable params: 10179780 (38.83 MB)\n",
      "Non-trainable params: 0 (0.00 Byte)\n",
      "_________________________________________________________________\n"
     ]
    }
   ],
   "source": [
    "model = createModel((INPUT_LENGTH, NUM_LINKS, FEATURE_COUNT), (NUM_LINKS, NUM_LINKS), (NUM_LINKS, SPAT_FEATURE_COUNT), (PRIDICT_LENGTH, NUM_LINKS))\n",
    "model.summary()"
   ]
  },
  {
   "cell_type": "code",
   "execution_count": 6,
   "metadata": {},
   "outputs": [],
   "source": [
    "from functions import *"
   ]
  },
  {
   "cell_type": "code",
   "execution_count": 7,
   "metadata": {},
   "outputs": [],
   "source": [
    "def normalize(train, val=None, test=None):\n",
    "    scaler = preprocessing.MinMaxScaler()\n",
    "\n",
    "    train_shape = train.shape\n",
    "    train = np.reshape(train, (-1, train_shape[-1]))\n",
    "    train = np.reshape(scaler.fit_transform(train), train_shape)\n",
    "    if val is not None: \n",
    "        val_shape = val.shape\n",
    "        val = np.reshape(val, (-1, val_shape[-1]))\n",
    "        val = np.reshape(scaler.transform(val), val_shape)\n",
    "    if test is not None:\n",
    "        test_shape = test.shape\n",
    "        test = np.reshape(test, (-1, test_shape[-1]))\n",
    "        test = np.reshape(scaler.transform(test), test_shape)\n",
    "\n",
    "    return train, val, test"
   ]
  },
  {
   "cell_type": "code",
   "execution_count": 8,
   "metadata": {},
   "outputs": [
    {
     "ename": "NameError",
     "evalue": "name 'temp_train' is not defined",
     "output_type": "error",
     "traceback": [
      "\u001b[0;31m---------------------------------------------------------------------------\u001b[0m",
      "\u001b[0;31mNameError\u001b[0m                                 Traceback (most recent call last)",
      "Cell \u001b[0;32mIn[8], line 1\u001b[0m\n\u001b[0;32m----> 1\u001b[0m temp_train, temp_valid, temp_test \u001b[38;5;241m=\u001b[39m normalize(\u001b[43mtemp_train\u001b[49m, temp_valid, temp_test)\n",
      "\u001b[0;31mNameError\u001b[0m: name 'temp_train' is not defined"
     ]
    }
   ],
   "source": [
    "temp_train, temp_valid, temp_test = normalize(temp_train, temp_valid, temp_test)"
   ]
  },
  {
   "cell_type": "code",
   "execution_count": 15,
   "metadata": {},
   "outputs": [],
   "source": [
    "train_generator = generateInOutSeq(temp_train, INPUT_LENGTH, PRIDICT_LENGTH, spac_data, stat_data, BATCH_SIZE)\n",
    "validation_generator = generateInOutSeq(temp_valid, INPUT_LENGTH, PRIDICT_LENGTH, spac_data, stat_data, BATCH_SIZE)\n",
    "test_generator = generateInOutSeq(temp_test, INPUT_LENGTH, PRIDICT_LENGTH, spac_data, stat_data, BATCH_SIZE)"
   ]
  },
  {
   "cell_type": "code",
   "execution_count": 16,
   "metadata": {},
   "outputs": [
    {
     "name": "stdout",
     "output_type": "stream",
     "text": [
      "Epoch 1/100\n",
      "154/154 [==============================] - 47s 293ms/step - loss: 0.2258 - val_loss: 2.2203e-04\n",
      "Epoch 2/100\n",
      "154/154 [==============================] - 45s 290ms/step - loss: 1.8701e-04 - val_loss: 2.2203e-04\n",
      "Epoch 3/100\n",
      "154/154 [==============================] - 44s 288ms/step - loss: 2.0421e-04 - val_loss: 2.2203e-04\n",
      "Epoch 4/100\n",
      "154/154 [==============================] - 44s 288ms/step - loss: 1.8701e-04 - val_loss: 2.2203e-04\n",
      "Epoch 5/100\n",
      "154/154 [==============================] - ETA: 0s - loss: 1.8701e-04Restoring model weights from the end of the best epoch: 2.\n",
      "154/154 [==============================] - 44s 289ms/step - loss: 1.8701e-04 - val_loss: 2.2203e-04\n",
      "Epoch 5: early stopping\n"
     ]
    }
   ],
   "source": [
    "earlystop = callbacks.EarlyStopping(monitor='loss', min_delta=0, patience=3, verbose=1, restore_best_weights=True)\n",
    "history = model.fit(\n",
    "    train_generator, \n",
    "    steps_per_epoch=temp_train.shape[0] // BATCH_SIZE, \n",
    "    epochs=100, \n",
    "    callbacks=earlystop, \n",
    "    validation_data=next(validation_generator)\n",
    ")"
   ]
  },
  {
   "cell_type": "code",
   "execution_count": 19,
   "metadata": {},
   "outputs": [
    {
     "name": "stdout",
     "output_type": "stream",
     "text": [
      "20/20 [==============================] - 4s 184ms/step - loss: 2.2528e-04\n"
     ]
    },
    {
     "data": {
      "text/plain": [
       "0.00022527952387463301"
      ]
     },
     "execution_count": 19,
     "metadata": {},
     "output_type": "execute_result"
    }
   ],
   "source": [
    "model.evaluate(test_generator, steps=temp_test.shape[0] // BATCH_SIZE)"
   ]
  },
  {
   "cell_type": "code",
   "execution_count": 21,
   "metadata": {},
   "outputs": [],
   "source": [
    "tf.keras.backend.clear_session()"
   ]
  },
  {
   "cell_type": "code",
   "execution_count": 41,
   "metadata": {},
   "outputs": [
    {
     "name": "stdout",
     "output_type": "stream",
     "text": [
      "Epoch 1/100\n",
      "924/924 [==============================] - 78s 82ms/step - loss: 0.0408 - val_loss: 4.7873e-05\n",
      "Epoch 2/100\n",
      "924/924 [==============================] - 76s 82ms/step - loss: 1.8701e-04 - val_loss: 4.7873e-05\n",
      "Epoch 3/100\n",
      "924/924 [==============================] - ETA: 0s - loss: 1.8701e-04Restoring model weights from the end of the best epoch: 2.\n",
      "924/924 [==============================] - 76s 82ms/step - loss: 1.8701e-04 - val_loss: 4.7873e-05\n",
      "Epoch 3: early stopping\n",
      "120/120 [==============================] - 5s 35ms/step - loss: 2.2528e-04\n",
      "Epoch 1/100\n",
      "924/924 [==============================] - 78s 82ms/step - loss: 1931900.0000 - val_loss: 65.1136\n",
      "Epoch 2/100\n",
      "924/924 [==============================] - 76s 82ms/step - loss: 85.3053 - val_loss: 65.1136\n",
      "Epoch 3/100\n",
      "924/924 [==============================] - ETA: 0s - loss: 85.3053Restoring model weights from the end of the best epoch: 2.\n",
      "924/924 [==============================] - 76s 82ms/step - loss: 85.3053 - val_loss: 65.1136\n",
      "Epoch 3: early stopping\n",
      "120/120 [==============================] - 4s 34ms/step - loss: 89.0324\n",
      "Epoch 1/100\n",
      "308/308 [==============================] - 54s 169ms/step - loss: 0.1240 - val_loss: 1.1068e-04\n",
      "Epoch 2/100\n",
      "308/308 [==============================] - 51s 167ms/step - loss: 1.8701e-04 - val_loss: 1.1068e-04\n",
      "Epoch 3/100\n",
      "308/308 [==============================] - ETA: 0s - loss: 1.8701e-04Restoring model weights from the end of the best epoch: 2.\n",
      "308/308 [==============================] - 52s 167ms/step - loss: 1.8701e-04 - val_loss: 1.1068e-04\n",
      "Epoch 3: early stopping\n",
      "40/40 [==============================] - 4s 95ms/step - loss: 2.2528e-04\n",
      "Epoch 1/100\n",
      "308/308 [==============================] - 54s 169ms/step - loss: 3374660.7500 - val_loss: 78.5059\n",
      "Epoch 2/100\n",
      "308/308 [==============================] - 52s 168ms/step - loss: 85.3053 - val_loss: 78.5059\n",
      "Epoch 3/100\n",
      "308/308 [==============================] - ETA: 0s - loss: 85.3053Restoring model weights from the end of the best epoch: 2.\n",
      "308/308 [==============================] - 53s 171ms/step - loss: 85.3053 - val_loss: 78.5059\n",
      "Epoch 3: early stopping\n",
      "40/40 [==============================] - 4s 95ms/step - loss: 89.0324\n",
      "Epoch 1/100\n",
      "154/154 [==============================] - 47s 294ms/step - loss: 0.2417 - val_loss: 2.2203e-04\n",
      "Epoch 2/100\n",
      "154/154 [==============================] - 45s 292ms/step - loss: 1.8701e-04 - val_loss: 2.2203e-04\n",
      "Epoch 3/100\n",
      "154/154 [==============================] - ETA: 0s - loss: 1.8701e-04Restoring model weights from the end of the best epoch: 2.\n",
      "154/154 [==============================] - 45s 289ms/step - loss: 1.8701e-04 - val_loss: 2.2203e-04\n",
      "Epoch 3: early stopping\n",
      "20/20 [==============================] - 4s 188ms/step - loss: 2.2528e-04\n",
      "Epoch 1/100\n",
      "154/154 [==============================] - 48s 298ms/step - loss: 4229217.5000 - val_loss: 85.3635\n",
      "Epoch 2/100\n",
      "154/154 [==============================] - 45s 293ms/step - loss: 85.3053 - val_loss: 85.3635\n",
      "Epoch 3/100\n",
      "154/154 [==============================] - ETA: 0s - loss: 85.3053Restoring model weights from the end of the best epoch: 2.\n",
      "154/154 [==============================] - 45s 291ms/step - loss: 85.3053 - val_loss: 85.3635\n",
      "Epoch 3: early stopping\n",
      "20/20 [==============================] - 4s 185ms/step - loss: 89.0323\n",
      "Epoch 1/100\n",
      "77/77 [==============================] - 40s 502ms/step - loss: 0.4640 - val_loss: 3.2226e-04\n",
      "Epoch 2/100\n",
      "77/77 [==============================] - 38s 493ms/step - loss: 1.8701e-04 - val_loss: 3.2226e-04\n",
      "Epoch 3/100\n",
      "77/77 [==============================] - ETA: 0s - loss: 1.8701e-04Restoring model weights from the end of the best epoch: 2.\n",
      "77/77 [==============================] - 38s 497ms/step - loss: 1.8701e-04 - val_loss: 3.2226e-04\n",
      "Epoch 3: early stopping\n",
      "10/10 [==============================] - 4s 374ms/step - loss: 2.2528e-04\n",
      "Epoch 1/100\n",
      "77/77 [==============================] - 41s 516ms/step - loss: 8786609.0000 - val_loss: 85.2563\n",
      "Epoch 2/100\n",
      "77/77 [==============================] - 38s 498ms/step - loss: 5947.3574 - val_loss: 85.2563\n",
      "Epoch 3/100\n",
      "77/77 [==============================] - 38s 498ms/step - loss: 85.3053 - val_loss: 85.2563\n",
      "Epoch 4/100\n",
      "77/77 [==============================] - ETA: 0s - loss: 85.3053Restoring model weights from the end of the best epoch: 3.\n",
      "77/77 [==============================] - 38s 499ms/step - loss: 85.3053 - val_loss: 85.2563\n",
      "Epoch 4: early stopping\n",
      "10/10 [==============================] - 4s 390ms/step - loss: 89.0323\n",
      "Epoch 1/100\n",
      "22/22 [==============================] - 53s 2s/step - loss: 1.7192 - val_loss: 3.7096e-04\n",
      "Epoch 2/100\n",
      "22/22 [==============================] - 39s 2s/step - loss: 1.8701e-04 - val_loss: 3.7096e-04\n",
      "Epoch 3/100\n",
      "22/22 [==============================] - ETA: 0s - loss: 1.8701e-04Restoring model weights from the end of the best epoch: 2.\n",
      "22/22 [==============================] - 39s 2s/step - loss: 1.8701e-04 - val_loss: 3.7096e-04\n",
      "Epoch 3: early stopping\n",
      "2/2 [==============================] - 4s 3s/step - loss: 2.4485e-04\n",
      "Epoch 1/100\n",
      "22/22 [==============================] - 47s 2s/step - loss: 17880900.0000 - val_loss: 85.2064\n",
      "Epoch 2/100\n",
      "22/22 [==============================] - 39s 2s/step - loss: 22723.7910 - val_loss: 85.2064\n",
      "Epoch 3/100\n",
      "22/22 [==============================] - 39s 2s/step - loss: 85.3053 - val_loss: 85.2064\n",
      "Epoch 4/100\n",
      "22/22 [==============================] - ETA: 0s - loss: 85.3053Restoring model weights from the end of the best epoch: 3.\n",
      "22/22 [==============================] - 39s 2s/step - loss: 85.3053 - val_loss: 85.2064\n",
      "Epoch 4: early stopping\n",
      "2/2 [==============================] - 3s 2s/step - loss: 90.1648\n"
     ]
    }
   ],
   "source": [
    "b_sizes = [120, 360, 720, 1440, 5040]\n",
    "histories_MSE = []\n",
    "test_loss_MSE = []\n",
    "histories_MAPE = []\n",
    "test_loss_MAPE = []\n",
    "earlystop = callbacks.EarlyStopping(monitor='loss', min_delta=0, patience=3, verbose=1, restore_best_weights=True)\n",
    "\n",
    "for b_size in b_sizes:\n",
    "    train_generator = generateInOutSeq(temp_train, INPUT_LENGTH, PRIDICT_LENGTH, spac_data, stat_data, b_size)\n",
    "    validation_generator = generateInOutSeq(temp_valid, INPUT_LENGTH, PRIDICT_LENGTH, spac_data, stat_data, b_size)\n",
    "    test_generator = generateInOutSeq(temp_test, INPUT_LENGTH, PRIDICT_LENGTH, spac_data, stat_data, b_size)\n",
    "\n",
    "    model = createModel(\n",
    "        (INPUT_LENGTH, NUM_LINKS, FEATURE_COUNT), \n",
    "        (NUM_LINKS, NUM_LINKS), \n",
    "        (NUM_LINKS, SPAT_FEATURE_COUNT), \n",
    "        (PRIDICT_LENGTH, NUM_LINKS)\n",
    "    )\n",
    "    \n",
    "    histories_MSE.append(model.fit(\n",
    "        train_generator, \n",
    "        steps_per_epoch=temp_train.shape[0] // b_size, \n",
    "        epochs=100, \n",
    "        callbacks=earlystop, \n",
    "        validation_data=next(validation_generator)))\n",
    "    \n",
    "    test_loss_MSE.append(model.evaluate(test_generator, steps=temp_test.shape[0] // b_size))\n",
    "    \n",
    "    tf.keras.backend.clear_session()\n",
    "\n",
    "    train_generator = generateInOutSeq(temp_train, INPUT_LENGTH, PRIDICT_LENGTH, spac_data, stat_data, b_size)\n",
    "    validation_generator = generateInOutSeq(temp_valid, INPUT_LENGTH, PRIDICT_LENGTH, spac_data, stat_data, b_size)\n",
    "    test_generator = generateInOutSeq(temp_test, INPUT_LENGTH, PRIDICT_LENGTH, spac_data, stat_data, b_size)\n",
    "\n",
    "    model = createModel(\n",
    "        (INPUT_LENGTH, NUM_LINKS, FEATURE_COUNT), \n",
    "        (NUM_LINKS, NUM_LINKS), \n",
    "        (NUM_LINKS, SPAT_FEATURE_COUNT), \n",
    "        (PRIDICT_LENGTH, NUM_LINKS), \n",
    "        losses.MeanAbsolutePercentageError()\n",
    "    )\n",
    "    \n",
    "    histories_MAPE.append(model.fit(\n",
    "        train_generator, \n",
    "        steps_per_epoch=temp_train.shape[0] // b_size, \n",
    "        epochs=100, \n",
    "        callbacks=earlystop, \n",
    "        validation_data=next(validation_generator)))\n",
    "    \n",
    "    test_loss_MAPE.append(model.evaluate(test_generator, steps=temp_test.shape[0] // b_size))\n",
    "    \n",
    "    tf.keras.backend.clear_session()"
   ]
  },
  {
   "cell_type": "code",
   "execution_count": 42,
   "metadata": {},
   "outputs": [
    {
     "data": {
      "text/plain": [
       "[89.0323715209961,\n",
       " 89.03236389160156,\n",
       " 89.0323486328125,\n",
       " 89.03234100341797,\n",
       " 90.16481018066406]"
      ]
     },
     "execution_count": 42,
     "metadata": {},
     "output_type": "execute_result"
    }
   ],
   "source": [
    "test_loss_MAPE"
   ]
  },
  {
   "cell_type": "code",
   "execution_count": 44,
   "metadata": {},
   "outputs": [
    {
     "data": {
      "text/plain": [
       "[0.00022527959663420916,\n",
       " 0.00022527952387463301,\n",
       " 0.00022527952387463301,\n",
       " 0.00022527958208229393,\n",
       " 0.0002448454615660012]"
      ]
     },
     "execution_count": 44,
     "metadata": {},
     "output_type": "execute_result"
    }
   ],
   "source": [
    "test_loss_MSE"
   ]
  },
  {
   "cell_type": "code",
   "execution_count": 53,
   "metadata": {},
   "outputs": [],
   "source": [
    "MSE_train = np.empty(len(histories_MSE))\n",
    "MSE_valid = np.empty(len(histories_MSE))\n",
    "for i, each in enumerate(histories_MSE):\n",
    "    MSE_train[i] = each.history['loss'][-1]\n",
    "    MSE_valid[i] = each.history['val_loss'][-1]"
   ]
  },
  {
   "cell_type": "code",
   "execution_count": 55,
   "metadata": {},
   "outputs": [
    {
     "data": {
      "text/plain": [
       "(array([0.00018701, 0.00018701, 0.00018701, 0.00018701, 0.00018701]),\n",
       " array([4.78733309e-05, 1.10684494e-04, 2.22032046e-04, 3.22257052e-04,\n",
       "        3.70964379e-04]),\n",
       " [0.00022527959663420916,\n",
       "  0.00022527952387463301,\n",
       "  0.00022527952387463301,\n",
       "  0.00022527958208229393,\n",
       "  0.0002448454615660012])"
      ]
     },
     "execution_count": 55,
     "metadata": {},
     "output_type": "execute_result"
    }
   ],
   "source": [
    "MSE_train, MSE_valid, test_loss_MSE"
   ]
  },
  {
   "cell_type": "code",
   "execution_count": 56,
   "metadata": {},
   "outputs": [],
   "source": [
    "MAPE_train = np.empty(len(histories_MAPE))\n",
    "MAPE_valid = np.empty(len(histories_MAPE))\n",
    "for i, each in enumerate(histories_MAPE):\n",
    "    MAPE_train[i] = each.history['loss'][-1]\n",
    "    MAPE_valid[i] = each.history['val_loss'][-1]"
   ]
  },
  {
   "cell_type": "code",
   "execution_count": 57,
   "metadata": {},
   "outputs": [
    {
     "data": {
      "text/plain": [
       "(array([85.30532837, 85.30532074, 85.305336  , 85.30532837, 85.305336  ]),\n",
       " array([65.1136322 , 78.50588989, 85.36351013, 85.25628662, 85.20642853]),\n",
       " [89.0323715209961,\n",
       "  89.03236389160156,\n",
       "  89.0323486328125,\n",
       "  89.03234100341797,\n",
       "  90.16481018066406])"
      ]
     },
     "execution_count": 57,
     "metadata": {},
     "output_type": "execute_result"
    }
   ],
   "source": [
    "MAPE_train, MAPE_valid, test_loss_MAPE"
   ]
  },
  {
   "cell_type": "code",
   "execution_count": 62,
   "metadata": {},
   "outputs": [],
   "source": [
    "class GCN(layers.Layer):\n",
    "    def __init__(self, units, adj_norm):\n",
    "        super(GCN, self).__init__()\n",
    "        self.units = units\n",
    "\n",
    "        self.adj_norm = adj_norm\n",
    "\n",
    "        self.a = layers.Activation('relu')\n",
    "\n",
    "    def build(self, input_shape):\n",
    "        self.kernel = self.add_weight('kernel', shape=[int(input_shape[-1]), self.units])\n",
    "        self.bias = self.add_weight('bias', shape=[self.units])\n",
    "\n",
    "    def call(self, input):\n",
    "        output = tf.matmul(self.adj_norm, input)\n",
    "        output = tf.matmul(output, self.kernel) + self.bias\n",
    "        output = self.a(output)\n",
    "        return output"
   ]
  },
  {
   "cell_type": "code",
   "execution_count": 63,
   "metadata": {},
   "outputs": [],
   "source": [
    "def preprocessGraph(adj : np.ndarray, c=1):\n",
    "    _adj = adj + c * sp.eye(adj.shape[0])\n",
    "    _dseq = _adj.sum(1).A1\n",
    "    _D_half = sp.diags(np.power(_dseq, -0.5))\n",
    "    return tf.convert_to_tensor(_D_half @ _adj @ _D_half, dtype='float32')"
   ]
  },
  {
   "cell_type": "code",
   "execution_count": 64,
   "metadata": {},
   "outputs": [],
   "source": [
    "spac_data = preprocessGraph(adj_matrix.numpy())\n",
    "stat_data = tf.reshape(links[:, 2], (links.shape[0], 1))"
   ]
  },
  {
   "cell_type": "code",
   "execution_count": 77,
   "metadata": {},
   "outputs": [],
   "source": [
    "class GCN_LSTM(keras.Model):\n",
    "    def __init__(\n",
    "            self, \n",
    "            temporal_input_shape, \n",
    "            adj_norm, \n",
    "            static_input_shape, \n",
    "            output_shape, \n",
    "            ):\n",
    "        super(GCN_LSTM, self).__init__()\n",
    "\n",
    "        gcn_units = 20\n",
    "        self.gcn = GCN(units=gcn_units, adj_norm=adj_norm)\n",
    "\n",
    "        self.flatten_stat = layers.Flatten()\n",
    "        self.repeat_stat = layers.RepeatVector(temporal_input_shape[0])\n",
    "        self.reshape_stat = layers.Reshape(\n",
    "            target_shape=(temporal_input_shape[0], static_input_shape[0], static_input_shape[1]), \n",
    "            name=\"Reshape_Static\"\n",
    "        )\n",
    "\n",
    "        self.concatenate = layers.Concatenate(axis=-1, name=\"Concatenate\")\n",
    "\n",
    "        lstm = keras.Sequential([\n",
    "            layers.LSTM(units=100, dropout=0.2, return_sequences=True),\n",
    "            layers.LSTM(units=100, dropout=0.2, return_sequences=True),\n",
    "            layers.LSTM(units=100, dropout=0.2)\n",
    "            ], name=\"LSTM_Layers\"\n",
    "        )\n",
    "\n",
    "        self.lstm = keras.Sequential([\n",
    "            layers.TimeDistributed(lstm, input_shape=(\n",
    "                temporal_input_shape[1], \n",
    "                temporal_input_shape[0], \n",
    "                gcn_units+static_input_shape[-1]\n",
    "            ))\n",
    "        ])\n",
    "\n",
    "        dense = layers.Dense(units=output_shape[1], activation='relu', name=\"Dense\")\n",
    "\n",
    "        self.dense = keras.Sequential([\n",
    "            layers.TimeDistributed(dense, input_shape=(temporal_input_shape[1], 100))\n",
    "        ])\n",
    "\n",
    "\n",
    "    \n",
    "    def call(self, inputs, training=None):\n",
    "        temp = inputs[0]    # [30, 132, 19]\n",
    "        stat = inputs[1]    # [132, 1]\n",
    "        \n",
    "        # [132, 1] -> [30, 132, 1]\n",
    "        stat = self.flatten_stat(stat)\n",
    "        stat = self.repeat_stat(stat)\n",
    "        stat = self.reshape_stat(stat)\n",
    "\n",
    "        # [30, 132, 19] -> [30, 132, 20]\n",
    "        temp = self.gcn(temp)\n",
    "\n",
    "        # [30, 132, 20] + [30, 132, 1]\n",
    "        al = self.concatenate([temp, stat])\n",
    "\n",
    "        # [30, 132, 21] -> [132, 30, 21]\n",
    "        al = tf.transpose(al, perm=[0, 2, 1, 3])\n",
    "        \n",
    "        # [132, 30, 21] -> [132, 100]\n",
    "        al = self.lstm(al)\n",
    "\n",
    "        # [132, 100] -> [132, 15]\n",
    "        al = self.dense(al)\n",
    "\n",
    "        al = tf.transpose(al, perm=[0, 2, 1])\n",
    "\n",
    "        return al"
   ]
  },
  {
   "cell_type": "code",
   "execution_count": 78,
   "metadata": {},
   "outputs": [],
   "source": [
    "def createModel(temporal_shape, adj_norm, static_shape, output_shape, loss=losses.MeanSquaredError()):\n",
    "    model = GCN_LSTM(\n",
    "        temporal_input_shape=temporal_shape,\n",
    "        adj_norm=adj_norm,\n",
    "        static_input_shape=static_shape,\n",
    "        output_shape=output_shape\n",
    "    )\n",
    "\n",
    "    model.build(input_shape=[(None, )+temporal_shape, (None, )+static_shape])\n",
    "    model.compile(optimizer='adam', loss=loss)\n",
    "    return model"
   ]
  },
  {
   "cell_type": "code",
   "execution_count": 79,
   "metadata": {},
   "outputs": [],
   "source": [
    "model = createModel(\n",
    "    (INPUT_LENGTH, NUM_LINKS, FEATURE_COUNT), \n",
    "    spac_data, \n",
    "    (NUM_LINKS, SPAT_FEATURE_COUNT), \n",
    "    (PRIDICT_LENGTH, NUM_LINKS))\n",
    "model.summary()"
   ]
  },
  {
   "cell_type": "code",
   "execution_count": 71,
   "metadata": {},
   "outputs": [],
   "source": [
    "def generateInOutSeq(\n",
    "        data : tf.Tensor, \n",
    "        in_length : int, \n",
    "        out_length : int, \n",
    "        stat_data : tf.Tensor,\n",
    "        batch_size : int):\n",
    "    '''\n",
    "    data shape: [in_length + n + out_length, 132, 18]\n",
    "    in (x) shape: [n, in_length, 132, 18]\n",
    "    out (y) shape: [n, out_length, 132, 1] -> [n, out_length, 132]\n",
    "    '''\n",
    "    n = data.shape[0] - in_length - out_length\n",
    "    while True:\n",
    "        for i in range(0, n, batch_size):\n",
    "            x_batch = np.zeros((batch_size, in_length, data.shape[1], data.shape[2]))\n",
    "            y_batch = np.zeros((batch_size, out_length, data.shape[1]))\n",
    "            for j in range(min(batch_size, n - i)):\n",
    "                current = i + j\n",
    "                x_batch[j] = data[current:current+in_length]\n",
    "                y_batch[j] = data[current+in_length:current+in_length+out_length, :, -1]\n",
    "            yield ((\n",
    "                x_batch, \n",
    "                tf.broadcast_to(stat_data, [batch_size, ]+stat_data.shape)\n",
    "                ), y_batch)"
   ]
  },
  {
   "cell_type": "code",
   "execution_count": 72,
   "metadata": {},
   "outputs": [],
   "source": [
    "train_generator = generateInOutSeq(temp_train, INPUT_LENGTH, PRIDICT_LENGTH, stat_data, BATCH_SIZE)\n",
    "validation_generator = generateInOutSeq(temp_valid, INPUT_LENGTH, PRIDICT_LENGTH, stat_data, BATCH_SIZE)\n",
    "test_generator = generateInOutSeq(temp_test, INPUT_LENGTH, PRIDICT_LENGTH, stat_data, BATCH_SIZE)"
   ]
  },
  {
   "cell_type": "code",
   "execution_count": 73,
   "metadata": {},
   "outputs": [
    {
     "name": "stdout",
     "output_type": "stream",
     "text": [
      "Epoch 1/100\n"
     ]
    },
    {
     "ename": "InternalError",
     "evalue": "Graph execution error:\n\nDetected at node CudnnRNN defined at (most recent call last):\n<stack traces unavailable>\nFailed to call ThenRnnForward with model config: [rnn_mode, rnn_input_mode, rnn_direction_mode]: 2, 0, 0 , [num_layers, input_size, num_units, dir_count, max_seq_length, batch_size, cell_num_units]: [1, 21, 100, 1, 30, 95040, 100] \n\t [[{{node CudnnRNN}}]]\n\t [[gcn_lstm_3/sequential_6/time_distributed_6/LSTM_Layers/lstm_9/PartitionedCall]] [Op:__inference_train_function_36170]",
     "output_type": "error",
     "traceback": [
      "\u001b[0;31m---------------------------------------------------------------------------\u001b[0m",
      "\u001b[0;31mInternalError\u001b[0m                             Traceback (most recent call last)",
      "Cell \u001b[0;32mIn[73], line 2\u001b[0m\n\u001b[1;32m      1\u001b[0m earlystop \u001b[38;5;241m=\u001b[39m callbacks\u001b[38;5;241m.\u001b[39mEarlyStopping(monitor\u001b[38;5;241m=\u001b[39m\u001b[38;5;124m'\u001b[39m\u001b[38;5;124mloss\u001b[39m\u001b[38;5;124m'\u001b[39m, min_delta\u001b[38;5;241m=\u001b[39m\u001b[38;5;241m0\u001b[39m, patience\u001b[38;5;241m=\u001b[39m\u001b[38;5;241m3\u001b[39m, verbose\u001b[38;5;241m=\u001b[39m\u001b[38;5;241m1\u001b[39m, restore_best_weights\u001b[38;5;241m=\u001b[39m\u001b[38;5;28;01mTrue\u001b[39;00m)\n\u001b[0;32m----> 2\u001b[0m history \u001b[38;5;241m=\u001b[39m \u001b[43mmodel\u001b[49m\u001b[38;5;241;43m.\u001b[39;49m\u001b[43mfit\u001b[49m\u001b[43m(\u001b[49m\n\u001b[1;32m      3\u001b[0m \u001b[43m    \u001b[49m\u001b[43mtrain_generator\u001b[49m\u001b[43m,\u001b[49m\u001b[43m \u001b[49m\n\u001b[1;32m      4\u001b[0m \u001b[43m    \u001b[49m\u001b[43msteps_per_epoch\u001b[49m\u001b[38;5;241;43m=\u001b[39;49m\u001b[43mtemp_train\u001b[49m\u001b[38;5;241;43m.\u001b[39;49m\u001b[43mshape\u001b[49m\u001b[43m[\u001b[49m\u001b[38;5;241;43m0\u001b[39;49m\u001b[43m]\u001b[49m\u001b[43m \u001b[49m\u001b[38;5;241;43m/\u001b[39;49m\u001b[38;5;241;43m/\u001b[39;49m\u001b[43m \u001b[49m\u001b[43mBATCH_SIZE\u001b[49m\u001b[43m,\u001b[49m\u001b[43m \u001b[49m\n\u001b[1;32m      5\u001b[0m \u001b[43m    \u001b[49m\u001b[43mepochs\u001b[49m\u001b[38;5;241;43m=\u001b[39;49m\u001b[38;5;241;43m100\u001b[39;49m\u001b[43m,\u001b[49m\u001b[43m \u001b[49m\n\u001b[1;32m      6\u001b[0m \u001b[43m    \u001b[49m\u001b[43mcallbacks\u001b[49m\u001b[38;5;241;43m=\u001b[39;49m\u001b[43mearlystop\u001b[49m\u001b[43m,\u001b[49m\u001b[43m \u001b[49m\n\u001b[1;32m      7\u001b[0m \u001b[43m    \u001b[49m\u001b[43mvalidation_data\u001b[49m\u001b[38;5;241;43m=\u001b[39;49m\u001b[38;5;28;43mnext\u001b[39;49m\u001b[43m(\u001b[49m\u001b[43mvalidation_generator\u001b[49m\u001b[43m)\u001b[49m\n\u001b[1;32m      8\u001b[0m \u001b[43m)\u001b[49m\n",
      "File \u001b[0;32m~/.local/lib/python3.10/site-packages/keras/src/utils/traceback_utils.py:70\u001b[0m, in \u001b[0;36mfilter_traceback.<locals>.error_handler\u001b[0;34m(*args, **kwargs)\u001b[0m\n\u001b[1;32m     67\u001b[0m     filtered_tb \u001b[38;5;241m=\u001b[39m _process_traceback_frames(e\u001b[38;5;241m.\u001b[39m__traceback__)\n\u001b[1;32m     68\u001b[0m     \u001b[38;5;66;03m# To get the full stack trace, call:\u001b[39;00m\n\u001b[1;32m     69\u001b[0m     \u001b[38;5;66;03m# `tf.debugging.disable_traceback_filtering()`\u001b[39;00m\n\u001b[0;32m---> 70\u001b[0m     \u001b[38;5;28;01mraise\u001b[39;00m e\u001b[38;5;241m.\u001b[39mwith_traceback(filtered_tb) \u001b[38;5;28;01mfrom\u001b[39;00m \u001b[38;5;28;01mNone\u001b[39;00m\n\u001b[1;32m     71\u001b[0m \u001b[38;5;28;01mfinally\u001b[39;00m:\n\u001b[1;32m     72\u001b[0m     \u001b[38;5;28;01mdel\u001b[39;00m filtered_tb\n",
      "File \u001b[0;32m~/.local/lib/python3.10/site-packages/tensorflow/python/eager/execute.py:53\u001b[0m, in \u001b[0;36mquick_execute\u001b[0;34m(op_name, num_outputs, inputs, attrs, ctx, name)\u001b[0m\n\u001b[1;32m     51\u001b[0m \u001b[38;5;28;01mtry\u001b[39;00m:\n\u001b[1;32m     52\u001b[0m   ctx\u001b[38;5;241m.\u001b[39mensure_initialized()\n\u001b[0;32m---> 53\u001b[0m   tensors \u001b[38;5;241m=\u001b[39m pywrap_tfe\u001b[38;5;241m.\u001b[39mTFE_Py_Execute(ctx\u001b[38;5;241m.\u001b[39m_handle, device_name, op_name,\n\u001b[1;32m     54\u001b[0m                                       inputs, attrs, num_outputs)\n\u001b[1;32m     55\u001b[0m \u001b[38;5;28;01mexcept\u001b[39;00m core\u001b[38;5;241m.\u001b[39m_NotOkStatusException \u001b[38;5;28;01mas\u001b[39;00m e:\n\u001b[1;32m     56\u001b[0m   \u001b[38;5;28;01mif\u001b[39;00m name \u001b[38;5;129;01mis\u001b[39;00m \u001b[38;5;129;01mnot\u001b[39;00m \u001b[38;5;28;01mNone\u001b[39;00m:\n",
      "\u001b[0;31mInternalError\u001b[0m: Graph execution error:\n\nDetected at node CudnnRNN defined at (most recent call last):\n<stack traces unavailable>\nFailed to call ThenRnnForward with model config: [rnn_mode, rnn_input_mode, rnn_direction_mode]: 2, 0, 0 , [num_layers, input_size, num_units, dir_count, max_seq_length, batch_size, cell_num_units]: [1, 21, 100, 1, 30, 95040, 100] \n\t [[{{node CudnnRNN}}]]\n\t [[gcn_lstm_3/sequential_6/time_distributed_6/LSTM_Layers/lstm_9/PartitionedCall]] [Op:__inference_train_function_36170]"
     ]
    }
   ],
   "source": [
    "earlystop = callbacks.EarlyStopping(monitor='loss', min_delta=0, patience=3, verbose=1, restore_best_weights=True)\n",
    "history = model.fit(\n",
    "    train_generator, \n",
    "    steps_per_epoch=temp_train.shape[0] // BATCH_SIZE, \n",
    "    epochs=100, \n",
    "    callbacks=earlystop, \n",
    "    validation_data=next(validation_generator)\n",
    ")"
   ]
  },
  {
   "cell_type": "code",
   "execution_count": null,
   "metadata": {},
   "outputs": [],
   "source": []
  }
 ],
 "metadata": {
  "kernelspec": {
   "display_name": "Python 3 (ipykernel)",
   "language": "python",
   "name": "python3"
  },
  "language_info": {
   "codemirror_mode": {
    "name": "ipython",
    "version": 3
   },
   "file_extension": ".py",
   "mimetype": "text/x-python",
   "name": "python",
   "nbconvert_exporter": "python",
   "pygments_lexer": "ipython3",
   "version": "3.10.12"
  }
 },
 "nbformat": 4,
 "nbformat_minor": 4
}
