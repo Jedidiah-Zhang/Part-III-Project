{
 "cells": [
  {
   "cell_type": "code",
   "execution_count": 31,
   "metadata": {},
   "outputs": [],
   "source": [
    "import tensorflow as tf\n",
    "from keras.models import Sequential\n",
    "from keras.layers import LSTM, Dense, Dropout\n",
    "from keras.callbacks import EarlyStopping\n",
    "from sklearn import preprocessing\n",
    "from sklearn.model_selection import train_test_split\n",
    "import numpy as np\n",
    "import matplotlib.pyplot as plt\n",
    "from matplotlib.pyplot import MultipleLocator\n",
    "import csv"
   ]
  },
  {
   "cell_type": "code",
   "execution_count": 2,
   "metadata": {},
   "outputs": [],
   "source": [
    "def load_expanded_data():\n",
    "    l = []\n",
    "    with open(\"..\\datasets\\expanded_data.csv\", \"rt\") as f:\n",
    "        reader = csv.reader(f)\n",
    "        for row in reader:\n",
    "            if (row == []): continue\n",
    "            id = [row[0]]\n",
    "            values = [float(x) for x in row[1:]]\n",
    "            id.extend(values)\n",
    "            l.append(id)\n",
    "    return l"
   ]
  },
  {
   "cell_type": "code",
   "execution_count": 3,
   "metadata": {},
   "outputs": [],
   "source": [
    "def sort_samples_by_link(data):\n",
    "    sorted_data = {}\n",
    "    for record in data:\n",
    "        if record[0] in sorted_data.keys():\n",
    "            sorted_data[record[0]].append(record[1:])\n",
    "        else: sorted_data[record[0]] = [record[1:]]\n",
    "    return sorted_data"
   ]
  },
  {
   "cell_type": "code",
   "execution_count": 4,
   "metadata": {},
   "outputs": [],
   "source": [
    "ExpandedDataLoaded = sort_samples_by_link(load_expanded_data())"
   ]
  },
  {
   "cell_type": "code",
   "execution_count": 6,
   "metadata": {},
   "outputs": [],
   "source": [
    "def normalize(vector):\n",
    "    scaler = preprocessing.MinMaxScaler()\n",
    "    return scaler.fit_transform(vector)"
   ]
  },
  {
   "cell_type": "code",
   "execution_count": 9,
   "metadata": {},
   "outputs": [],
   "source": [
    "useData = np.array(ExpandedDataLoaded['4377906280329500514'])"
   ]
  },
  {
   "cell_type": "code",
   "execution_count": 10,
   "metadata": {},
   "outputs": [
    {
     "data": {
      "text/plain": [
       "(62850, 75)"
      ]
     },
     "execution_count": 10,
     "metadata": {},
     "output_type": "execute_result"
    }
   ],
   "source": [
    "useData.shape"
   ]
  },
  {
   "cell_type": "code",
   "execution_count": 12,
   "metadata": {},
   "outputs": [],
   "source": [
    "useData[:, 68] = normalize(useData[:, 68].reshape(-1, 1)).reshape(1, -1)\n",
    "useData[:, 71:] = normalize(useData[:, 71:])"
   ]
  },
  {
   "cell_type": "code",
   "execution_count": 15,
   "metadata": {},
   "outputs": [
    {
     "data": {
      "text/plain": [
       "array([0.        , 1.        , 0.        , 0.        , 0.        ,\n",
       "       0.        , 0.        , 1.        , 0.        , 0.        ,\n",
       "       0.        , 0.        , 0.        , 1.        , 0.        ,\n",
       "       0.        , 0.        , 0.        , 0.        , 0.        ,\n",
       "       0.        , 0.        , 0.        , 0.        , 0.        ,\n",
       "       0.        , 0.        , 0.        , 0.        , 0.        ,\n",
       "       0.        , 0.        , 0.        , 0.        , 0.        ,\n",
       "       0.        , 0.        , 0.        , 0.        , 0.        ,\n",
       "       0.        , 0.        , 0.        , 0.        , 1.        ,\n",
       "       0.        , 0.        , 0.        , 0.        , 0.        ,\n",
       "       0.        , 0.        , 0.        , 0.        , 0.        ,\n",
       "       0.        , 0.        , 0.        , 0.        , 0.        ,\n",
       "       0.        , 0.        , 0.        , 0.        , 0.        ,\n",
       "       0.        , 0.        , 0.        , 0.        , 0.        ,\n",
       "       0.        , 0.        , 0.        , 0.37005662, 0.01031371])"
      ]
     },
     "execution_count": 15,
     "metadata": {},
     "output_type": "execute_result"
    }
   ],
   "source": [
    "useData[0]"
   ]
  },
  {
   "cell_type": "code",
   "execution_count": 20,
   "metadata": {},
   "outputs": [],
   "source": [
    "def create_inout_sequences(data, shape):\n",
    "    x = np.zeros((data.shape[0]-shape[0], shape[0], shape[1]))\n",
    "    y = np.zeros((data.shape[0]-shape[0], 1))\n",
    "    for i in range(data.shape[0]-shape[0]):\n",
    "        train_seq = data[i:i+shape[0]]\n",
    "        train_lbl = data[i+shape[0]:i+shape[0]+1][0][-1]\n",
    "        x[i] = train_seq\n",
    "        y[i] = train_lbl\n",
    "    return x, y"
   ]
  },
  {
   "cell_type": "code",
   "execution_count": 32,
   "metadata": {},
   "outputs": [],
   "source": [
    "x, y = create_inout_sequences(useData, [30, 75])"
   ]
  },
  {
   "cell_type": "code",
   "execution_count": 33,
   "metadata": {},
   "outputs": [
    {
     "data": {
      "text/plain": [
       "((62820, 30, 75), (62820, 1))"
      ]
     },
     "execution_count": 33,
     "metadata": {},
     "output_type": "execute_result"
    }
   ],
   "source": [
    "x.shape, y.shape"
   ]
  },
  {
   "cell_type": "code",
   "execution_count": 35,
   "metadata": {},
   "outputs": [],
   "source": [
    "X_train, X_test, y_train, y_test = train_test_split(x, y, test_size=0.1, shuffle=True)"
   ]
  },
  {
   "cell_type": "code",
   "execution_count": 37,
   "metadata": {},
   "outputs": [
    {
     "data": {
      "text/plain": [
       "((56538, 30, 75), (56538, 1))"
      ]
     },
     "execution_count": 37,
     "metadata": {},
     "output_type": "execute_result"
    }
   ],
   "source": [
    "X_train.shape, y_train.shape"
   ]
  },
  {
   "cell_type": "code",
   "execution_count": 38,
   "metadata": {},
   "outputs": [
    {
     "data": {
      "text/plain": [
       "((6282, 30, 75), (6282, 1))"
      ]
     },
     "execution_count": 38,
     "metadata": {},
     "output_type": "execute_result"
    }
   ],
   "source": [
    "X_test.shape, y_test.shape"
   ]
  },
  {
   "cell_type": "code",
   "execution_count": 65,
   "metadata": {},
   "outputs": [
    {
     "name": "stdout",
     "output_type": "stream",
     "text": [
      "Model: \"sequential_4\"\n",
      "_________________________________________________________________\n",
      " Layer (type)                Output Shape              Param #   \n",
      "=================================================================\n",
      " lstm_3 (LSTM)               (None, 140)               120960    \n",
      "                                                                 \n",
      " dropout_3 (Dropout)         (None, 140)               0         \n",
      "                                                                 \n",
      " dense_3 (Dense)             (None, 1)                 141       \n",
      "                                                                 \n",
      "=================================================================\n",
      "Total params: 121101 (473.05 KB)\n",
      "Trainable params: 121101 (473.05 KB)\n",
      "Non-trainable params: 0 (0.00 Byte)\n",
      "_________________________________________________________________\n"
     ]
    }
   ],
   "source": [
    "model = Sequential()\n",
    "earlystop = EarlyStopping(monitor='loss', min_delta=0, patience=3, verbose=1, restore_best_weights=True)\n",
    "model.add(LSTM(units=140, return_sequences=False, input_shape=(X_train.shape[1], X_train.shape[2])))\n",
    "model.add(Dropout(0.2))\n",
    "model.add(Dense(units=1, activation='sigmoid'))\n",
    "model.compile(optimizer='adam', loss=tf.keras.losses.MeanSquaredError())\n",
    "model.summary()"
   ]
  },
  {
   "cell_type": "code",
   "execution_count": 66,
   "metadata": {},
   "outputs": [
    {
     "name": "stdout",
     "output_type": "stream",
     "text": [
      "Epoch 1/100\n",
      "566/566 [==============================] - 8s 13ms/step - loss: 0.0035\n",
      "Epoch 2/100\n",
      "566/566 [==============================] - 7s 13ms/step - loss: 0.0016\n",
      "Epoch 3/100\n",
      "566/566 [==============================] - 8s 13ms/step - loss: 0.0014\n",
      "Epoch 4/100\n",
      "566/566 [==============================] - 7s 13ms/step - loss: 0.0012\n",
      "Epoch 5/100\n",
      "566/566 [==============================] - 7s 13ms/step - loss: 0.0011\n",
      "Epoch 6/100\n",
      "566/566 [==============================] - 7s 13ms/step - loss: 0.0011\n",
      "Epoch 7/100\n",
      "566/566 [==============================] - 7s 13ms/step - loss: 0.0010\n",
      "Epoch 8/100\n",
      "566/566 [==============================] - 7s 13ms/step - loss: 0.0010\n",
      "Epoch 9/100\n",
      "566/566 [==============================] - 7s 13ms/step - loss: 0.0010\n",
      "Epoch 10/100\n",
      "566/566 [==============================] - 7s 13ms/step - loss: 9.9365e-04\n",
      "Epoch 11/100\n",
      "566/566 [==============================] - 7s 13ms/step - loss: 9.8852e-04\n",
      "Epoch 12/100\n",
      "566/566 [==============================] - 7s 13ms/step - loss: 9.7626e-04\n",
      "Epoch 13/100\n",
      "566/566 [==============================] - 7s 13ms/step - loss: 9.7446e-04\n",
      "Epoch 14/100\n",
      "566/566 [==============================] - 7s 13ms/step - loss: 9.6474e-04\n",
      "Epoch 15/100\n",
      "566/566 [==============================] - 7s 13ms/step - loss: 9.6329e-04\n",
      "Epoch 16/100\n",
      "566/566 [==============================] - 7s 13ms/step - loss: 9.5231e-04\n",
      "Epoch 17/100\n",
      "566/566 [==============================] - 8s 14ms/step - loss: 9.3796e-04\n",
      "Epoch 18/100\n",
      "566/566 [==============================] - 8s 13ms/step - loss: 9.3545e-04\n",
      "Epoch 19/100\n",
      "566/566 [==============================] - 7s 13ms/step - loss: 9.2526e-04\n",
      "Epoch 20/100\n",
      "566/566 [==============================] - 7s 13ms/step - loss: 9.2466e-04\n",
      "Epoch 21/100\n",
      "566/566 [==============================] - 7s 13ms/step - loss: 9.1623e-04\n",
      "Epoch 22/100\n",
      "566/566 [==============================] - 7s 13ms/step - loss: 9.0712e-04\n",
      "Epoch 23/100\n",
      "566/566 [==============================] - 7s 13ms/step - loss: 9.0598e-04\n",
      "Epoch 24/100\n",
      "566/566 [==============================] - 7s 13ms/step - loss: 8.9475e-04\n",
      "Epoch 25/100\n",
      "566/566 [==============================] - 8s 13ms/step - loss: 8.9107e-04\n",
      "Epoch 26/100\n",
      "566/566 [==============================] - 7s 13ms/step - loss: 8.8365e-04\n",
      "Epoch 27/100\n",
      "566/566 [==============================] - 8s 13ms/step - loss: 8.7400e-04\n",
      "Epoch 28/100\n",
      "566/566 [==============================] - 7s 13ms/step - loss: 8.7191e-04\n",
      "Epoch 29/100\n",
      "566/566 [==============================] - 7s 13ms/step - loss: 8.6018e-04\n",
      "Epoch 30/100\n",
      "566/566 [==============================] - 7s 13ms/step - loss: 8.5223e-04\n",
      "Epoch 31/100\n",
      "566/566 [==============================] - 7s 13ms/step - loss: 8.4593e-04\n",
      "Epoch 32/100\n",
      "566/566 [==============================] - 7s 13ms/step - loss: 8.4500e-04\n",
      "Epoch 33/100\n",
      "566/566 [==============================] - 7s 13ms/step - loss: 8.3847e-04\n",
      "Epoch 34/100\n",
      "566/566 [==============================] - 7s 13ms/step - loss: 8.2788e-04\n",
      "Epoch 35/100\n",
      "566/566 [==============================] - 7s 13ms/step - loss: 8.2564e-04\n",
      "Epoch 36/100\n",
      "566/566 [==============================] - 8s 13ms/step - loss: 8.1509e-04\n",
      "Epoch 37/100\n",
      "566/566 [==============================] - 7s 13ms/step - loss: 8.1311e-04\n",
      "Epoch 38/100\n",
      "566/566 [==============================] - 7s 13ms/step - loss: 8.1283e-04\n",
      "Epoch 39/100\n",
      "566/566 [==============================] - 7s 13ms/step - loss: 7.9832e-04\n",
      "Epoch 40/100\n",
      "566/566 [==============================] - 7s 13ms/step - loss: 7.8698e-04\n",
      "Epoch 41/100\n",
      "566/566 [==============================] - 7s 13ms/step - loss: 7.8462e-04\n",
      "Epoch 42/100\n",
      "566/566 [==============================] - 7s 13ms/step - loss: 7.7985e-04\n",
      "Epoch 43/100\n",
      "566/566 [==============================] - 7s 13ms/step - loss: 7.8053e-04\n",
      "Epoch 44/100\n",
      "566/566 [==============================] - 7s 13ms/step - loss: 7.6654e-04\n",
      "Epoch 45/100\n",
      "566/566 [==============================] - 7s 13ms/step - loss: 7.6281e-04\n",
      "Epoch 46/100\n",
      "566/566 [==============================] - 7s 13ms/step - loss: 7.6211e-04\n",
      "Epoch 47/100\n",
      "566/566 [==============================] - 7s 13ms/step - loss: 7.4575e-04\n",
      "Epoch 48/100\n",
      "566/566 [==============================] - 7s 13ms/step - loss: 7.4456e-04\n",
      "Epoch 49/100\n",
      "566/566 [==============================] - 7s 13ms/step - loss: 7.4465e-04\n",
      "Epoch 50/100\n",
      "566/566 [==============================] - 7s 13ms/step - loss: 7.3874e-04\n",
      "Epoch 51/100\n",
      "566/566 [==============================] - 7s 13ms/step - loss: 7.3399e-04\n",
      "Epoch 52/100\n",
      "566/566 [==============================] - 8s 13ms/step - loss: 7.1532e-04\n",
      "Epoch 53/100\n",
      "566/566 [==============================] - 7s 13ms/step - loss: 7.2013e-04\n",
      "Epoch 54/100\n",
      "566/566 [==============================] - 7s 13ms/step - loss: 7.1067e-04\n",
      "Epoch 55/100\n",
      "566/566 [==============================] - 7s 13ms/step - loss: 7.2268e-04\n",
      "Epoch 56/100\n",
      "566/566 [==============================] - 7s 13ms/step - loss: 6.8821e-04\n",
      "Epoch 57/100\n",
      "566/566 [==============================] - 7s 13ms/step - loss: 6.9066e-04\n",
      "Epoch 58/100\n",
      "566/566 [==============================] - 7s 13ms/step - loss: 6.7624e-04\n",
      "Epoch 59/100\n",
      "566/566 [==============================] - 8s 13ms/step - loss: 6.7606e-04\n",
      "Epoch 60/100\n",
      "566/566 [==============================] - 7s 13ms/step - loss: 6.7642e-04\n",
      "Epoch 61/100\n",
      "566/566 [==============================] - 7s 13ms/step - loss: 6.7256e-04\n",
      "Epoch 62/100\n",
      "566/566 [==============================] - 7s 13ms/step - loss: 6.6296e-04\n",
      "Epoch 63/100\n",
      "566/566 [==============================] - 7s 13ms/step - loss: 6.5463e-04\n",
      "Epoch 64/100\n",
      "566/566 [==============================] - 7s 13ms/step - loss: 6.5039e-04\n",
      "Epoch 65/100\n",
      "566/566 [==============================] - 7s 13ms/step - loss: 6.5265e-04\n",
      "Epoch 66/100\n",
      "566/566 [==============================] - 7s 13ms/step - loss: 6.3993e-04\n",
      "Epoch 67/100\n",
      "566/566 [==============================] - 7s 13ms/step - loss: 6.3713e-04\n",
      "Epoch 68/100\n",
      "566/566 [==============================] - 7s 13ms/step - loss: 6.2117e-04\n",
      "Epoch 69/100\n",
      "566/566 [==============================] - 7s 13ms/step - loss: 6.1536e-04\n",
      "Epoch 70/100\n",
      "566/566 [==============================] - 7s 13ms/step - loss: 6.0982e-04\n",
      "Epoch 71/100\n",
      "566/566 [==============================] - 7s 13ms/step - loss: 6.2660e-04\n",
      "Epoch 72/100\n",
      "566/566 [==============================] - 7s 13ms/step - loss: 6.1277e-04\n",
      "Epoch 73/100\n",
      "564/566 [============================>.] - ETA: 0s - loss: 6.1713e-04Restoring model weights from the end of the best epoch: 70.\n",
      "566/566 [==============================] - 7s 13ms/step - loss: 6.1686e-04\n",
      "Epoch 73: early stopping\n"
     ]
    },
    {
     "data": {
      "text/plain": [
       "<keras.src.callbacks.History at 0x207e61d0650>"
      ]
     },
     "execution_count": 66,
     "metadata": {},
     "output_type": "execute_result"
    }
   ],
   "source": [
    "model.fit(X_train, y_train, epochs=100, batch_size=100, callbacks=earlystop)"
   ]
  },
  {
   "cell_type": "code",
   "execution_count": 67,
   "metadata": {},
   "outputs": [
    {
     "name": "stdout",
     "output_type": "stream",
     "text": [
      "197/197 [==============================] - 1s 3ms/step\n"
     ]
    }
   ],
   "source": [
    "y_hat = model.predict(X_test)"
   ]
  },
  {
   "cell_type": "code",
   "execution_count": 68,
   "metadata": {},
   "outputs": [
    {
     "data": {
      "text/plain": [
       "((6282, 1), (6282, 1))"
      ]
     },
     "execution_count": 68,
     "metadata": {},
     "output_type": "execute_result"
    }
   ],
   "source": [
    "y_test.shape, y_hat.shape"
   ]
  },
  {
   "cell_type": "code",
   "execution_count": 69,
   "metadata": {},
   "outputs": [
    {
     "data": {
      "text/plain": [
       "0.00118094285602474"
      ]
     },
     "execution_count": 69,
     "metadata": {},
     "output_type": "execute_result"
    }
   ],
   "source": [
    "np.mean((y_test - y_hat) ** 2)"
   ]
  },
  {
   "cell_type": "code",
   "execution_count": 70,
   "metadata": {},
   "outputs": [
    {
     "data": {
      "image/png": "[encoded data removed]",
      "text/plain": [
       "<Figure size 300x300 with 1 Axes>"
      ]
     },
     "metadata": {},
     "output_type": "display_data"
    }
   ],
   "source": [
    "fig, ax = plt.subplots(figsize=(3,3))\n",
    "ax.scatter(y_test, y_hat, c='m', s=3)\n",
    "ax.grid(True)\n",
    "ax.set_xlabel(\"True Target\", fontsize=12)\n",
    "ax.set_ylabel(\"Prediction\", fontsize=12)\n",
    "ax.set_xscale('log')\n",
    "ax.set_yscale('log')"
   ]
  }
 ],
 "metadata": {
  "kernelspec": {
   "display_name": "Python 3",
   "language": "python",
   "name": "python3"
  },
  "language_info": {
   "codemirror_mode": {
    "name": "ipython",
    "version": 3
   },
   "file_extension": ".py",
   "mimetype": "text/x-python",
   "name": "python",
   "nbconvert_exporter": "python",
   "pygments_lexer": "ipython3",
   "version": "3.11.4"
  }
 },
 "nbformat": 4,
 "nbformat_minor": 2
}
