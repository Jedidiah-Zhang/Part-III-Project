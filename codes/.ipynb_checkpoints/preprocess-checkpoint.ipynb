{
 "cells": [
  {
   "cell_type": "code",
   "execution_count": 2,
   "metadata": {},
   "outputs": [
    {
     "name": "stdout",
     "output_type": "stream",
     "text": [
      "Collecting chinesecalendar\n",
      "  Obtaining dependency information for chinesecalendar from https://files.pythonhosted.org/packages/b0/9e/70893ed9c1c1e237d5fdc6d54211e6d1c86d82be429d663f059ba9658b56/chinesecalendar-1.9.0-py2.py3-none-any.whl.metadata\n",
      "  Downloading chinesecalendar-1.9.0-py2.py3-none-any.whl.metadata (3.0 kB)\n",
      "Downloading chinesecalendar-1.9.0-py2.py3-none-any.whl (11 kB)\n",
      "Installing collected packages: chinesecalendar\n",
      "Successfully installed chinesecalendar-1.9.0\n"
     ]
    }
   ],
   "source": [
    "!pip install chinesecalendar"
   ]
  },
  {
   "cell_type": "code",
   "execution_count": 3,
   "metadata": {},
   "outputs": [],
   "source": [
    "import numpy as np\n",
    "import matplotlib.pyplot as plt\n",
    "from matplotlib.pyplot import MultipleLocator\n",
    "import csv\n",
    "from chinese_calendar import is_holiday\n",
    "import datetime"
   ]
  },
  {
   "cell_type": "code",
   "execution_count": 4,
   "metadata": {},
   "outputs": [],
   "source": [
    "links = {}\n",
    "with open(\"../datasets/gy_link_info.txt\") as csvfile:\n",
    "    csv_reader = csv.reader(csvfile, delimiter=\";\")\n",
    "    header = next(csv_reader)\n",
    "    for row in csv_reader:\n",
    "        ID = row[0]\n",
    "        length = int(row[1])\n",
    "        width = int(row[2])\n",
    "        links[ID] = [length, width]"
   ]
  },
  {
   "cell_type": "code",
   "execution_count": 5,
   "metadata": {},
   "outputs": [],
   "source": [
    "data = []\n",
    "with open(\"../datasets/gy_link_top.txt\") as csvfile:\n",
    "    csv_reader = csv.reader(csvfile, delimiter=\";\")\n",
    "    header = next(csv_reader)\n",
    "    for row in csv_reader:\n",
    "        ID = row[0]\n",
    "        in_links = [-1 if link == \"\" else int(link) for link in row[1].split(\"#\")]\n",
    "        out_links = [0 if link == \"\" else int(link) for link in row[2].split(\"#\")]\n",
    "        data.append([ID, in_links, out_links])\n",
    "MAP = dict(zip([ID[0] for ID in data], [X[1:] for X in data]))"
   ]
  },
  {
   "cell_type": "code",
   "execution_count": 6,
   "metadata": {},
   "outputs": [],
   "source": [
    "def load_data(filename):\n",
    "    data = []\n",
    "    with open(filename) as csvfile:\n",
    "        csv_reader = csv.reader(csvfile, delimiter=\";\")\n",
    "        next(csvfile)\n",
    "        for row in csv_reader:\n",
    "            ID = row[0]\n",
    "            date = [int(x) for x in row[1].split(\"-\")]\n",
    "            [start, end] = row[2].split(\",\")\n",
    "            time_interval = [int(i) for i in start[12:].split(\":\")]\n",
    "            travel_time = float(row[3])\n",
    "            data.append([ID, date[0], date[1], date[2], time_interval[0] * 60 + time_interval[1] + 1, travel_time])\n",
    "    return data"
   ]
  },
  {
   "cell_type": "code",
   "execution_count": 7,
   "metadata": {},
   "outputs": [],
   "source": [
    "row_data = load_data(\"../datasets/gy_link_travel_time_part1.txt\")"
   ]
  },
  {
   "cell_type": "code",
   "execution_count": 8,
   "metadata": {},
   "outputs": [],
   "source": [
    "def sort_samples_by_link(data):\n",
    "    sorted_data = {}\n",
    "    for record in data:\n",
    "        if record[0] in sorted_data.keys():\n",
    "            sorted_data[record[0]].append(record[1:])\n",
    "        else: sorted_data[record[0]] = [record[1:]]\n",
    "    return sorted_data"
   ]
  },
  {
   "cell_type": "code",
   "execution_count": 9,
   "metadata": {},
   "outputs": [],
   "source": [
    "SortedRowDataByLink = sort_samples_by_link(row_data)"
   ]
  },
  {
   "cell_type": "code",
   "execution_count": 10,
   "metadata": {},
   "outputs": [],
   "source": [
    "def sort_samples_by_time(data):\n",
    "    sorted_data = {}\n",
    "    for links in data:\n",
    "        sorted_data[links] = sorted(data[links], key=lambda x: (x[0]-2016)*500000 + x[1]*45000 + x[2]*1440 + x[3])\n",
    "    return sorted_data"
   ]
  },
  {
   "cell_type": "code",
   "execution_count": 11,
   "metadata": {},
   "outputs": [],
   "source": [
    "SortedRowDataByTime = sort_samples_by_time(SortedRowDataByLink)"
   ]
  },
  {
   "cell_type": "code",
   "execution_count": 12,
   "metadata": {},
   "outputs": [],
   "source": [
    "def is_weekend(day):\n",
    "    if (day.weekday() == 4 or day.weekday() == 5):\n",
    "        return True\n",
    "    else: return False"
   ]
  },
  {
   "cell_type": "code",
   "execution_count": 13,
   "metadata": {},
   "outputs": [],
   "source": [
    "def feature_expand(data):\n",
    "    expanded_data = {}\n",
    "\n",
    "    for each in data:\n",
    "        expanded_data[each] = np.zeros((len(data[each]), 75))\n",
    "        for i in range(len(data[each])):\n",
    "            day = datetime.date(data[each][i][0], data[each][i][1], data[each][i][2])\n",
    "\n",
    "            # year\n",
    "            year = data[each][i][0] - 2016\n",
    "            expanded_data[each][i, 0] = year\n",
    "            \n",
    "            # month\n",
    "            expanded_data[each][i, data[each][i][1]-2] = 1\n",
    "\n",
    "            # weekday\n",
    "            expanded_data[each][i, 6 + day.weekday()] = 1\n",
    "\n",
    "            # day of month\n",
    "            expanded_data[each][i, 13 + data[each][i][2]-1] = 1\n",
    "\n",
    "            # hour of day\n",
    "            expanded_data[each][i, 44 + (data[each][i][3]//60)] = 1\n",
    "\n",
    "            # time_of_day\n",
    "            expanded_data[each][i, 68] = data[each][i][3]\n",
    "\n",
    "            # is_holiday\n",
    "            expanded_data[each][i, 69] = int(is_holiday(day))\n",
    "\n",
    "            # is_weekend\n",
    "            expanded_data[each][i, 70] = int(is_weekend(day))\n",
    "\n",
    "            # width\n",
    "            expanded_data[each][i, 71] = links[each][1]\n",
    "\n",
    "            # length\n",
    "            expanded_data[each][i, 72] = links[each][0]\n",
    "\n",
    "            # speed\n",
    "            expanded_data[each][i, 73] = links[each][0] / data[each][i][4]\n",
    "\n",
    "            # travel_time\n",
    "            expanded_data[each][i, 74] = data[each][i][4]\n",
    "\n",
    "    return expanded_data"
   ]
  },
  {
   "cell_type": "code",
   "execution_count": null,
   "metadata": {},
   "outputs": [],
   "source": [
    "ExpandedData = feature_expand(SortedRowDataByTime)"
   ]
  },
  {
   "cell_type": "code",
   "execution_count": 13,
   "metadata": {},
   "outputs": [
    {
     "data": {
      "text/plain": [
       "(63305, 75)"
      ]
     },
     "execution_count": 13,
     "metadata": {},
     "output_type": "execute_result"
    }
   ],
   "source": [
    "ExpandedData['9377906285566510514'].shape"
   ]
  },
  {
   "cell_type": "code",
   "execution_count": 16,
   "metadata": {},
   "outputs": [],
   "source": [
    "def save_expanded_data(data):\n",
    "    with open(\"../datasets/expanded_data_header.csv\", \"w\", newline=\"\") as f:\n",
    "        csv_writer = csv.writer(f)\n",
    "        for each in data:\n",
    "            for i in range(len(data[each])):\n",
    "                row = [each]\n",
    "                row.extend(data[each][i])\n",
    "                csv_writer.writerow(row)\n",
    "            break"
   ]
  },
  {
   "cell_type": "code",
   "execution_count": 17,
   "metadata": {},
   "outputs": [],
   "source": [
    "save_expanded_data(ExpandedData)"
   ]
  },
  {
   "cell_type": "markdown",
   "metadata": {},
   "source": [
    "## 08/02/2024"
   ]
  },
  {
   "cell_type": "code",
   "execution_count": 2,
   "metadata": {},
   "outputs": [
    {
     "ename": "NameError",
     "evalue": "name 'SortedRowDataByTime' is not defined",
     "output_type": "error",
     "traceback": [
      "\u001b[0;31m---------------------------------------------------------------------------\u001b[0m",
      "\u001b[0;31mNameError\u001b[0m                                 Traceback (most recent call last)",
      "Cell \u001b[0;32mIn[2], line 1\u001b[0m\n\u001b[0;32m----> 1\u001b[0m SortedRowDataByTime\n",
      "\u001b[0;31mNameError\u001b[0m: name 'SortedRowDataByTime' is not defined"
     ]
    }
   ],
   "source": [
    "ExpandedData"
   ]
  },
  {
   "cell_type": "code",
   "execution_count": null,
   "metadata": {},
   "outputs": [],
   "source": []
  }
 ],
 "metadata": {
  "kernelspec": {
   "display_name": "Python 3 (ipykernel)",
   "language": "python",
   "name": "python3"
  },
  "language_info": {
   "codemirror_mode": {
    "name": "ipython",
    "version": 3
   },
   "file_extension": ".py",
   "mimetype": "text/x-python",
   "name": "python",
   "nbconvert_exporter": "python",
   "pygments_lexer": "ipython3",
   "version": "3.11.5"
  }
 },
 "nbformat": 4,
 "nbformat_minor": 4
}
